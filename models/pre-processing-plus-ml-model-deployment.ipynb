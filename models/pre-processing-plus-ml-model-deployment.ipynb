{
 "cells": [
  {
   "cell_type": "code",
   "execution_count": 1,
   "id": "bc534039",
   "metadata": {},
   "outputs": [],
   "source": [
    "import numpy as np\n",
    "import pandas as pd\n",
    "import re\n",
    "from colorama import Fore, Back, Style"
   ]
  },
  {
   "cell_type": "code",
   "execution_count": 2,
   "id": "ba8e46de",
   "metadata": {},
   "outputs": [],
   "source": [
    "dataset = pd.read_excel('dataset/maya_dataset.xlsx', engine = 'openpyxl')"
   ]
  },
  {
   "cell_type": "code",
   "execution_count": 3,
   "id": "584afd47",
   "metadata": {},
   "outputs": [],
   "source": [
    "dataset = dataset.iloc[:, 0:2]"
   ]
  },
  {
   "cell_type": "code",
   "execution_count": 4,
   "id": "e699d7e0",
   "metadata": {},
   "outputs": [
    {
     "data": {
      "text/html": [
       "<div>\n",
       "<style scoped>\n",
       "    .dataframe tbody tr th:only-of-type {\n",
       "        vertical-align: middle;\n",
       "    }\n",
       "\n",
       "    .dataframe tbody tr th {\n",
       "        vertical-align: top;\n",
       "    }\n",
       "\n",
       "    .dataframe thead th {\n",
       "        text-align: right;\n",
       "    }\n",
       "</style>\n",
       "<table border=\"1\" class=\"dataframe\">\n",
       "  <thead>\n",
       "    <tr style=\"text-align: right;\">\n",
       "      <th></th>\n",
       "      <th>posts</th>\n",
       "      <th>labels</th>\n",
       "    </tr>\n",
       "  </thead>\n",
       "  <tbody>\n",
       "    <tr>\n",
       "      <th>83</th>\n",
       "      <td>প্রচুর মানসিক চাপে আছি... অযথা চিন্তা করি...বা...</td>\n",
       "      <td>3</td>\n",
       "    </tr>\n",
       "    <tr>\n",
       "      <th>832</th>\n",
       "      <td>জি না তেমন ভালো বোধ করছি না</td>\n",
       "      <td>1</td>\n",
       "    </tr>\n",
       "    <tr>\n",
       "      <th>3267</th>\n",
       "      <td>আমি মানসিকভাবে প্রচুর হতাশায় থাকি। নানান চিন্ত...</td>\n",
       "      <td>3</td>\n",
       "    </tr>\n",
       "    <tr>\n",
       "      <th>234</th>\n",
       "      <td>আমার মনে হচ্ছে আমি সবার সাতে খারাপ ব্যবহার করছি</td>\n",
       "      <td>1</td>\n",
       "    </tr>\n",
       "    <tr>\n",
       "      <th>3581</th>\n",
       "      <td>ইদানীং খুব বিষন্নতায় ভুগি ডিক মাপ হয়ে থাকে :( ...</td>\n",
       "      <td>2</td>\n",
       "    </tr>\n",
       "  </tbody>\n",
       "</table>\n",
       "</div>"
      ],
      "text/plain": [
       "                                                  posts  labels\n",
       "83    প্রচুর মানসিক চাপে আছি... অযথা চিন্তা করি...বা...       3\n",
       "832                         জি না তেমন ভালো বোধ করছি না       1\n",
       "3267  আমি মানসিকভাবে প্রচুর হতাশায় থাকি। নানান চিন্ত...       3\n",
       "234     আমার মনে হচ্ছে আমি সবার সাতে খারাপ ব্যবহার করছি       1\n",
       "3581  ইদানীং খুব বিষন্নতায় ভুগি ডিক মাপ হয়ে থাকে :( ...       2"
      ]
     },
     "execution_count": 4,
     "metadata": {},
     "output_type": "execute_result"
    }
   ],
   "source": [
    "dataset.sample(5)"
   ]
  },
  {
   "cell_type": "markdown",
   "id": "28ab2fb7",
   "metadata": {},
   "source": [
    "### Removing Emojis"
   ]
  },
  {
   "cell_type": "code",
   "execution_count": 5,
   "id": "44d26dda",
   "metadata": {},
   "outputs": [],
   "source": [
    "df_1 = dataset.copy()"
   ]
  },
  {
   "cell_type": "code",
   "execution_count": 6,
   "id": "e8462ffe",
   "metadata": {},
   "outputs": [],
   "source": [
    "def deEmojify(text):\n",
    "    regrex_pattern = re.compile(pattern = \"[\"\n",
    "        u\"\\U0001F600-\\U0001F64F\"  # emoticons\n",
    "        u\"\\U0001F300-\\U0001F5FF\"  # symbols & pictographs\n",
    "        u\"\\U0001F680-\\U0001F6FF\"  # transport & map symbols\n",
    "        u\"\\U0001F1E0-\\U0001F1FF\"  # flags (iOS)\n",
    "        u\"\\U0001F97A\"\n",
    "        u\"\\U00002639\"\n",
    "        u\"\\U00002764\"\n",
    "        u\"\\U0001F642\"\n",
    "        u\"\\U0001F600-\\U000E007F\"\n",
    "                           \"]+\", flags = re.UNICODE)\n",
    "    return regrex_pattern.sub(r' ',text)\n",
    "for i in range(df_1.shape[0]):\n",
    "    df_1.iloc[i,0] = deEmojify(df_1.iloc[i,0])"
   ]
  },
  {
   "cell_type": "markdown",
   "id": "91cb4eb2",
   "metadata": {},
   "source": [
    "### <span style=\"color:darksalmon\">Removing nan Fields</span>"
   ]
  },
  {
   "cell_type": "code",
   "execution_count": 7,
   "id": "96778e8b",
   "metadata": {},
   "outputs": [
    {
     "data": {
      "text/plain": [
       "posts     0\n",
       "labels    0\n",
       "dtype: int64"
      ]
     },
     "execution_count": 7,
     "metadata": {},
     "output_type": "execute_result"
    }
   ],
   "source": [
    "df_1.isnull().sum(axis = 0)"
   ]
  },
  {
   "cell_type": "code",
   "execution_count": null,
   "id": "ef75fb41",
   "metadata": {},
   "outputs": [],
   "source": []
  },
  {
   "cell_type": "markdown",
   "id": "c4868fb6",
   "metadata": {},
   "source": [
    "### <span style=\"color:aqua\">Removing Punctuations</span>"
   ]
  },
  {
   "cell_type": "code",
   "execution_count": 8,
   "id": "136779e4",
   "metadata": {},
   "outputs": [],
   "source": [
    "df_2 = df_1.copy()"
   ]
  },
  {
   "cell_type": "code",
   "execution_count": 9,
   "id": "ab58f3cd",
   "metadata": {},
   "outputs": [],
   "source": [
    "def depunctuate(text):\n",
    "    regrex_pattern = re.compile(pattern = \"[\"u\"\\/\"u\"\\\\\"u\"\\^\"u\"\\!\"u\"\\@\"u\"\\+\"u\"\\*\"u\"\\=\"u\"\\%\"u\"\\&\"u\"\\:\"u\"\\;\"u\"\\_\"u\"\\.\"u\"\\,\"u\"\\(\"u\"\\)\"u\"\\?\"u\"\\।\"u\"\\|\"u\"'\"u\"\\-\"u\"\\\"\"u\"]+\")\n",
    "    return regrex_pattern.sub(r' ',text)\n",
    "for i in range(df_2.shape[0]):\n",
    "    df_2.iloc[i,0] = depunctuate(df_2.iloc[i,0])"
   ]
  },
  {
   "cell_type": "code",
   "execution_count": 10,
   "id": "2934e235",
   "metadata": {},
   "outputs": [
    {
     "data": {
      "text/html": [
       "<div>\n",
       "<style scoped>\n",
       "    .dataframe tbody tr th:only-of-type {\n",
       "        vertical-align: middle;\n",
       "    }\n",
       "\n",
       "    .dataframe tbody tr th {\n",
       "        vertical-align: top;\n",
       "    }\n",
       "\n",
       "    .dataframe thead th {\n",
       "        text-align: right;\n",
       "    }\n",
       "</style>\n",
       "<table border=\"1\" class=\"dataframe\">\n",
       "  <thead>\n",
       "    <tr style=\"text-align: right;\">\n",
       "      <th></th>\n",
       "      <th>posts</th>\n",
       "      <th>labels</th>\n",
       "    </tr>\n",
       "  </thead>\n",
       "  <tbody>\n",
       "    <tr>\n",
       "      <th>4381</th>\n",
       "      <td>আমার ফুফির মন খারাপ কারন তার সামী তার সাথে ঝগড়...</td>\n",
       "      <td>1</td>\n",
       "    </tr>\n",
       "    <tr>\n",
       "      <th>3144</th>\n",
       "      <td>বিশ্বস্ত বা কোন ফ্রেন্ডের সাথেই কিছু শেয়ার করত...</td>\n",
       "      <td>1</td>\n",
       "    </tr>\n",
       "    <tr>\n",
       "      <th>1067</th>\n",
       "      <td>আমার বেস্টফ্রেন্ড সবসময় বিষন্ন থাকে এই বিষন্নত...</td>\n",
       "      <td>3</td>\n",
       "    </tr>\n",
       "    <tr>\n",
       "      <th>3595</th>\n",
       "      <td>আমার সমস্যাটা গত ৯ মাসের  মাঝখানে বেশ কয়েকবার ...</td>\n",
       "      <td>4</td>\n",
       "    </tr>\n",
       "    <tr>\n",
       "      <th>2346</th>\n",
       "      <td>আমি গত দুই বছর ধরে কিছু মানসিক সমস্যায় ভুগছি  ...</td>\n",
       "      <td>2</td>\n",
       "    </tr>\n",
       "  </tbody>\n",
       "</table>\n",
       "</div>"
      ],
      "text/plain": [
       "                                                  posts  labels\n",
       "4381  আমার ফুফির মন খারাপ কারন তার সামী তার সাথে ঝগড়...       1\n",
       "3144  বিশ্বস্ত বা কোন ফ্রেন্ডের সাথেই কিছু শেয়ার করত...       1\n",
       "1067  আমার বেস্টফ্রেন্ড সবসময় বিষন্ন থাকে এই বিষন্নত...       3\n",
       "3595  আমার সমস্যাটা গত ৯ মাসের  মাঝখানে বেশ কয়েকবার ...       4\n",
       "2346  আমি গত দুই বছর ধরে কিছু মানসিক সমস্যায় ভুগছি  ...       2"
      ]
     },
     "execution_count": 10,
     "metadata": {},
     "output_type": "execute_result"
    }
   ],
   "source": [
    "df_2.sample(5)"
   ]
  },
  {
   "cell_type": "markdown",
   "id": "71c2772f",
   "metadata": {},
   "source": [
    "### <span style=\"color:red\">Removing Numbers</span>"
   ]
  },
  {
   "cell_type": "code",
   "execution_count": 11,
   "id": "7d417a83",
   "metadata": {},
   "outputs": [],
   "source": [
    "df_3 = df_2.copy()"
   ]
  },
  {
   "cell_type": "code",
   "execution_count": 12,
   "id": "d5f5e4ef",
   "metadata": {},
   "outputs": [],
   "source": [
    "def denumerize(text):\n",
    "    regrex_pattern = re.compile(pattern = \"[0-9০১২৩৪৫৬৭৮৯]+\")\n",
    "    return regrex_pattern.sub(r' ',text)\n",
    "for i in range(df_3.shape[0]):\n",
    "    df_3.iloc[i,0] = denumerize(df_3.iloc[i,0])"
   ]
  },
  {
   "cell_type": "code",
   "execution_count": 13,
   "id": "c99167ce",
   "metadata": {},
   "outputs": [
    {
     "data": {
      "text/html": [
       "<div>\n",
       "<style scoped>\n",
       "    .dataframe tbody tr th:only-of-type {\n",
       "        vertical-align: middle;\n",
       "    }\n",
       "\n",
       "    .dataframe tbody tr th {\n",
       "        vertical-align: top;\n",
       "    }\n",
       "\n",
       "    .dataframe thead th {\n",
       "        text-align: right;\n",
       "    }\n",
       "</style>\n",
       "<table border=\"1\" class=\"dataframe\">\n",
       "  <thead>\n",
       "    <tr style=\"text-align: right;\">\n",
       "      <th></th>\n",
       "      <th>posts</th>\n",
       "      <th>labels</th>\n",
       "    </tr>\n",
       "  </thead>\n",
       "  <tbody>\n",
       "    <tr>\n",
       "      <th>3891</th>\n",
       "      <td>আফা আমার কোন কিছু করতে ভাল লাগে না এখন আমি কি ...</td>\n",
       "      <td>1</td>\n",
       "    </tr>\n",
       "    <tr>\n",
       "      <th>2914</th>\n",
       "      <td>মন ভাল রাখার জন্য কি করতে পারি    হুট হাট মন...</td>\n",
       "      <td>1</td>\n",
       "    </tr>\n",
       "    <tr>\n",
       "      <th>4131</th>\n",
       "      <td>আপা আমার এক ফ্রেন্ডের সমস্যা সম্পর্কে পরামর্শ ...</td>\n",
       "      <td>1</td>\n",
       "    </tr>\n",
       "    <tr>\n",
       "      <th>1703</th>\n",
       "      <td>আমি ডিপ্রেশনে ভুগছি  আমার স্বামীর সাথে সম্পর্ক...</td>\n",
       "      <td>2</td>\n",
       "    </tr>\n",
       "    <tr>\n",
       "      <th>762</th>\n",
       "      <td>কোনোকিছু ভালো লাগে না কারোর সাথে কথা বলতে ইচ্ছ...</td>\n",
       "      <td>4</td>\n",
       "    </tr>\n",
       "  </tbody>\n",
       "</table>\n",
       "</div>"
      ],
      "text/plain": [
       "                                                  posts  labels\n",
       "3891  আফা আমার কোন কিছু করতে ভাল লাগে না এখন আমি কি ...       1\n",
       "2914    মন ভাল রাখার জন্য কি করতে পারি    হুট হাট মন...       1\n",
       "4131  আপা আমার এক ফ্রেন্ডের সমস্যা সম্পর্কে পরামর্শ ...       1\n",
       "1703  আমি ডিপ্রেশনে ভুগছি  আমার স্বামীর সাথে সম্পর্ক...       2\n",
       "762   কোনোকিছু ভালো লাগে না কারোর সাথে কথা বলতে ইচ্ছ...       4"
      ]
     },
     "execution_count": 13,
     "metadata": {},
     "output_type": "execute_result"
    }
   ],
   "source": [
    "df_3.sample(5)"
   ]
  },
  {
   "cell_type": "markdown",
   "id": "ef385cbd",
   "metadata": {},
   "source": [
    "### <span style=\"color:hotpink\">Discarding all Posts Beyond the Range of Acceptable Length </span>"
   ]
  },
  {
   "cell_type": "code",
   "execution_count": 14,
   "id": "5b64caa6",
   "metadata": {},
   "outputs": [],
   "source": [
    "df_4 = df_3.copy()"
   ]
  },
  {
   "cell_type": "code",
   "execution_count": 15,
   "id": "209999fc",
   "metadata": {},
   "outputs": [],
   "source": [
    "def remove_empty_string_literals(string_list):\n",
    "    while(\"\" in string_list) :\n",
    "        string_list.remove(\"\")\n",
    "    return string_list"
   ]
  },
  {
   "cell_type": "code",
   "execution_count": 16,
   "id": "5735f29f",
   "metadata": {},
   "outputs": [],
   "source": [
    "df_4['length'] = [len(remove_empty_string_literals(post.split(' '))) for post in df_4.iloc[:, 0]] "
   ]
  },
  {
   "cell_type": "code",
   "execution_count": 17,
   "id": "901a71f7",
   "metadata": {},
   "outputs": [
    {
     "data": {
      "text/html": [
       "<div>\n",
       "<style scoped>\n",
       "    .dataframe tbody tr th:only-of-type {\n",
       "        vertical-align: middle;\n",
       "    }\n",
       "\n",
       "    .dataframe tbody tr th {\n",
       "        vertical-align: top;\n",
       "    }\n",
       "\n",
       "    .dataframe thead th {\n",
       "        text-align: right;\n",
       "    }\n",
       "</style>\n",
       "<table border=\"1\" class=\"dataframe\">\n",
       "  <thead>\n",
       "    <tr style=\"text-align: right;\">\n",
       "      <th></th>\n",
       "      <th>posts</th>\n",
       "      <th>labels</th>\n",
       "      <th>length</th>\n",
       "    </tr>\n",
       "  </thead>\n",
       "  <tbody>\n",
       "    <tr>\n",
       "      <th>1794</th>\n",
       "      <td>সবার সামনে হাসিখুশি থাকলেও একা একা খুব বিষণ্ণত...</td>\n",
       "      <td>2</td>\n",
       "      <td>9</td>\n",
       "    </tr>\n",
       "    <tr>\n",
       "      <th>3599</th>\n",
       "      <td>আমি যাকে ভালোবাসি তার সাথে অনেক ঝামেলা চলছে সে...</td>\n",
       "      <td>1</td>\n",
       "      <td>41</td>\n",
       "    </tr>\n",
       "    <tr>\n",
       "      <th>1495</th>\n",
       "      <td>বেশ কিছু দিন ধরে পারিবারিক অশান্তি নিয়ে আমি খু...</td>\n",
       "      <td>3</td>\n",
       "      <td>60</td>\n",
       "    </tr>\n",
       "    <tr>\n",
       "      <th>2603</th>\n",
       "      <td>কোন কিছু ভাল লাগেনা খুব অসস্তি লাগে</td>\n",
       "      <td>1</td>\n",
       "      <td>7</td>\n",
       "    </tr>\n",
       "    <tr>\n",
       "      <th>4473</th>\n",
       "      <td>আমি   বছরের তরুণ  কলেজে পড়ি  কয়েক বছর ধরে আম...</td>\n",
       "      <td>3</td>\n",
       "      <td>50</td>\n",
       "    </tr>\n",
       "  </tbody>\n",
       "</table>\n",
       "</div>"
      ],
      "text/plain": [
       "                                                  posts  labels  length\n",
       "1794  সবার সামনে হাসিখুশি থাকলেও একা একা খুব বিষণ্ণত...       2       9\n",
       "3599  আমি যাকে ভালোবাসি তার সাথে অনেক ঝামেলা চলছে সে...       1      41\n",
       "1495  বেশ কিছু দিন ধরে পারিবারিক অশান্তি নিয়ে আমি খু...       3      60\n",
       "2603                কোন কিছু ভাল লাগেনা খুব অসস্তি লাগে       1       7\n",
       "4473  আমি   বছরের তরুণ  কলেজে পড়ি  কয়েক বছর ধরে আম...       3      50"
      ]
     },
     "execution_count": 17,
     "metadata": {},
     "output_type": "execute_result"
    }
   ],
   "source": [
    "df_4.sample(5)"
   ]
  },
  {
   "cell_type": "code",
   "execution_count": 18,
   "id": "3986fc55",
   "metadata": {},
   "outputs": [
    {
     "name": "stdout",
     "output_type": "stream",
     "text": [
      "(4871, 3)\n"
     ]
    }
   ],
   "source": [
    "# Defining an acceptable range for the length of posts -> inclusive\n",
    "LOWER_BOUND = 5\n",
    "UPPER_BOUND = 300\n",
    "df_5 = df_4[(df_4['length'] >= LOWER_BOUND) == True]\n",
    "df_5 = df_5[(df_5['length'] <= UPPER_BOUND) == True]\n",
    "print(df_5.shape)"
   ]
  },
  {
   "cell_type": "code",
   "execution_count": 19,
   "id": "103fe6c6",
   "metadata": {},
   "outputs": [
    {
     "data": {
      "text/html": [
       "<div>\n",
       "<style scoped>\n",
       "    .dataframe tbody tr th:only-of-type {\n",
       "        vertical-align: middle;\n",
       "    }\n",
       "\n",
       "    .dataframe tbody tr th {\n",
       "        vertical-align: top;\n",
       "    }\n",
       "\n",
       "    .dataframe thead th {\n",
       "        text-align: right;\n",
       "    }\n",
       "</style>\n",
       "<table border=\"1\" class=\"dataframe\">\n",
       "  <thead>\n",
       "    <tr style=\"text-align: right;\">\n",
       "      <th></th>\n",
       "      <th>posts</th>\n",
       "      <th>labels</th>\n",
       "      <th>length</th>\n",
       "    </tr>\n",
       "  </thead>\n",
       "  <tbody>\n",
       "    <tr>\n",
       "      <th>3189</th>\n",
       "      <td>ভালো নেই মন মানসিকতা খুবই খারাপ ঘুম একটু ও হচ্...</td>\n",
       "      <td>1</td>\n",
       "      <td>10</td>\n",
       "    </tr>\n",
       "    <tr>\n",
       "      <th>2629</th>\n",
       "      <td>কোন গান শুনলে মন ভাল লাগবে ও হতাশা দূর হবে</td>\n",
       "      <td>2</td>\n",
       "      <td>10</td>\n",
       "    </tr>\n",
       "    <tr>\n",
       "      <th>2169</th>\n",
       "      <td>আমার বয়স    আমার মানসিক সাস্থ ভালো যাচ্ছে না প...</td>\n",
       "      <td>1</td>\n",
       "      <td>17</td>\n",
       "    </tr>\n",
       "    <tr>\n",
       "      <th>1689</th>\n",
       "      <td>আপু আমি খুব বিষন্নতায় ভুগছি  এর সমাধান কি</td>\n",
       "      <td>2</td>\n",
       "      <td>8</td>\n",
       "    </tr>\n",
       "    <tr>\n",
       "      <th>2174</th>\n",
       "      <td>ভাই আমি মানসিক ভাবে অসুস্থ ভিতরে অনেক কষ্ট</td>\n",
       "      <td>2</td>\n",
       "      <td>8</td>\n",
       "    </tr>\n",
       "  </tbody>\n",
       "</table>\n",
       "</div>"
      ],
      "text/plain": [
       "                                                  posts  labels  length\n",
       "3189  ভালো নেই মন মানসিকতা খুবই খারাপ ঘুম একটু ও হচ্...       1      10\n",
       "2629        কোন গান শুনলে মন ভাল লাগবে ও হতাশা দূর হবে        2      10\n",
       "2169  আমার বয়স    আমার মানসিক সাস্থ ভালো যাচ্ছে না প...       1      17\n",
       "1689          আপু আমি খুব বিষন্নতায় ভুগছি  এর সমাধান কি       2       8\n",
       "2174         ভাই আমি মানসিক ভাবে অসুস্থ ভিতরে অনেক কষ্ট       2       8"
      ]
     },
     "execution_count": 19,
     "metadata": {},
     "output_type": "execute_result"
    }
   ],
   "source": [
    "df_5.sample(5)"
   ]
  },
  {
   "cell_type": "markdown",
   "id": "774b4c93",
   "metadata": {},
   "source": [
    "### <span style=\"color:orange\">Tokenizing Dataset</span>"
   ]
  },
  {
   "cell_type": "code",
   "execution_count": 20,
   "id": "cf230f28",
   "metadata": {},
   "outputs": [],
   "source": [
    "from bnlp import BasicTokenizer\n",
    "tokenizer = BasicTokenizer()\n",
    "# Replace df_5 with df_x to revert the effects of text cleaning\n",
    "x, y = df_5.iloc[:, 0:1].values, df_5.iloc[:, 1:2].values\n",
    "x = x.tolist()\n",
    "for i in range(len(x)):\n",
    "    x[i] = tokenizer.tokenize(x[i][0])"
   ]
  },
  {
   "cell_type": "markdown",
   "id": "c46f88c7",
   "metadata": {},
   "source": [
    "### <span style=\"color:deeppink\">Visualizing Word Frequency Distribution</span>"
   ]
  },
  {
   "cell_type": "code",
   "execution_count": 21,
   "id": "4257aa12",
   "metadata": {},
   "outputs": [],
   "source": [
    "words = [word for words in x for word in words]"
   ]
  },
  {
   "cell_type": "code",
   "execution_count": 22,
   "id": "319250bf",
   "metadata": {},
   "outputs": [
    {
     "data": {
      "image/png": "[encoded data removed]",
      "text/plain": [
       "<Figure size 640x480 with 1 Axes>"
      ]
     },
     "metadata": {},
     "output_type": "display_data"
    }
   ],
   "source": [
    "from nltk.probability import FreqDist\n",
    "import matplotlib\n",
    "import matplotlib.font_manager as font_manager\n",
    "from matplotlib import rcParams\n",
    "from matplotlib.pyplot import figure\n",
    "\n",
    "matplotlib.rcParams.update(matplotlib.rcParamsDefault)\n",
    "figure(figsize=(8, 6), dpi=80)\n",
    "font_dir = ['kalpurush/']\n",
    "for font in font_manager.findSystemFonts(font_dir):\n",
    "    font_manager.fontManager.addfont(font)\n",
    "rcParams['font.family'] = 'kalpurush'\n",
    "rcParams.update({'text.color' : \"red\",\n",
    "                 'axes.labelcolor' : \"red\",\n",
    "                 'xtick.color' : \"red\",\n",
    "                 'ytick.color' : \"red\",\n",
    "                 'xtick.minor.width' : 2})\n",
    "freq_dist = FreqDist(words)\n",
    "freq_dist.plot(30, title = \"Frequency Distribution of 30 most common words in Corpus\")\n",
    "matplotlib.rcParams.update(matplotlib.rcParamsDefault)"
   ]
  },
  {
   "cell_type": "markdown",
   "id": "050700c2",
   "metadata": {},
   "source": [
    "### <span style=\"color:gold\">Visualizing Post Length Frequency Distribution</span>"
   ]
  },
  {
   "cell_type": "code",
   "execution_count": 23,
   "id": "473b2c5d",
   "metadata": {},
   "outputs": [],
   "source": [
    "lens = [len(posts) for posts in x]\n",
    "lens = pd.Series(lens, name = \"post length\")"
   ]
  },
  {
   "cell_type": "code",
   "execution_count": 24,
   "id": "7369e5b0",
   "metadata": {},
   "outputs": [
    {
     "data": {
      "image/png": "[encoded data removed]",
      "text/plain": [
       "<Figure size 500x500 with 1 Axes>"
      ]
     },
     "metadata": {},
     "output_type": "display_data"
    }
   ],
   "source": [
    "import seaborn as sns\n",
    "sns.displot(lens, color = 'r').set(title = 'Post Length Frequency Distribution')\n",
    "import matplotlib.pyplot as plt\n",
    "plt.show()"
   ]
  },
  {
   "cell_type": "markdown",
   "id": "3857891a",
   "metadata": {},
   "source": [
    "### <span style=\"color:deepskyblue\">Visualizing Label Counts</span>"
   ]
  },
  {
   "cell_type": "code",
   "execution_count": 25,
   "id": "9e3d0d52",
   "metadata": {},
   "outputs": [
    {
     "data": {
      "image/png": "[encoded data removed]",
      "text/plain": [
       "<Figure size 640x480 with 1 Axes>"
      ]
     },
     "metadata": {},
     "output_type": "display_data"
    }
   ],
   "source": [
    "counts = df_3['labels'].value_counts().to_dict()\n",
    "import matplotlib.pyplot as plt\n",
    "labels = 'Scale 1', 'Scale 2', 'Scale 3', 'Scale 4'\n",
    "sizes = [counts[1], counts[2], counts[3], counts[4]]\n",
    "colors = ['#9400D3','#FF1493','#FFD700','#87CEEB']\n",
    "explode = (0, 0, 0, 0.1)\n",
    "fig1, ax1 = plt.subplots()\n",
    "ax1.pie(sizes, explode = explode, labels = labels, \n",
    "        autopct = '%1.1f%%', \n",
    "        shadow = True, \n",
    "        startangle = 90,\n",
    "        colors = colors)\n",
    "ax1.axis('equal')\n",
    "plt.title('Label Counts')\n",
    "plt.show()"
   ]
  },
  {
   "cell_type": "markdown",
   "id": "56504d16",
   "metadata": {},
   "source": [
    "### <span style=\"color:crimson\">Spell Correction using FastText</span>"
   ]
  },
  {
   "cell_type": "markdown",
   "id": "3307e998",
   "metadata": {},
   "source": [
    "<font>Source:\n",
    "    https://medium.com/analytics-vidhya/bengali-word-spelling-correction-using-pre-trained-word2vec-1f9938f48b09\n",
    "</font>\n",
    "\n",
    "- letters = The Bengali script has a total of 9 vowels. Each of which is called a ‘স্বরবর্ণ’. Also, have 35 consonants that are known as ‘ব্যঞ্জনবর্ণ ‘.\n",
    "\n",
    "- splits = It is working as a list which has both forward and reverses orders of the word sequence.\n",
    "\n",
    "- deletes = Also, a list which checks the left and right of a word in splits list and deletes the incorrect syntax.\n",
    "\n",
    "- transposes = It is used to change word places with each other words using the splits list.\n",
    "\n",
    "- replaces = Is a list it put words back in a previous place or position.\n",
    "\n",
    "- inserts = It helps to place and fit the correct words into the replacing with the incorrect word, especially with care."
   ]
  },
  {
   "cell_type": "code",
   "execution_count": 26,
   "id": "8ed2ced2",
   "metadata": {},
   "outputs": [],
   "source": [
    "from gensim.models import KeyedVectors\n",
    "model = KeyedVectors.load_word2vec_format('models/cc.bn.300.vec')"
   ]
  },
  {
   "cell_type": "code",
   "execution_count": 27,
   "id": "14e70802",
   "metadata": {},
   "outputs": [],
   "source": [
    "words = model.index_to_key\n",
    "word_rank = {}\n",
    "for index, word in enumerate(words):\n",
    "    word_rank[word] = index"
   ]
  },
  {
   "cell_type": "code",
   "execution_count": 28,
   "id": "b43282c9",
   "metadata": {},
   "outputs": [],
   "source": [
    "# This methods returns the value for the given key, if present in the dictionary using the get() method\n",
    "def P(word): \n",
    "    return - word_rank.get(word, 0)\n",
    "\n",
    "#  It returns the maximum candidates words with a key which is defined by P\n",
    "def correction(word): \n",
    "    return max(candidates(word), key=P)\n",
    "\n",
    "# The absolute candidate of the wrong word could found from known() methods is the actual work of this function.\n",
    "def candidates(word): \n",
    "    return (known([word]) or known(edits1(word)) or known(edits2(word)) or [word])\n",
    "\n",
    "# This method is used to find out the set of a word which is present in the dictionary\n",
    "def known(words): \n",
    "    return set(w for w in words if w in word_rank)\n",
    "\n",
    "# Many parameters such as deletes, transposes, replaces, inserts are used in this method.\n",
    "# Those parameters return the correct word of an incorrect word in a sentence.\n",
    "# A set() function is used to find out the unordered collection of words\n",
    "def edits1(word):\n",
    "    letters    = 'ঁংঃঅআইঈউঊঋএঐওঔকখগঘঙচছজঝঞটঠডঢণতথদধনপফবভমযরলশষসহ়ঽািীুূৃৄেৈোৌ্ৎৗড়ঢ়য়'\n",
    "    splits     = [(word[:i], word[i:])    for i in range(len(word) + 1)]\n",
    "    deletes    = [L + R[1:]               for L, R in splits if R]\n",
    "    transposes = [L + R[1] + R[0] + R[2:] for L, R in splits if len(R)>1]\n",
    "    replaces   = [L + c + R[1:]           for L, R in splits if R for c in letters]\n",
    "    inserts    = [L + c + R               for L, R in splits for c in letters]\n",
    "    return set(deletes + transposes + replaces + inserts)\n",
    "    \n",
    "#  This method is returend the word which is edited by in edits1() functions\n",
    "def edits2(word): \n",
    "    return (e2 for e1 in edits1(word) for e2 in edits1(e1))"
   ]
  },
  {
   "cell_type": "code",
   "execution_count": 29,
   "id": "40d41f68",
   "metadata": {},
   "outputs": [],
   "source": [
    "def spell_correction(sentence):\n",
    "    corrected_sentence = []\n",
    "    for word in sentence:\n",
    "        corrected_sentence.append(correction(word))\n",
    "    return re.sub(' +' ,' ', ' '.join(corrected_sentence))"
   ]
  },
  {
   "cell_type": "code",
   "execution_count": 30,
   "id": "8f0841ae",
   "metadata": {},
   "outputs": [],
   "source": [
    "from bnlp import BasicTokenizer\n",
    "tokenizer = BasicTokenizer()\n",
    "x = df_5.iloc[:, 0:1].values\n",
    "x = x.tolist()\n",
    "for i in range(len(x)):\n",
    "    x[i] = tokenizer.tokenize(x[i][0])\n",
    "for i in range(df_5.shape[0]):\n",
    "    df_5.iloc[i, 0] = spell_correction(x[i])"
   ]
  },
  {
   "cell_type": "code",
   "execution_count": 31,
   "id": "cfe90adb",
   "metadata": {},
   "outputs": [
    {
     "data": {
      "text/html": [
       "<div>\n",
       "<style scoped>\n",
       "    .dataframe tbody tr th:only-of-type {\n",
       "        vertical-align: middle;\n",
       "    }\n",
       "\n",
       "    .dataframe tbody tr th {\n",
       "        vertical-align: top;\n",
       "    }\n",
       "\n",
       "    .dataframe thead th {\n",
       "        text-align: right;\n",
       "    }\n",
       "</style>\n",
       "<table border=\"1\" class=\"dataframe\">\n",
       "  <thead>\n",
       "    <tr style=\"text-align: right;\">\n",
       "      <th></th>\n",
       "      <th>posts</th>\n",
       "      <th>labels</th>\n",
       "      <th>length</th>\n",
       "    </tr>\n",
       "  </thead>\n",
       "  <tbody>\n",
       "    <tr>\n",
       "      <th>2422</th>\n",
       "      <td>আমি বেশ কয়েক বছর যাব তো মানসিক ডিপ্রেশনে ভুগছ...</td>\n",
       "      <td>3</td>\n",
       "      <td>27</td>\n",
       "    </tr>\n",
       "    <tr>\n",
       "      <th>3140</th>\n",
       "      <td>আপু আমি সব সময়ই বিষন্নতা ভুগি সামান্য বিষয়ে ম...</td>\n",
       "      <td>2</td>\n",
       "      <td>16</td>\n",
       "    </tr>\n",
       "    <tr>\n",
       "      <th>1566</th>\n",
       "      <td>মন খারাপ থাকলে আমার কি করা উচিৎ</td>\n",
       "      <td>1</td>\n",
       "      <td>7</td>\n",
       "    </tr>\n",
       "    <tr>\n",
       "      <th>130</th>\n",
       "      <td>কোন কাজ করতে মন চায় না কিন্তু পরিবারে অামি ছাড়...</td>\n",
       "      <td>1</td>\n",
       "      <td>16</td>\n",
       "    </tr>\n",
       "    <tr>\n",
       "      <th>2839</th>\n",
       "      <td>মানসিক কারনে ওষুদ খেয়েছি সাত দিন পরে পাথার পিছ...</td>\n",
       "      <td>3</td>\n",
       "      <td>18</td>\n",
       "    </tr>\n",
       "  </tbody>\n",
       "</table>\n",
       "</div>"
      ],
      "text/plain": [
       "                                                  posts  labels  length\n",
       "2422  আমি বেশ কয়েক বছর যাব তো মানসিক ডিপ্রেশনে ভুগছ...       3      27\n",
       "3140  আপু আমি সব সময়ই বিষন্নতা ভুগি সামান্য বিষয়ে ম...       2      16\n",
       "1566                    মন খারাপ থাকলে আমার কি করা উচিৎ       1       7\n",
       "130   কোন কাজ করতে মন চায় না কিন্তু পরিবারে অামি ছাড়...       1      16\n",
       "2839  মানসিক কারনে ওষুদ খেয়েছি সাত দিন পরে পাথার পিছ...       3      18"
      ]
     },
     "execution_count": 31,
     "metadata": {},
     "output_type": "execute_result"
    }
   ],
   "source": [
    "df_5.sample(5)"
   ]
  },
  {
   "cell_type": "markdown",
   "id": "0659b770",
   "metadata": {},
   "source": [
    "### <span style=\"color:coral\">Removing Stopwords</span>"
   ]
  },
  {
   "cell_type": "code",
   "execution_count": 32,
   "id": "07f9ca97",
   "metadata": {},
   "outputs": [],
   "source": [
    "from bnlp.corpus.util import remove_stopwords"
   ]
  },
  {
   "cell_type": "code",
   "execution_count": 33,
   "id": "0ca36eb9",
   "metadata": {},
   "outputs": [],
   "source": [
    "file = open('stopwords/stopwords-bn.txt', encoding = 'utf-8')\n",
    "stopwords = []\n",
    "for line in file:\n",
    "    stopwords.append(line.strip())\n",
    "file.close()\n",
    "stopwords = list(filter(None, stopwords))"
   ]
  },
  {
   "cell_type": "code",
   "execution_count": 34,
   "id": "228c23a2",
   "metadata": {},
   "outputs": [],
   "source": [
    "df_6 = df_5.iloc[:, 0:2].copy()"
   ]
  },
  {
   "cell_type": "code",
   "execution_count": 35,
   "id": "8f7a9ec9",
   "metadata": {},
   "outputs": [],
   "source": [
    " for i in range(df_6.shape[0]):\n",
    "     df_6.iloc[i, 0] = ' '.join(remove_stopwords(df_6.iloc[i, 0], stopwords))"
   ]
  },
  {
   "cell_type": "code",
   "execution_count": 36,
   "id": "d5b6fab3",
   "metadata": {},
   "outputs": [
    {
     "data": {
      "image/png": "[encoded data removed]",
      "text/plain": [
       "<Figure size 400x320 with 1 Axes>"
      ]
     },
     "metadata": {},
     "output_type": "display_data"
    }
   ],
   "source": [
    "# Revisualizing Word Frequency Distribution after removing Stopwords\n",
    "from bnlp import BasicTokenizer\n",
    "tokenizer = BasicTokenizer()\n",
    "# Replace df_5 with df_x to revert the effects of text cleaning\n",
    "x, y = df_6.iloc[:, 0:1].values, df_6.iloc[:, 1:2].values\n",
    "x = x.tolist()\n",
    "for i in range(len(x)):\n",
    "    x[i] = tokenizer.tokenize(x[i][0])\n",
    "\n",
    "words = [word for words in x for word in words]\n",
    "\n",
    "matplotlib.rcParams.update(matplotlib.rcParamsDefault)\n",
    "figure(figsize=(5, 4), dpi=80)\n",
    "font_dir = ['kalpurush/']\n",
    "for font in font_manager.findSystemFonts(font_dir):\n",
    "    font_manager.fontManager.addfont(font)\n",
    "rcParams['font.family'] = 'kalpurush'\n",
    "rcParams.update({'text.color' : \"red\",\n",
    "                 'axes.labelcolor' : \"red\",\n",
    "                 'xtick.color' : \"red\",\n",
    "                 'ytick.color' : \"red\",\n",
    "                 'xtick.minor.width' : 2})\n",
    "freq_dist = FreqDist(words)\n",
    "freq_dist.plot(30, title = \"Frequency Distribution of 30 most common words in Corpus after removing Stopwords\")\n",
    "matplotlib.rcParams.update(matplotlib.rcParamsDefault)"
   ]
  },
  {
   "cell_type": "markdown",
   "id": "71f7a54c",
   "metadata": {},
   "source": [
    "### <span style=\"color:gold\">Creating Sparse Matrix</span>"
   ]
  },
  {
   "cell_type": "code",
   "execution_count": 37,
   "id": "38138ec1",
   "metadata": {},
   "outputs": [],
   "source": [
    "corpus = df_6.iloc[:, 0].values\n",
    "y = df_6.iloc[:, 1].values"
   ]
  },
  {
   "cell_type": "code",
   "execution_count": 38,
   "id": "9d18cfd2",
   "metadata": {},
   "outputs": [
    {
     "data": {
      "text/html": [
       "<div>\n",
       "<style scoped>\n",
       "    .dataframe tbody tr th:only-of-type {\n",
       "        vertical-align: middle;\n",
       "    }\n",
       "\n",
       "    .dataframe tbody tr th {\n",
       "        vertical-align: top;\n",
       "    }\n",
       "\n",
       "    .dataframe thead th {\n",
       "        text-align: right;\n",
       "    }\n",
       "</style>\n",
       "<table border=\"1\" class=\"dataframe\">\n",
       "  <thead>\n",
       "    <tr style=\"text-align: right;\">\n",
       "      <th></th>\n",
       "      <th>posts</th>\n",
       "      <th>labels</th>\n",
       "    </tr>\n",
       "  </thead>\n",
       "  <tbody>\n",
       "    <tr>\n",
       "      <th>2856</th>\n",
       "      <td>না না মন খারাপ হয়ে যায় সহজে মন টা ভালো হয়না করব</td>\n",
       "      <td>1</td>\n",
       "    </tr>\n",
       "    <tr>\n",
       "      <th>3989</th>\n",
       "      <td>সারা খন মন খারাপ</td>\n",
       "      <td>2</td>\n",
       "    </tr>\n",
       "    <tr>\n",
       "      <th>3951</th>\n",
       "      <td>ক্লাস ফাইভ হস্তমৈথুন করতাম একটা নেশা হয়ে দাড়ায়...</td>\n",
       "      <td>2</td>\n",
       "    </tr>\n",
       "    <tr>\n",
       "      <th>1425</th>\n",
       "      <td>বয়স অবিবাহিত সবসময় বিষন্নতা অবসাদে ভুগি মন খার...</td>\n",
       "      <td>2</td>\n",
       "    </tr>\n",
       "    <tr>\n",
       "      <th>1668</th>\n",
       "      <td>ডিপ্রেশন পিছু ছাড়তে না</td>\n",
       "      <td>2</td>\n",
       "    </tr>\n",
       "  </tbody>\n",
       "</table>\n",
       "</div>"
      ],
      "text/plain": [
       "                                                  posts  labels\n",
       "2856    না না মন খারাপ হয়ে যায় সহজে মন টা ভালো হয়না করব       1\n",
       "3989                                   সারা খন মন খারাপ       2\n",
       "3951  ক্লাস ফাইভ হস্তমৈথুন করতাম একটা নেশা হয়ে দাড়ায়...       2\n",
       "1425  বয়স অবিবাহিত সবসময় বিষন্নতা অবসাদে ভুগি মন খার...       2\n",
       "1668                            ডিপ্রেশন পিছু ছাড়তে না       2"
      ]
     },
     "execution_count": 38,
     "metadata": {},
     "output_type": "execute_result"
    }
   ],
   "source": [
    "df_6.sample(5)"
   ]
  },
  {
   "cell_type": "code",
   "execution_count": 39,
   "id": "d6ae01bf",
   "metadata": {},
   "outputs": [],
   "source": [
    "from sklearn.model_selection import train_test_split\n",
    "x_train, x_test, y_train, y_test=train_test_split(corpus, y, test_size=0.2)\n",
    "from sklearn.feature_extraction.text import CountVectorizer\n",
    "cv = CountVectorizer(max_features = 5000)\n",
    "x_train = cv.fit_transform(x_train).toarray()\n",
    "x_test = cv.transform(x_test)"
   ]
  },
  {
   "cell_type": "markdown",
   "id": "3cf4e638",
   "metadata": {},
   "source": [
    "### <span style=\"color:cyan\">Creating TF-IDF Feature Vector</span>"
   ]
  },
  {
   "cell_type": "code",
   "execution_count": 40,
   "id": "b37cdf5f",
   "metadata": {},
   "outputs": [],
   "source": [
    "from sklearn.feature_extraction.text import TfidfVectorizer\n",
    "x_tfidf_train, x_tfidf_test, y_tfidf_train, y_tfidf_test=train_test_split(corpus, y, test_size=0.2)"
   ]
  },
  {
   "cell_type": "code",
   "execution_count": 41,
   "id": "443e43d9",
   "metadata": {},
   "outputs": [],
   "source": [
    "tf_idf = TfidfVectorizer(encoding = 'utf-8', lowercase = False, norm = 'l2', sublinear_tf = True, min_df = 2, ngram_range = (1, 2))\n",
    "x_tfidf_train = tf_idf.fit_transform(x_tfidf_train).toarray().tolist()\n",
    "x_tfidf_test = tf_idf.transform(x_tfidf_test).toarray().tolist()"
   ]
  },
  {
   "cell_type": "markdown",
   "id": "8624e492",
   "metadata": {},
   "source": [
    "### <span style=\"color:purple\">Classification using Naive Bayes</span>"
   ]
  },
  {
   "cell_type": "code",
   "execution_count": 42,
   "id": "49f0d717",
   "metadata": {},
   "outputs": [],
   "source": [
    "\n",
    "from sklearn.naive_bayes import ComplementNB\n",
    "classifier = ComplementNB()\n",
    "classifier.fit(x_train, y_train)\n",
    "y_pred = classifier.predict(x_test)"
   ]
  },
  {
   "cell_type": "code",
   "execution_count": 43,
   "id": "af7e11f7",
   "metadata": {},
   "outputs": [
    {
     "name": "stdout",
     "output_type": "stream",
     "text": [
      "Classification Report\n",
      "              precision    recall  f1-score   support\n",
      "\n",
      "           1       0.73      0.60      0.66       426\n",
      "           2       0.61      0.71      0.65       292\n",
      "           3       0.48      0.44      0.46       152\n",
      "           4       0.46      0.63      0.53       105\n",
      "\n",
      "    accuracy                           0.61       975\n",
      "   macro avg       0.57      0.59      0.58       975\n",
      "weighted avg       0.62      0.61      0.61       975\n",
      "\n",
      "Confusion Matrix\n",
      "[[256  73  46  51]\n",
      " [ 56 206  19  11]\n",
      " [ 23  47  67  15]\n",
      " [ 17  14   8  66]]\n",
      "\n",
      "\u001b[31mF1 score (macro): 0.5752896486644267\n",
      "\u001b[31mF1 score (weighted): 0.6116354525203708\n",
      "\u001b[31mF1 score (micro): 0.6102564102564103\n",
      "\u001b[31mAccuracy: 0.6102564102564103\n"
     ]
    }
   ],
   "source": [
    "from sklearn.metrics import confusion_matrix, classification_report\n",
    "cm = confusion_matrix(y_test, y_pred)\n",
    "cr = classification_report(y_test, y_pred)\n",
    "print('Classification Report', cr, sep = '\\n')\n",
    "print('Confusion Matrix', cm, '', sep = '\\n')\n",
    "from sklearn.metrics import f1_score\n",
    "from sklearn.metrics import accuracy_score\n",
    "print(Fore.RED+'F1 score (macro):', f1_score(y_test, y_pred, average = 'macro'))\n",
    "print(Fore.RED+'F1 score (weighted):', f1_score(y_test, y_pred, average = 'weighted'))\n",
    "print(Fore.RED+'F1 score (micro):', f1_score(y_test, y_pred, average = 'micro'))\n",
    "print(Fore.RED+'Accuracy:', accuracy_score(y_test, y_pred))"
   ]
  },
  {
   "cell_type": "markdown",
   "id": "493c64ed",
   "metadata": {},
   "source": [
    "### <span style=\"color:red\">Classification with SVM using GridSearchCV</span>"
   ]
  },
  {
   "cell_type": "markdown",
   "id": "75f91e83",
   "metadata": {},
   "source": [
    "- <span style=\"color:white\">Using Bag of Words</span>"
   ]
  },
  {
   "cell_type": "code",
   "execution_count": 44,
   "id": "0a8705cd",
   "metadata": {},
   "outputs": [],
   "source": [
    "corpus = df_6.iloc[:, 0].values\n",
    "from sklearn.feature_extraction.text import CountVectorizer\n",
    "cv = CountVectorizer(max_features = 5000)\n",
    "x = cv.fit_transform(corpus).toarray()\n",
    "y = df_6.iloc[:, 1].values\n",
    "## Label encoding Y\n",
    "#from sklearn.preprocessing import OneHotEncoder\n",
    "# enc = OneHotEncoder(handle_unknown = 'ignore')\n",
    "# enc.fit(y)\n",
    "# y = enc.transform(y).toarray()[:, :-1]"
   ]
  },
  {
   "cell_type": "code",
   "execution_count": 45,
   "id": "704a0a2f",
   "metadata": {},
   "outputs": [],
   "source": [
    "from sklearn.model_selection import train_test_split\n",
    "x_train, x_test, y_train, y_test=train_test_split(x, y, test_size=0.20)"
   ]
  },
  {
   "cell_type": "code",
   "execution_count": 46,
   "id": "4386edb3",
   "metadata": {},
   "outputs": [],
   "source": [
    "from sklearn.svm import SVC\n",
    "from sklearn.model_selection import GridSearchCV\n",
    "parameters = [{'C' : [0.8, 1, 1.2], 'kernel' : ['linear',]},\n",
    "              {'C' : [32.75, 33, 33.25], 'kernel' : ['rbf',], 'gamma' : [0.008, 0.009, 0.01]},\n",
    "#              {'C' : [0.1, 1, 10, 100, 500, 1000], 'kernel' : ['poly',], 'degree' : [2, 3, 4, 5, 6], 'gamma' : [0.1,0.3,0.5,0.7,0.9], 'coef0' : [1, 10, 50, 100]},\n",
    "#              {'C' : [0.1, 1, 10, 100, 500, 1000], 'kernel' : ['sigmoid',], 'gamma' : [0.1,0.3,0.5,0.7,0.9], 'coef0' : [0.0, 0.5, 1, 10, 50, 100]},\n",
    "             ]"
   ]
  },
  {
   "cell_type": "code",
   "execution_count": 47,
   "id": "5f9adfda",
   "metadata": {
    "scrolled": false
   },
   "outputs": [
    {
     "name": "stdout",
     "output_type": "stream",
     "text": [
      "Fitting 5 folds for each of 12 candidates, totalling 60 fits\n",
      "[LibSVM]"
     ]
    }
   ],
   "source": [
    "grid_search = GridSearchCV(estimator = SVC(probability = False, verbose = True, decision_function_shape = 'ovo'), param_grid = parameters, scoring = 'f1_macro', cv = 5, n_jobs = 5, verbose = 5)\n",
    "grid_search = grid_search.fit(x_train, y_train)\n",
    "best_score = grid_search.best_score_\n",
    "best_parameters = grid_search.best_params_"
   ]
  },
  {
   "cell_type": "code",
   "execution_count": 48,
   "id": "f8bfe765",
   "metadata": {},
   "outputs": [
    {
     "name": "stdout",
     "output_type": "stream",
     "text": [
      "0.6946261397666952\n",
      "{'C': 32.75, 'gamma': 0.009, 'kernel': 'rbf'}\n"
     ]
    }
   ],
   "source": [
    "print(best_score)\n",
    "print(best_parameters)"
   ]
  },
  {
   "cell_type": "code",
   "execution_count": 49,
   "id": "1210c253",
   "metadata": {
    "scrolled": true
   },
   "outputs": [
    {
     "name": "stdout",
     "output_type": "stream",
     "text": [
      "[LibSVM]Classification Report\n",
      "              precision    recall  f1-score   support\n",
      "\n",
      "           1       0.78      0.89      0.83       419\n",
      "           2       0.68      0.73      0.70       283\n",
      "           3       0.62      0.42      0.50       153\n",
      "           4       0.84      0.62      0.71       120\n",
      "\n",
      "    accuracy                           0.74       975\n",
      "   macro avg       0.73      0.67      0.69       975\n",
      "weighted avg       0.73      0.74      0.73       975\n",
      "\n",
      "Confusion Matrix\n",
      "[[372  30  14   3]\n",
      " [ 58 207  12   6]\n",
      " [ 30  53  65   5]\n",
      " [ 17  15  14  74]]\n",
      "\n",
      "\u001b[31mF1 score (macro): 0.6874633015102285\n",
      "\u001b[31mF1 score (weighted): 0.7278485985009113\n",
      "\u001b[31mF1 score (micro): 0.7364102564102565\n",
      "\u001b[31mAccuracy: 0.7364102564102564\n"
     ]
    }
   ],
   "source": [
    "from sklearn.svm import SVC\n",
    "classifier = SVC(verbose = True, decision_function_shape = 'ovo', C = 33, kernel = 'rbf', gamma = 0.01)\n",
    "classifier.fit(x_train, y_train)\n",
    "y_pred = classifier.predict(x_test)\n",
    "from sklearn.metrics import confusion_matrix, classification_report\n",
    "cm = confusion_matrix(y_test, y_pred)\n",
    "cr = classification_report(y_test, y_pred)\n",
    "print('Classification Report', cr, sep = '\\n')\n",
    "print('Confusion Matrix', cm, '', sep = '\\n')\n",
    "from sklearn.metrics import f1_score\n",
    "from sklearn.metrics import accuracy_score\n",
    "print(Fore.RED+'F1 score (macro):', f1_score(y_test, y_pred, average = 'macro'))\n",
    "print(Fore.RED+'F1 score (weighted):', f1_score(y_test, y_pred, average = 'weighted'))\n",
    "print(Fore.RED+'F1 score (micro):', f1_score(y_test, y_pred, average = 'micro'))\n",
    "print(Fore.RED+'Accuracy:', accuracy_score(y_test, y_pred))"
   ]
  },
  {
   "cell_type": "markdown",
   "id": "c4491a27",
   "metadata": {},
   "source": [
    "- <span style=\"color:white\">Using Tf-idf</span>"
   ]
  },
  {
   "cell_type": "code",
   "execution_count": 50,
   "id": "d5ce4d15",
   "metadata": {},
   "outputs": [
    {
     "name": "stdout",
     "output_type": "stream",
     "text": [
      "[LibSVM]Classification Report\n",
      "              precision    recall  f1-score   support\n",
      "\n",
      "           1       0.79      0.87      0.83       420\n",
      "           2       0.73      0.72      0.72       319\n",
      "           3       0.55      0.43      0.48       142\n",
      "           4       0.74      0.67      0.70        94\n",
      "\n",
      "    accuracy                           0.74       975\n",
      "   macro avg       0.70      0.67      0.69       975\n",
      "weighted avg       0.73      0.74      0.73       975\n",
      "\n",
      "Confusion Matrix\n",
      "[[367  29  20   4]\n",
      " [ 57 230  25   7]\n",
      " [ 24  46  61  11]\n",
      " [ 14  12   5  63]]\n",
      "\n",
      "\u001b[31mF1 score (macro): 0.6853985099992876\n",
      "\u001b[31mF1 score (weighted): 0.7332194728510968\n",
      "\u001b[31mF1 score (micro): 0.7394871794871795\n",
      "\u001b[31mAccuracy: 0.7394871794871795\n"
     ]
    }
   ],
   "source": [
    "from sklearn.svm import SVC\n",
    "classifier = SVC(verbose = True, decision_function_shape = 'ovr', C = 33, kernel = 'rbf', gamma = 0.1)\n",
    "classifier.fit(x_tfidf_train, y_tfidf_train)\n",
    "y_tfidf_pred = classifier.predict(x_tfidf_test)\n",
    "from sklearn.metrics import confusion_matrix, classification_report\n",
    "cm = confusion_matrix(y_tfidf_test, y_tfidf_pred)\n",
    "cr = classification_report(y_tfidf_test, y_tfidf_pred)\n",
    "print('Classification Report', cr, sep = '\\n')\n",
    "print('Confusion Matrix', cm, '', sep = '\\n')\n",
    "from sklearn.metrics import f1_score\n",
    "from sklearn.metrics import accuracy_score\n",
    "print(Fore.RED+'F1 score (macro):', f1_score(y_tfidf_test, y_tfidf_pred, average = 'macro'))\n",
    "print(Fore.RED+'F1 score (weighted):', f1_score(y_tfidf_test, y_tfidf_pred, average = 'weighted'))\n",
    "print(Fore.RED+'F1 score (micro):', f1_score(y_tfidf_test, y_tfidf_pred, average = 'micro'))\n",
    "print(Fore.RED+'Accuracy:', accuracy_score(y_tfidf_test, y_tfidf_pred))"
   ]
  },
  {
   "cell_type": "markdown",
   "id": "20f505bb",
   "metadata": {},
   "source": [
    "### <span style=\"color:pink\">Random Forest + TF-IDF</span>"
   ]
  },
  {
   "cell_type": "code",
   "execution_count": 51,
   "id": "0118b7fe",
   "metadata": {},
   "outputs": [
    {
     "name": "stderr",
     "output_type": "stream",
     "text": [
      "C:\\ProgramData\\Anaconda3\\envs\\virtual\\lib\\site-packages\\sklearn\\utils\\validation.py:70: FutureWarning: Pass classes=[1 2 3 4], y=[1 4 4 ... 1 1 2] as keyword args. From version 1.0 (renaming of 0.25) passing these as positional arguments will result in an error\n",
      "  warnings.warn(f\"Pass {args_msg} as keyword args. From version \"\n",
      "[Parallel(n_jobs=3)]: Using backend ThreadingBackend with 3 concurrent workers.\n",
      "[Parallel(n_jobs=3)]: Done  44 tasks      | elapsed:    1.9s\n",
      "[Parallel(n_jobs=3)]: Done 194 tasks      | elapsed:    8.4s\n",
      "[Parallel(n_jobs=3)]: Done 444 tasks      | elapsed:   18.9s\n",
      "[Parallel(n_jobs=3)]: Done 794 tasks      | elapsed:   33.9s\n",
      "[Parallel(n_jobs=3)]: Done 1244 tasks      | elapsed:   53.7s\n",
      "[Parallel(n_jobs=3)]: Done 1794 tasks      | elapsed:  1.3min\n",
      "[Parallel(n_jobs=3)]: Done 2444 tasks      | elapsed:  1.8min\n",
      "[Parallel(n_jobs=3)]: Done 3194 tasks      | elapsed:  2.3min\n",
      "[Parallel(n_jobs=3)]: Done 4044 tasks      | elapsed:  3.0min\n",
      "[Parallel(n_jobs=3)]: Done 4994 tasks      | elapsed:  3.7min\n",
      "[Parallel(n_jobs=3)]: Done 6044 tasks      | elapsed:  4.5min\n",
      "[Parallel(n_jobs=3)]: Done 7194 tasks      | elapsed:  5.4min\n",
      "[Parallel(n_jobs=3)]: Done 8000 out of 8000 | elapsed:  6.0min finished\n",
      "[Parallel(n_jobs=3)]: Using backend ThreadingBackend with 3 concurrent workers.\n",
      "[Parallel(n_jobs=3)]: Done  44 tasks      | elapsed:    0.0s\n",
      "[Parallel(n_jobs=3)]: Done 194 tasks      | elapsed:    0.0s\n",
      "[Parallel(n_jobs=3)]: Done 444 tasks      | elapsed:    0.1s\n",
      "[Parallel(n_jobs=3)]: Done 794 tasks      | elapsed:    0.2s\n",
      "[Parallel(n_jobs=3)]: Done 1244 tasks      | elapsed:    0.4s\n",
      "[Parallel(n_jobs=3)]: Done 1794 tasks      | elapsed:    0.6s\n",
      "[Parallel(n_jobs=3)]: Done 2444 tasks      | elapsed:    0.8s\n",
      "[Parallel(n_jobs=3)]: Done 3194 tasks      | elapsed:    1.1s\n",
      "[Parallel(n_jobs=3)]: Done 4044 tasks      | elapsed:    1.4s\n",
      "[Parallel(n_jobs=3)]: Done 4994 tasks      | elapsed:    1.8s\n",
      "[Parallel(n_jobs=3)]: Done 6044 tasks      | elapsed:    2.1s\n",
      "[Parallel(n_jobs=3)]: Done 7194 tasks      | elapsed:    2.6s\n"
     ]
    },
    {
     "name": "stdout",
     "output_type": "stream",
     "text": [
      "Classification Report\n",
      "              precision    recall  f1-score   support\n",
      "\n",
      "           1       0.73      0.94      0.82       420\n",
      "           2       0.71      0.74      0.72       319\n",
      "           3       0.69      0.19      0.30       142\n",
      "           4       0.88      0.55      0.68        94\n",
      "\n",
      "    accuracy                           0.73       975\n",
      "   macro avg       0.75      0.61      0.63       975\n",
      "weighted avg       0.73      0.73      0.70       975\n",
      "\n",
      "Confusion Matrix\n",
      "[[396  19   5   0]\n",
      " [ 77 237   3   2]\n",
      " [ 42  68  27   5]\n",
      " [ 27  11   4  52]]\n",
      "\n",
      "\u001b[31mF1 score (macro): 0.6315341422536562\n",
      "\u001b[31mF1 score (weighted): 0.7007605398590669\n",
      "\u001b[31mF1 score (micro): 0.7302564102564103\n",
      "\u001b[31mAccuracy: 0.7302564102564103\n"
     ]
    },
    {
     "name": "stderr",
     "output_type": "stream",
     "text": [
      "[Parallel(n_jobs=3)]: Done 8000 out of 8000 | elapsed:    2.8s finished\n"
     ]
    }
   ],
   "source": [
    "from sklearn.ensemble import RandomForestClassifier\n",
    "from sklearn.utils import class_weight\n",
    "class_weights = class_weight.compute_class_weight('balanced',\n",
    "                                                 np.unique(np.reshape(y_tfidf_train, y_tfidf_train.shape[0])),\n",
    "                                                 np.reshape(y_tfidf_train, y_tfidf_train.shape[0]))\n",
    "class_weights = {1 : class_weights[0],\n",
    "               2 : class_weights[1],\n",
    "               3 : class_weights[2],\n",
    "               4 : class_weights[3]}\n",
    "classifier = RandomForestClassifier(n_estimators = 8000, verbose = 1, class_weight = class_weights,\n",
    "                                    n_jobs = 3)\n",
    "classifier.fit(x_tfidf_train, y_tfidf_train)\n",
    "y_tfidf_pred = classifier.predict(x_tfidf_test)\n",
    "from sklearn.metrics import confusion_matrix, classification_report\n",
    "cm = confusion_matrix(y_tfidf_test, y_tfidf_pred)\n",
    "cr = classification_report(y_tfidf_test, y_tfidf_pred)\n",
    "print('Classification Report', cr, sep = '\\n')\n",
    "print('Confusion Matrix', cm, '', sep = '\\n')\n",
    "from sklearn.metrics import f1_score\n",
    "from sklearn.metrics import accuracy_score\n",
    "print(Fore.RED+'F1 score (macro):', f1_score(y_tfidf_test, y_tfidf_pred, average = 'macro'))\n",
    "print(Fore.RED+'F1 score (weighted):', f1_score(y_tfidf_test, y_tfidf_pred, average = 'weighted'))\n",
    "print(Fore.RED+'F1 score (micro):', f1_score(y_tfidf_test, y_tfidf_pred, average = 'micro'))\n",
    "print(Fore.RED+'Accuracy:', accuracy_score(y_tfidf_test, y_tfidf_pred))"
   ]
  },
  {
   "cell_type": "markdown",
   "id": "e4e00acc",
   "metadata": {},
   "source": [
    "### <span style=\"color:purple\">Logistic Regression + TF-IDF</span>"
   ]
  },
  {
   "cell_type": "code",
   "execution_count": 52,
   "id": "c6c085e6",
   "metadata": {},
   "outputs": [
    {
     "name": "stderr",
     "output_type": "stream",
     "text": [
      "C:\\ProgramData\\Anaconda3\\envs\\virtual\\lib\\site-packages\\sklearn\\utils\\validation.py:70: FutureWarning: Pass classes=[1 2 3 4], y=[1 4 4 ... 1 1 2] as keyword args. From version 1.0 (renaming of 0.25) passing these as positional arguments will result in an error\n",
      "  warnings.warn(f\"Pass {args_msg} as keyword args. From version \"\n"
     ]
    },
    {
     "name": "stdout",
     "output_type": "stream",
     "text": [
      "Classification Report\n",
      "              precision    recall  f1-score   support\n",
      "\n",
      "           1       0.81      0.82      0.81       420\n",
      "           2       0.76      0.69      0.72       319\n",
      "           3       0.49      0.54      0.52       142\n",
      "           4       0.66      0.73      0.69        94\n",
      "\n",
      "    accuracy                           0.73       975\n",
      "   macro avg       0.68      0.70      0.69       975\n",
      "weighted avg       0.73      0.73      0.73       975\n",
      "\n",
      "Confusion Matrix\n",
      "[[343  34  32  11]\n",
      " [ 46 221  40  12]\n",
      " [ 19  33  77  13]\n",
      " [ 14   4   7  69]]\n",
      "\n",
      "\u001b[31mF1 score (macro): 0.6870942390869015\n",
      "\u001b[31mF1 score (weighted): 0.7297638057330924\n",
      "\u001b[31mF1 score (micro): 0.7282051282051283\n",
      "\u001b[31mAccuracy: 0.7282051282051282\n"
     ]
    }
   ],
   "source": [
    "from sklearn.linear_model import LogisticRegression\n",
    "from sklearn.utils import class_weight\n",
    "class_weights = class_weight.compute_class_weight('balanced',\n",
    "                                                 np.unique(np.reshape(y_tfidf_train, y_tfidf_train.shape[0])),\n",
    "                                                 np.reshape(y_tfidf_train, y_tfidf_train.shape[0]))\n",
    "class_weights = {1 : class_weights[0],\n",
    "               2 : class_weights[1],\n",
    "               3 : class_weights[2],\n",
    "               4 : class_weights[3]}\n",
    "classifier = LogisticRegression(verbose = 0, class_weight = class_weights, multi_class = 'multinomial')\n",
    "classifier.fit(x_tfidf_train, y_tfidf_train)\n",
    "y_tfidf_pred = classifier.predict(x_tfidf_test)\n",
    "from sklearn.metrics import confusion_matrix, classification_report\n",
    "cm = confusion_matrix(y_tfidf_test, y_tfidf_pred)\n",
    "cr = classification_report(y_tfidf_test, y_tfidf_pred)\n",
    "print('Classification Report', cr, sep = '\\n')\n",
    "print('Confusion Matrix', cm, '', sep = '\\n')\n",
    "from sklearn.metrics import f1_score\n",
    "from sklearn.metrics import accuracy_score\n",
    "print(Fore.RED+'F1 score (macro):', f1_score(y_tfidf_test, y_tfidf_pred, average = 'macro'))\n",
    "print(Fore.RED+'F1 score (weighted):', f1_score(y_tfidf_test, y_tfidf_pred, average = 'weighted'))\n",
    "print(Fore.RED+'F1 score (micro):', f1_score(y_tfidf_test, y_tfidf_pred, average = 'micro'))\n",
    "print(Fore.RED+'Accuracy:', accuracy_score(y_tfidf_test, y_tfidf_pred))"
   ]
  },
  {
   "cell_type": "markdown",
   "id": "c01b8623",
   "metadata": {},
   "source": [
    "### <span style=\"color:skyblue\">KNN Classifier + TF-IDF</span>"
   ]
  },
  {
   "cell_type": "code",
   "execution_count": 53,
   "id": "ad5e26ee",
   "metadata": {},
   "outputs": [
    {
     "name": "stdout",
     "output_type": "stream",
     "text": [
      "Classification Report\n",
      "              precision    recall  f1-score   support\n",
      "\n",
      "           1       0.48      0.97      0.64       420\n",
      "           2       0.79      0.29      0.42       319\n",
      "           3       0.50      0.02      0.04       142\n",
      "           4       0.00      0.00      0.00        94\n",
      "\n",
      "    accuracy                           0.52       975\n",
      "   macro avg       0.44      0.32      0.28       975\n",
      "weighted avg       0.54      0.52      0.42       975\n",
      "\n",
      "Confusion Matrix\n",
      "[[408  10   1   1]\n",
      " [226  92   1   0]\n",
      " [128  11   3   0]\n",
      " [ 90   3   1   0]]\n",
      "\n",
      "\u001b[31mF1 score (macro): 0.2762596200624828\n",
      "\u001b[31mF1 score (weighted): 0.42064005369665747\n",
      "\u001b[31mF1 score (micro): 0.5158974358974359\n",
      "\u001b[31mAccuracy: 0.5158974358974359\n"
     ]
    }
   ],
   "source": [
    "from sklearn.neighbors import KNeighborsClassifier\n",
    "classifier = KNeighborsClassifier(n_neighbors = 3)\n",
    "classifier.fit(x_tfidf_train, y_tfidf_train)\n",
    "y_tfidf_pred = classifier.predict(x_tfidf_test)\n",
    "from sklearn.metrics import confusion_matrix, classification_report\n",
    "cm = confusion_matrix(y_tfidf_test, y_tfidf_pred)\n",
    "cr = classification_report(y_tfidf_test, y_tfidf_pred)\n",
    "print('Classification Report', cr, sep = '\\n')\n",
    "print('Confusion Matrix', cm, '', sep = '\\n')\n",
    "from sklearn.metrics import f1_score\n",
    "from sklearn.metrics import accuracy_score\n",
    "print(Fore.RED+'F1 score (macro):', f1_score(y_tfidf_test, y_tfidf_pred, average = 'macro'))\n",
    "print(Fore.RED+'F1 score (weighted):', f1_score(y_tfidf_test, y_tfidf_pred, average = 'weighted'))\n",
    "print(Fore.RED+'F1 score (micro):', f1_score(y_tfidf_test, y_tfidf_pred, average = 'micro'))\n",
    "print(Fore.RED+'Accuracy:', accuracy_score(y_tfidf_test, y_tfidf_pred))"
   ]
  },
  {
   "cell_type": "code",
   "execution_count": null,
   "id": "678048db",
   "metadata": {},
   "outputs": [],
   "source": []
  }
 ],
 "metadata": {
  "kernelspec": {
   "display_name": "Python 3 (ipykernel)",
   "language": "python",
   "name": "python3"
  },
  "language_info": {
   "codemirror_mode": {
    "name": "ipython",
    "version": 3
   },
   "file_extension": ".py",
   "mimetype": "text/x-python",
   "name": "python",
   "nbconvert_exporter": "python",
   "pygments_lexer": "ipython3",
   "version": "3.8.10"
  }
 },
 "nbformat": 4,
 "nbformat_minor": 5
}
