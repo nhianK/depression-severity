{
 "cells": [
  {
   "cell_type": "code",
   "execution_count": 1,
   "id": "4c4a610f",
   "metadata": {},
   "outputs": [],
   "source": [
    "import numpy as np\n",
    "import pandas as pd\n",
    "import re\n",
    "from colorama import Fore, Back, Style"
   ]
  },
  {
   "cell_type": "code",
   "execution_count": 2,
   "id": "c153acd9",
   "metadata": {},
   "outputs": [],
   "source": [
    "dataset = pd.read_excel('dataset/maya_dataset.xlsx', engine = 'openpyxl')"
   ]
  },
  {
   "cell_type": "code",
   "execution_count": 3,
   "id": "bec900f8",
   "metadata": {},
   "outputs": [],
   "source": [
    "dataset = dataset.iloc[:, 0:2]"
   ]
  },
  {
   "cell_type": "code",
   "execution_count": 4,
   "id": "270acc30",
   "metadata": {},
   "outputs": [
    {
     "data": {
      "text/html": [
       "<div>\n",
       "<style scoped>\n",
       "    .dataframe tbody tr th:only-of-type {\n",
       "        vertical-align: middle;\n",
       "    }\n",
       "\n",
       "    .dataframe tbody tr th {\n",
       "        vertical-align: top;\n",
       "    }\n",
       "\n",
       "    .dataframe thead th {\n",
       "        text-align: right;\n",
       "    }\n",
       "</style>\n",
       "<table border=\"1\" class=\"dataframe\">\n",
       "  <thead>\n",
       "    <tr style=\"text-align: right;\">\n",
       "      <th></th>\n",
       "      <th>posts</th>\n",
       "      <th>labels</th>\n",
       "    </tr>\n",
       "  </thead>\n",
       "  <tbody>\n",
       "    <tr>\n",
       "      <th>806</th>\n",
       "      <td>হাই আমি প্রেমা আমার আট বছর হয়েছে বিয়ে হয়েছে...</td>\n",
       "      <td>2</td>\n",
       "    </tr>\n",
       "    <tr>\n",
       "      <th>761</th>\n",
       "      <td>আমি মেয়ে। বয়স ২০। হঠাৎ করে শরীর অনেক দু্র্বল ল...</td>\n",
       "      <td>1</td>\n",
       "    </tr>\n",
       "    <tr>\n",
       "      <th>4401</th>\n",
       "      <td>বাবা মা সেপারেট।৩ বছর বয়সে মাকে হারাই।আমি মেয়ে...</td>\n",
       "      <td>1</td>\n",
       "    </tr>\n",
       "    <tr>\n",
       "      <th>2556</th>\n",
       "      <td>হ্যালো এগেইন! নতুন ইউজার হিসেবে আমি ঠিক জানি ন...</td>\n",
       "      <td>2</td>\n",
       "    </tr>\n",
       "    <tr>\n",
       "      <th>3864</th>\n",
       "      <td>আমি একটি মেয়েকে ছোট বেলা থেকেই ভালবাসতাম, একটা...</td>\n",
       "      <td>1</td>\n",
       "    </tr>\n",
       "  </tbody>\n",
       "</table>\n",
       "</div>"
      ],
      "text/plain": [
       "                                                  posts  labels\n",
       "806   হাই আমি প্রেমা আমার আট বছর হয়েছে বিয়ে হয়েছে...       2\n",
       "761   আমি মেয়ে। বয়স ২০। হঠাৎ করে শরীর অনেক দু্র্বল ল...       1\n",
       "4401  বাবা মা সেপারেট।৩ বছর বয়সে মাকে হারাই।আমি মেয়ে...       1\n",
       "2556  হ্যালো এগেইন! নতুন ইউজার হিসেবে আমি ঠিক জানি ন...       2\n",
       "3864  আমি একটি মেয়েকে ছোট বেলা থেকেই ভালবাসতাম, একটা...       1"
      ]
     },
     "execution_count": 4,
     "metadata": {},
     "output_type": "execute_result"
    }
   ],
   "source": [
    "dataset.sample(5)"
   ]
  },
  {
   "cell_type": "markdown",
   "id": "63bf5bb2",
   "metadata": {},
   "source": [
    "### Removing Emojis"
   ]
  },
  {
   "cell_type": "code",
   "execution_count": 5,
   "id": "e18f6b5e",
   "metadata": {},
   "outputs": [],
   "source": [
    "df_1 = dataset.copy()"
   ]
  },
  {
   "cell_type": "code",
   "execution_count": 6,
   "id": "82daeef5",
   "metadata": {},
   "outputs": [],
   "source": [
    "def deEmojify(text):\n",
    "    regrex_pattern = re.compile(pattern = \"[\"\n",
    "        u\"\\U0001F600-\\U0001F64F\"  # emoticons\n",
    "        u\"\\U0001F300-\\U0001F5FF\"  # symbols & pictographs\n",
    "        u\"\\U0001F680-\\U0001F6FF\"  # transport & map symbols\n",
    "        u\"\\U0001F1E0-\\U0001F1FF\"  # flags (iOS)\n",
    "        u\"\\U0001F97A\"\n",
    "        u\"\\U00002639\"\n",
    "        u\"\\U00002764\"\n",
    "        u\"\\U0001F642\"\n",
    "        u\"\\U0001F600-\\U000E007F\"\n",
    "                           \"]+\", flags = re.UNICODE)\n",
    "    return regrex_pattern.sub(r' ',text)\n",
    "for i in range(df_1.shape[0]):\n",
    "    df_1.iloc[i,0] = deEmojify(df_1.iloc[i,0])"
   ]
  },
  {
   "cell_type": "markdown",
   "id": "749a31f4",
   "metadata": {},
   "source": [
    "### <span style=\"color:darksalmon\">Removing nan Fields</span>"
   ]
  },
  {
   "cell_type": "code",
   "execution_count": 7,
   "id": "0bb8e07b",
   "metadata": {},
   "outputs": [
    {
     "data": {
      "text/plain": [
       "posts     0\n",
       "labels    0\n",
       "dtype: int64"
      ]
     },
     "execution_count": 7,
     "metadata": {},
     "output_type": "execute_result"
    }
   ],
   "source": [
    "df_1.isnull().sum(axis = 0)"
   ]
  },
  {
   "cell_type": "code",
   "execution_count": null,
   "id": "c5747f32",
   "metadata": {},
   "outputs": [],
   "source": []
  },
  {
   "cell_type": "markdown",
   "id": "17f42c0a",
   "metadata": {},
   "source": [
    "### <span style=\"color:aqua\">Removing Punctuations</span>"
   ]
  },
  {
   "cell_type": "code",
   "execution_count": 8,
   "id": "8614b1d3",
   "metadata": {},
   "outputs": [],
   "source": [
    "df_2 = df_1.copy()"
   ]
  },
  {
   "cell_type": "code",
   "execution_count": 9,
   "id": "8507aa71",
   "metadata": {},
   "outputs": [],
   "source": [
    "def depunctuate(text):\n",
    "    regrex_pattern = re.compile(pattern = \"[\"u\"\\/\"u\"\\\\\"u\"\\^\"u\"\\!\"u\"\\@\"u\"\\+\"u\"\\*\"u\"\\=\"u\"\\%\"u\"\\&\"u\"\\:\"u\"\\;\"u\"\\_\"u\"\\.\"u\"\\,\"u\"\\(\"u\"\\)\"u\"\\?\"u\"\\।\"u\"\\|\"u\"'\"u\"\\-\"u\"\\\"\"u\"]+\")\n",
    "    return regrex_pattern.sub(r' ',text)\n",
    "for i in range(df_2.shape[0]):\n",
    "    df_2.iloc[i,0] = depunctuate(df_2.iloc[i,0])"
   ]
  },
  {
   "cell_type": "code",
   "execution_count": 10,
   "id": "34e19d3b",
   "metadata": {},
   "outputs": [
    {
     "data": {
      "text/html": [
       "<div>\n",
       "<style scoped>\n",
       "    .dataframe tbody tr th:only-of-type {\n",
       "        vertical-align: middle;\n",
       "    }\n",
       "\n",
       "    .dataframe tbody tr th {\n",
       "        vertical-align: top;\n",
       "    }\n",
       "\n",
       "    .dataframe thead th {\n",
       "        text-align: right;\n",
       "    }\n",
       "</style>\n",
       "<table border=\"1\" class=\"dataframe\">\n",
       "  <thead>\n",
       "    <tr style=\"text-align: right;\">\n",
       "      <th></th>\n",
       "      <th>posts</th>\n",
       "      <th>labels</th>\n",
       "    </tr>\n",
       "  </thead>\n",
       "  <tbody>\n",
       "    <tr>\n",
       "      <th>573</th>\n",
       "      <td>আমার কোনো ভালোবাসার মানুষ নেই আমার প্রতি মূহুর...</td>\n",
       "      <td>1</td>\n",
       "    </tr>\n",
       "    <tr>\n",
       "      <th>451</th>\n",
       "      <td>আপনাকে অনেক ধন্যবাদ আমার প্রশ্নের উত্তর দেওয়ার...</td>\n",
       "      <td>2</td>\n",
       "    </tr>\n",
       "    <tr>\n",
       "      <th>3133</th>\n",
       "      <td>কিচ্ছু কিচ্ছু করতে ভাল লাগে না কিন্তু সব কিছু ...</td>\n",
       "      <td>1</td>\n",
       "    </tr>\n",
       "    <tr>\n",
       "      <th>1601</th>\n",
       "      <td>আমার পরিচয় কি গোপন থাকছে  আমি একজন সাইক্রিস্টে...</td>\n",
       "      <td>3</td>\n",
       "    </tr>\n",
       "    <tr>\n",
       "      <th>3348</th>\n",
       "      <td>আমি না অনেক  ডিপ্রেশনে  ভুগি বের হওয়ার উপায় কি</td>\n",
       "      <td>2</td>\n",
       "    </tr>\n",
       "  </tbody>\n",
       "</table>\n",
       "</div>"
      ],
      "text/plain": [
       "                                                  posts  labels\n",
       "573   আমার কোনো ভালোবাসার মানুষ নেই আমার প্রতি মূহুর...       1\n",
       "451   আপনাকে অনেক ধন্যবাদ আমার প্রশ্নের উত্তর দেওয়ার...       2\n",
       "3133  কিচ্ছু কিচ্ছু করতে ভাল লাগে না কিন্তু সব কিছু ...       1\n",
       "1601  আমার পরিচয় কি গোপন থাকছে  আমি একজন সাইক্রিস্টে...       3\n",
       "3348     আমি না অনেক  ডিপ্রেশনে  ভুগি বের হওয়ার উপায় কি       2"
      ]
     },
     "execution_count": 10,
     "metadata": {},
     "output_type": "execute_result"
    }
   ],
   "source": [
    "df_2.sample(5)"
   ]
  },
  {
   "cell_type": "markdown",
   "id": "b54244df",
   "metadata": {},
   "source": [
    "### <span style=\"color:red\">Removing Numbers</span>"
   ]
  },
  {
   "cell_type": "code",
   "execution_count": 11,
   "id": "5fa828b2",
   "metadata": {},
   "outputs": [],
   "source": [
    "df_3 = df_2.copy()"
   ]
  },
  {
   "cell_type": "code",
   "execution_count": 12,
   "id": "9cb0eb00",
   "metadata": {},
   "outputs": [],
   "source": [
    "def denumerize(text):\n",
    "    regrex_pattern = re.compile(pattern = \"[0-9০১২৩৪৫৬৭৮৯]+\")\n",
    "    return regrex_pattern.sub(r' ',text)\n",
    "for i in range(df_3.shape[0]):\n",
    "    df_3.iloc[i,0] = denumerize(df_3.iloc[i,0])"
   ]
  },
  {
   "cell_type": "code",
   "execution_count": 13,
   "id": "ef09bdf8",
   "metadata": {},
   "outputs": [
    {
     "data": {
      "text/html": [
       "<div>\n",
       "<style scoped>\n",
       "    .dataframe tbody tr th:only-of-type {\n",
       "        vertical-align: middle;\n",
       "    }\n",
       "\n",
       "    .dataframe tbody tr th {\n",
       "        vertical-align: top;\n",
       "    }\n",
       "\n",
       "    .dataframe thead th {\n",
       "        text-align: right;\n",
       "    }\n",
       "</style>\n",
       "<table border=\"1\" class=\"dataframe\">\n",
       "  <thead>\n",
       "    <tr style=\"text-align: right;\">\n",
       "      <th></th>\n",
       "      <th>posts</th>\n",
       "      <th>labels</th>\n",
       "    </tr>\n",
       "  </thead>\n",
       "  <tbody>\n",
       "    <tr>\n",
       "      <th>122</th>\n",
       "      <td>শেয়ার করেছি  কিন্তু তারা কোন গুরুত্বই দেননি  হ...</td>\n",
       "      <td>1</td>\n",
       "    </tr>\n",
       "    <tr>\n",
       "      <th>4241</th>\n",
       "      <td>আমার বয়েস   আমার তেমন কনো যৌন উতেজনা হয় না  আগ...</td>\n",
       "      <td>2</td>\n",
       "    </tr>\n",
       "    <tr>\n",
       "      <th>4535</th>\n",
       "      <td>আমি বিয়ে করেছি পাঁচ বছর হয়েছে বর্তমানে আমার ...</td>\n",
       "      <td>2</td>\n",
       "    </tr>\n",
       "    <tr>\n",
       "      <th>1578</th>\n",
       "      <td>ডিপ্রেশনে আছি এই অবস্থা থেকে বের হতে চাই কি করব</td>\n",
       "      <td>2</td>\n",
       "    </tr>\n",
       "    <tr>\n",
       "      <th>267</th>\n",
       "      <td>আমি   বছরের ছেলে কিন্তু আমার মনে হয় আমি যদি মে...</td>\n",
       "      <td>1</td>\n",
       "    </tr>\n",
       "  </tbody>\n",
       "</table>\n",
       "</div>"
      ],
      "text/plain": [
       "                                                  posts  labels\n",
       "122   শেয়ার করেছি  কিন্তু তারা কোন গুরুত্বই দেননি  হ...       1\n",
       "4241  আমার বয়েস   আমার তেমন কনো যৌন উতেজনা হয় না  আগ...       2\n",
       "4535  আমি বিয়ে করেছি পাঁচ বছর হয়েছে বর্তমানে আমার ...       2\n",
       "1578   ডিপ্রেশনে আছি এই অবস্থা থেকে বের হতে চাই কি করব        2\n",
       "267   আমি   বছরের ছেলে কিন্তু আমার মনে হয় আমি যদি মে...       1"
      ]
     },
     "execution_count": 13,
     "metadata": {},
     "output_type": "execute_result"
    }
   ],
   "source": [
    "df_3.sample(5)"
   ]
  },
  {
   "cell_type": "markdown",
   "id": "64d35a53",
   "metadata": {},
   "source": [
    "### <span style=\"color:hotpink\">Discarding all Posts Beyond the Range of Acceptable Length </span>"
   ]
  },
  {
   "cell_type": "code",
   "execution_count": 14,
   "id": "b665b99a",
   "metadata": {},
   "outputs": [],
   "source": [
    "df_4 = df_3.copy()"
   ]
  },
  {
   "cell_type": "code",
   "execution_count": 15,
   "id": "b7af4a79",
   "metadata": {},
   "outputs": [],
   "source": [
    "def remove_empty_string_literals(string_list):\n",
    "    while(\"\" in string_list) :\n",
    "        string_list.remove(\"\")\n",
    "    return string_list"
   ]
  },
  {
   "cell_type": "code",
   "execution_count": 16,
   "id": "f73356a1",
   "metadata": {},
   "outputs": [],
   "source": [
    "df_4['length'] = [len(remove_empty_string_literals(post.split(' '))) for post in df_4.iloc[:, 0]] "
   ]
  },
  {
   "cell_type": "code",
   "execution_count": 17,
   "id": "be4c3841",
   "metadata": {},
   "outputs": [
    {
     "data": {
      "text/html": [
       "<div>\n",
       "<style scoped>\n",
       "    .dataframe tbody tr th:only-of-type {\n",
       "        vertical-align: middle;\n",
       "    }\n",
       "\n",
       "    .dataframe tbody tr th {\n",
       "        vertical-align: top;\n",
       "    }\n",
       "\n",
       "    .dataframe thead th {\n",
       "        text-align: right;\n",
       "    }\n",
       "</style>\n",
       "<table border=\"1\" class=\"dataframe\">\n",
       "  <thead>\n",
       "    <tr style=\"text-align: right;\">\n",
       "      <th></th>\n",
       "      <th>posts</th>\n",
       "      <th>labels</th>\n",
       "      <th>length</th>\n",
       "    </tr>\n",
       "  </thead>\n",
       "  <tbody>\n",
       "    <tr>\n",
       "      <th>444</th>\n",
       "      <td>আমার বয়স   আগের প্রশ্ন তে বলে ছি  আমার সমস্যায়...</td>\n",
       "      <td>1</td>\n",
       "      <td>35</td>\n",
       "    </tr>\n",
       "    <tr>\n",
       "      <th>3451</th>\n",
       "      <td>আমার টিউব গুলো ব্লক  এটা আমি মানতে পারছিনা তাই...</td>\n",
       "      <td>2</td>\n",
       "      <td>17</td>\n",
       "    </tr>\n",
       "    <tr>\n",
       "      <th>4572</th>\n",
       "      <td>নিয়মিত ঔষধ খেলে সাইকোথেরাপি নিলে ওসিডি নামক মা...</td>\n",
       "      <td>3</td>\n",
       "      <td>13</td>\n",
       "    </tr>\n",
       "    <tr>\n",
       "      <th>267</th>\n",
       "      <td>আমি   বছরের ছেলে কিন্তু আমার মনে হয় আমি যদি মে...</td>\n",
       "      <td>1</td>\n",
       "      <td>21</td>\n",
       "    </tr>\n",
       "    <tr>\n",
       "      <th>3507</th>\n",
       "      <td>আপু  আমি একজন ছেলে  আমার বয়স বিশ বছর  আমি একজ...</td>\n",
       "      <td>2</td>\n",
       "      <td>88</td>\n",
       "    </tr>\n",
       "  </tbody>\n",
       "</table>\n",
       "</div>"
      ],
      "text/plain": [
       "                                                  posts  labels  length\n",
       "444   আমার বয়স   আগের প্রশ্ন তে বলে ছি  আমার সমস্যায়...       1      35\n",
       "3451  আমার টিউব গুলো ব্লক  এটা আমি মানতে পারছিনা তাই...       2      17\n",
       "4572  নিয়মিত ঔষধ খেলে সাইকোথেরাপি নিলে ওসিডি নামক মা...       3      13\n",
       "267   আমি   বছরের ছেলে কিন্তু আমার মনে হয় আমি যদি মে...       1      21\n",
       "3507  আপু  আমি একজন ছেলে  আমার বয়স বিশ বছর  আমি একজ...       2      88"
      ]
     },
     "execution_count": 17,
     "metadata": {},
     "output_type": "execute_result"
    }
   ],
   "source": [
    "df_4.sample(5)"
   ]
  },
  {
   "cell_type": "code",
   "execution_count": 18,
   "id": "a7eb0f07",
   "metadata": {},
   "outputs": [
    {
     "name": "stdout",
     "output_type": "stream",
     "text": [
      "(4605, 3)\n"
     ]
    }
   ],
   "source": [
    "# Defining an acceptable range for the length of posts -> inclusive\n",
    "LOWER_BOUND = 5\n",
    "UPPER_BOUND = 300\n",
    "df_5 = df_4[(df_4['length'] >= LOWER_BOUND) == True]\n",
    "df_5 = df_5[(df_5['length'] <= UPPER_BOUND) == True]\n",
    "print(df_5.shape)"
   ]
  },
  {
   "cell_type": "code",
   "execution_count": 19,
   "id": "fb338268",
   "metadata": {},
   "outputs": [
    {
     "data": {
      "text/html": [
       "<div>\n",
       "<style scoped>\n",
       "    .dataframe tbody tr th:only-of-type {\n",
       "        vertical-align: middle;\n",
       "    }\n",
       "\n",
       "    .dataframe tbody tr th {\n",
       "        vertical-align: top;\n",
       "    }\n",
       "\n",
       "    .dataframe thead th {\n",
       "        text-align: right;\n",
       "    }\n",
       "</style>\n",
       "<table border=\"1\" class=\"dataframe\">\n",
       "  <thead>\n",
       "    <tr style=\"text-align: right;\">\n",
       "      <th></th>\n",
       "      <th>posts</th>\n",
       "      <th>labels</th>\n",
       "      <th>length</th>\n",
       "    </tr>\n",
       "  </thead>\n",
       "  <tbody>\n",
       "    <tr>\n",
       "      <th>1971</th>\n",
       "      <td>আমার বয়স       এ আমি মাধ্যমিক পরীক্ষা দেই  বি...</td>\n",
       "      <td>4</td>\n",
       "      <td>148</td>\n",
       "    </tr>\n",
       "    <tr>\n",
       "      <th>515</th>\n",
       "      <td>ভালো লাগছে না  আমার কথা শেয়ার করার মতও কেউ নে...</td>\n",
       "      <td>1</td>\n",
       "      <td>22</td>\n",
       "    </tr>\n",
       "    <tr>\n",
       "      <th>3826</th>\n",
       "      <td>অামি একটা রিলেশনে ছিলাম   বছর সে পরে অন্য একজন...</td>\n",
       "      <td>3</td>\n",
       "      <td>34</td>\n",
       "    </tr>\n",
       "    <tr>\n",
       "      <th>3812</th>\n",
       "      <td>আমি বেশ কিছু দিন যাবত ড্রিপ্রেশনে আছি  কোন কিছ...</td>\n",
       "      <td>2</td>\n",
       "      <td>53</td>\n",
       "    </tr>\n",
       "    <tr>\n",
       "      <th>4254</th>\n",
       "      <td>আপা আমি যাকে অনেক বেশি ভালবাসি  সে অন্য মেয়েকে...</td>\n",
       "      <td>1</td>\n",
       "      <td>33</td>\n",
       "    </tr>\n",
       "  </tbody>\n",
       "</table>\n",
       "</div>"
      ],
      "text/plain": [
       "                                                  posts  labels  length\n",
       "1971  আমার বয়স       এ আমি মাধ্যমিক পরীক্ষা দেই  বি...       4     148\n",
       "515   ভালো লাগছে না  আমার কথা শেয়ার করার মতও কেউ নে...       1      22\n",
       "3826  অামি একটা রিলেশনে ছিলাম   বছর সে পরে অন্য একজন...       3      34\n",
       "3812  আমি বেশ কিছু দিন যাবত ড্রিপ্রেশনে আছি  কোন কিছ...       2      53\n",
       "4254  আপা আমি যাকে অনেক বেশি ভালবাসি  সে অন্য মেয়েকে...       1      33"
      ]
     },
     "execution_count": 19,
     "metadata": {},
     "output_type": "execute_result"
    }
   ],
   "source": [
    "df_5.sample(5)"
   ]
  },
  {
   "cell_type": "markdown",
   "id": "d44b6b5e",
   "metadata": {},
   "source": [
    "### <span style=\"color:orange\">Tokenizing Dataset</span>"
   ]
  },
  {
   "cell_type": "code",
   "execution_count": 20,
   "id": "6d89f452",
   "metadata": {},
   "outputs": [],
   "source": [
    "from bnlp import BasicTokenizer\n",
    "tokenizer = BasicTokenizer()\n",
    "# Replace df_5 with df_x to revert the effects of text cleaning\n",
    "x, y = df_5.iloc[:, 0:1].values, df_5.iloc[:, 1:2].values\n",
    "x = x.tolist()\n",
    "for i in range(len(x)):\n",
    "    x[i] = tokenizer.tokenize(x[i][0])"
   ]
  },
  {
   "cell_type": "markdown",
   "id": "7b195cf7",
   "metadata": {},
   "source": [
    "### <span style=\"color:deeppink\">Visualizing Word Frequency Distribution</span>"
   ]
  },
  {
   "cell_type": "code",
   "execution_count": 21,
   "id": "486b00b3",
   "metadata": {},
   "outputs": [],
   "source": [
    "words = [word for words in x for word in words]"
   ]
  },
  {
   "cell_type": "code",
   "execution_count": 22,
   "id": "5efa3db1",
   "metadata": {},
   "outputs": [
    {
     "data": {
      "image/png": "[encoded data removed]",
      "text/plain": [
       "<Figure size 640x480 with 1 Axes>"
      ]
     },
     "metadata": {},
     "output_type": "display_data"
    }
   ],
   "source": [
    "from nltk.probability import FreqDist\n",
    "import matplotlib\n",
    "import matplotlib.font_manager as font_manager\n",
    "from matplotlib import rcParams\n",
    "from matplotlib.pyplot import figure\n",
    "\n",
    "matplotlib.rcParams.update(matplotlib.rcParamsDefault)\n",
    "figure(figsize=(8, 6), dpi=80)\n",
    "font_dir = ['kalpurush/']\n",
    "for font in font_manager.findSystemFonts(font_dir):\n",
    "    font_manager.fontManager.addfont(font)\n",
    "rcParams['font.family'] = 'kalpurush'\n",
    "rcParams.update({'text.color' : \"red\",\n",
    "                 'axes.labelcolor' : \"red\",\n",
    "                 'xtick.color' : \"red\",\n",
    "                 'ytick.color' : \"red\",\n",
    "                 'xtick.minor.width' : 2})\n",
    "freq_dist = FreqDist(words)\n",
    "freq_dist.plot(30, title = \"Frequency Distribution of 30 most common words in Corpus\")\n",
    "matplotlib.rcParams.update(matplotlib.rcParamsDefault)"
   ]
  },
  {
   "cell_type": "markdown",
   "id": "634aae28",
   "metadata": {},
   "source": [
    "### <span style=\"color:gold\">Visualizing Post Length Frequency Distribution</span>"
   ]
  },
  {
   "cell_type": "code",
   "execution_count": 23,
   "id": "c0266ba8",
   "metadata": {},
   "outputs": [],
   "source": [
    "lens = [len(posts) for posts in x]\n",
    "lens = pd.Series(lens, name = \"post length\")"
   ]
  },
  {
   "cell_type": "code",
   "execution_count": 24,
   "id": "c727dbff",
   "metadata": {},
   "outputs": [
    {
     "data": {
      "image/png": "[encoded data removed]",
      "text/plain": [
       "<Figure size 500x500 with 1 Axes>"
      ]
     },
     "metadata": {},
     "output_type": "display_data"
    }
   ],
   "source": [
    "import seaborn as sns\n",
    "sns.displot(lens, color = 'r').set(title = 'Post Length Frequency Distribution')\n",
    "import matplotlib.pyplot as plt\n",
    "plt.show()"
   ]
  },
  {
   "cell_type": "markdown",
   "id": "d958c749",
   "metadata": {},
   "source": [
    "### <span style=\"color:deepskyblue\">Visualizing Label Counts</span>"
   ]
  },
  {
   "cell_type": "code",
   "execution_count": 25,
   "id": "aad2013a",
   "metadata": {},
   "outputs": [
    {
     "data": {
      "image/png": "[encoded data removed]",
      "text/plain": [
       "<Figure size 640x480 with 1 Axes>"
      ]
     },
     "metadata": {},
     "output_type": "display_data"
    }
   ],
   "source": [
    "counts = df_3['labels'].value_counts().to_dict()\n",
    "import matplotlib.pyplot as plt\n",
    "labels = 'Scale 1', 'Scale 2', 'Scale 3', 'Scale 4'\n",
    "sizes = [counts[1], counts[2], counts[3], counts[4]]\n",
    "colors = ['#9400D3','#FF1493','#FFD700','#87CEEB']\n",
    "explode = (0, 0, 0, 0.1)\n",
    "fig1, ax1 = plt.subplots()\n",
    "ax1.pie(sizes, explode = explode, labels = labels, \n",
    "        autopct = '%1.1f%%', \n",
    "        shadow = True, \n",
    "        startangle = 90,\n",
    "        colors = colors)\n",
    "ax1.axis('equal')\n",
    "plt.title('Label Counts')\n",
    "plt.show()"
   ]
  },
  {
   "cell_type": "markdown",
   "id": "de6df3de",
   "metadata": {},
   "source": [
    "### <span style=\"color:crimson\">Spell Correction using FastText</span>"
   ]
  },
  {
   "cell_type": "markdown",
   "id": "9fc3a579",
   "metadata": {},
   "source": [
    "<font>Source:\n",
    "    https://medium.com/analytics-vidhya/bengali-word-spelling-correction-using-pre-trained-word2vec-1f9938f48b09\n",
    "</font>\n",
    "\n",
    "- letters = The Bengali script has a total of 9 vowels. Each of which is called a ‘স্বরবর্ণ’. Also, have 35 consonants that are known as ‘ব্যঞ্জনবর্ণ ‘.\n",
    "\n",
    "- splits = It is working as a list which has both forward and reverses orders of the word sequence.\n",
    "\n",
    "- deletes = Also, a list which checks the left and right of a word in splits list and deletes the incorrect syntax.\n",
    "\n",
    "- transposes = It is used to change word places with each other words using the splits list.\n",
    "\n",
    "- replaces = Is a list it put words back in a previous place or position.\n",
    "\n",
    "- inserts = It helps to place and fit the correct words into the replacing with the incorrect word, especially with care."
   ]
  },
  {
   "cell_type": "code",
   "execution_count": 26,
   "id": "e5aa0bae",
   "metadata": {},
   "outputs": [],
   "source": [
    "from gensim.models import KeyedVectors\n",
    "model = KeyedVectors.load_word2vec_format('models/cc.bn.300.vec')"
   ]
  },
  {
   "cell_type": "code",
   "execution_count": 27,
   "id": "bb5c662a",
   "metadata": {},
   "outputs": [],
   "source": [
    "words = model.index_to_key\n",
    "word_rank = {}\n",
    "for index, word in enumerate(words):\n",
    "    word_rank[word] = index"
   ]
  },
  {
   "cell_type": "code",
   "execution_count": 28,
   "id": "856697b0",
   "metadata": {},
   "outputs": [],
   "source": [
    "# This methods returns the value for the given key, if present in the dictionary using the get() method\n",
    "def P(word): \n",
    "    return - word_rank.get(word, 0)\n",
    "\n",
    "#  It returns the maximum candidates words with a key which is defined by P\n",
    "def correction(word): \n",
    "    return max(candidates(word), key=P)\n",
    "\n",
    "# The absolute candidate of the wrong word could found from known() methods is the actual work of this function.\n",
    "def candidates(word): \n",
    "    return (known([word]) or known(edits1(word)) or known(edits2(word)) or [word])\n",
    "\n",
    "# This method is used to find out the set of a word which is present in the dictionary\n",
    "def known(words): \n",
    "    return set(w for w in words if w in word_rank)\n",
    "\n",
    "# Many parameters such as deletes, transposes, replaces, inserts are used in this method.\n",
    "# Those parameters return the correct word of an incorrect word in a sentence.\n",
    "# A set() function is used to find out the unordered collection of words\n",
    "def edits1(word):\n",
    "    letters    = 'ঁংঃঅআইঈউঊঋএঐওঔকখগঘঙচছজঝঞটঠডঢণতথদধনপফবভমযরলশষসহ়ঽািীুূৃৄেৈোৌ্ৎৗড়ঢ়য়'\n",
    "    splits     = [(word[:i], word[i:])    for i in range(len(word) + 1)]\n",
    "    deletes    = [L + R[1:]               for L, R in splits if R]\n",
    "    transposes = [L + R[1] + R[0] + R[2:] for L, R in splits if len(R)>1]\n",
    "    replaces   = [L + c + R[1:]           for L, R in splits if R for c in letters]\n",
    "    inserts    = [L + c + R               for L, R in splits for c in letters]\n",
    "    return set(deletes + transposes + replaces + inserts)\n",
    "    \n",
    "#  This method is returend the word which is edited by in edits1() functions\n",
    "def edits2(word): \n",
    "    return (e2 for e1 in edits1(word) for e2 in edits1(e1))"
   ]
  },
  {
   "cell_type": "code",
   "execution_count": 29,
   "id": "9e533566",
   "metadata": {},
   "outputs": [],
   "source": [
    "def spell_correction(sentence):\n",
    "    corrected_sentence = []\n",
    "    for word in sentence:\n",
    "        corrected_sentence.append(correction(word))\n",
    "    return re.sub(' +' ,' ', ' '.join(corrected_sentence))"
   ]
  },
  {
   "cell_type": "code",
   "execution_count": 30,
   "id": "3c7eeeed",
   "metadata": {},
   "outputs": [],
   "source": [
    "from bnlp import BasicTokenizer\n",
    "tokenizer = BasicTokenizer()\n",
    "x = df_5.iloc[:, 0:1].values\n",
    "x = x.tolist()\n",
    "for i in range(len(x)):\n",
    "    x[i] = tokenizer.tokenize(x[i][0])\n",
    "for i in range(df_5.shape[0]):\n",
    "    df_5.iloc[i, 0] = spell_correction(x[i])"
   ]
  },
  {
   "cell_type": "code",
   "execution_count": 31,
   "id": "ee40ab51",
   "metadata": {},
   "outputs": [
    {
     "data": {
      "text/html": [
       "<div>\n",
       "<style scoped>\n",
       "    .dataframe tbody tr th:only-of-type {\n",
       "        vertical-align: middle;\n",
       "    }\n",
       "\n",
       "    .dataframe tbody tr th {\n",
       "        vertical-align: top;\n",
       "    }\n",
       "\n",
       "    .dataframe thead th {\n",
       "        text-align: right;\n",
       "    }\n",
       "</style>\n",
       "<table border=\"1\" class=\"dataframe\">\n",
       "  <thead>\n",
       "    <tr style=\"text-align: right;\">\n",
       "      <th></th>\n",
       "      <th>posts</th>\n",
       "      <th>labels</th>\n",
       "      <th>length</th>\n",
       "    </tr>\n",
       "  </thead>\n",
       "  <tbody>\n",
       "    <tr>\n",
       "      <th>3080</th>\n",
       "      <td>পড়াশোনা ঠিক মতো হচ্ছে না কী করলে মন ভালো থাকব...</td>\n",
       "      <td>1</td>\n",
       "      <td>11</td>\n",
       "    </tr>\n",
       "    <tr>\n",
       "      <th>4181</th>\n",
       "      <td>আমি বলেছিলাম আমার একটা মেয়ের বছর প্রেম ছিলো এখ...</td>\n",
       "      <td>1</td>\n",
       "      <td>20</td>\n",
       "    </tr>\n",
       "    <tr>\n",
       "      <th>3659</th>\n",
       "      <td>আমি একজনকে খুব ভালোবাসি ওর সাথে আমার সম্পর্ক ছ...</td>\n",
       "      <td>1</td>\n",
       "      <td>170</td>\n",
       "    </tr>\n",
       "    <tr>\n",
       "      <th>1169</th>\n",
       "      <td>আমার পড়াশুনা শেষ এখন চাকরীর প্লে করতেছি কিন্ত...</td>\n",
       "      <td>2</td>\n",
       "      <td>21</td>\n",
       "    </tr>\n",
       "    <tr>\n",
       "      <th>2568</th>\n",
       "      <td>আমি সাইক্রিয়াটিস্ট দেখাইছি একটা সময় ছিল আমি এক...</td>\n",
       "      <td>3</td>\n",
       "      <td>71</td>\n",
       "    </tr>\n",
       "  </tbody>\n",
       "</table>\n",
       "</div>"
      ],
      "text/plain": [
       "                                                  posts  labels  length\n",
       "3080  পড়াশোনা ঠিক মতো হচ্ছে না কী করলে মন ভালো থাকব...       1      11\n",
       "4181  আমি বলেছিলাম আমার একটা মেয়ের বছর প্রেম ছিলো এখ...       1      20\n",
       "3659  আমি একজনকে খুব ভালোবাসি ওর সাথে আমার সম্পর্ক ছ...       1     170\n",
       "1169  আমার পড়াশুনা শেষ এখন চাকরীর প্লে করতেছি কিন্ত...       2      21\n",
       "2568  আমি সাইক্রিয়াটিস্ট দেখাইছি একটা সময় ছিল আমি এক...       3      71"
      ]
     },
     "execution_count": 31,
     "metadata": {},
     "output_type": "execute_result"
    }
   ],
   "source": [
    "df_5.sample(5)"
   ]
  },
  {
   "cell_type": "markdown",
   "id": "17d23fd6",
   "metadata": {},
   "source": [
    "### <span style=\"color:coral\">Removing Stopwords</span>"
   ]
  },
  {
   "cell_type": "code",
   "execution_count": 32,
   "id": "59bd14de",
   "metadata": {},
   "outputs": [],
   "source": [
    "from bnlp.corpus.util import remove_stopwords"
   ]
  },
  {
   "cell_type": "code",
   "execution_count": 33,
   "id": "813a0a04",
   "metadata": {},
   "outputs": [],
   "source": [
    "file = open('stopwords/stopwords-bn.txt', encoding = 'utf-8')\n",
    "stopwords = []\n",
    "for line in file:\n",
    "    stopwords.append(line.strip())\n",
    "file.close()\n",
    "stopwords = list(filter(None, stopwords))"
   ]
  },
  {
   "cell_type": "code",
   "execution_count": 34,
   "id": "99aeda61",
   "metadata": {},
   "outputs": [],
   "source": [
    "df_6 = df_5.iloc[:, 0:2].copy()"
   ]
  },
  {
   "cell_type": "code",
   "execution_count": 35,
   "id": "24a67efc",
   "metadata": {},
   "outputs": [],
   "source": [
    " for i in range(df_6.shape[0]):\n",
    "     df_6.iloc[i, 0] = ' '.join(remove_stopwords(df_6.iloc[i, 0], stopwords))"
   ]
  },
  {
   "cell_type": "code",
   "execution_count": 36,
   "id": "5126b288",
   "metadata": {},
   "outputs": [
    {
     "data": {
      "image/png": "[encoded data removed]",
      "text/plain": [
       "<Figure size 400x320 with 1 Axes>"
      ]
     },
     "metadata": {},
     "output_type": "display_data"
    }
   ],
   "source": [
    "# Revisualizing Word Frequency Distribution after removing Stopwords\n",
    "from bnlp import BasicTokenizer\n",
    "tokenizer = BasicTokenizer()\n",
    "# Replace df_5 with df_x to revert the effects of text cleaning\n",
    "x, y = df_6.iloc[:, 0:1].values, df_6.iloc[:, 1:2].values\n",
    "x = x.tolist()\n",
    "for i in range(len(x)):\n",
    "    x[i] = tokenizer.tokenize(x[i][0])\n",
    "\n",
    "words = [word for words in x for word in words]\n",
    "\n",
    "matplotlib.rcParams.update(matplotlib.rcParamsDefault)\n",
    "figure(figsize=(5, 4), dpi=80)\n",
    "font_dir = ['kalpurush/']\n",
    "for font in font_manager.findSystemFonts(font_dir):\n",
    "    font_manager.fontManager.addfont(font)\n",
    "rcParams['font.family'] = 'kalpurush'\n",
    "rcParams.update({'text.color' : \"red\",\n",
    "                 'axes.labelcolor' : \"red\",\n",
    "                 'xtick.color' : \"red\",\n",
    "                 'ytick.color' : \"red\",\n",
    "                 'xtick.minor.width' : 2})\n",
    "freq_dist = FreqDist(words)\n",
    "freq_dist.plot(30, title = \"Frequency Distribution of 30 most common words in Corpus after removing Stopwords\")\n",
    "matplotlib.rcParams.update(matplotlib.rcParamsDefault)"
   ]
  },
  {
   "cell_type": "markdown",
   "id": "01777403",
   "metadata": {},
   "source": [
    "### <span style=\"color:gold\">Creating Sparse Matrix</span>"
   ]
  },
  {
   "cell_type": "code",
   "execution_count": 37,
   "id": "89870ebe",
   "metadata": {},
   "outputs": [],
   "source": [
    "corpus = df_6.iloc[:, 0].values\n",
    "y = df_6.iloc[:, 1].values"
   ]
  },
  {
   "cell_type": "code",
   "execution_count": 38,
   "id": "195fc4d2",
   "metadata": {},
   "outputs": [
    {
     "data": {
      "text/html": [
       "<div>\n",
       "<style scoped>\n",
       "    .dataframe tbody tr th:only-of-type {\n",
       "        vertical-align: middle;\n",
       "    }\n",
       "\n",
       "    .dataframe tbody tr th {\n",
       "        vertical-align: top;\n",
       "    }\n",
       "\n",
       "    .dataframe thead th {\n",
       "        text-align: right;\n",
       "    }\n",
       "</style>\n",
       "<table border=\"1\" class=\"dataframe\">\n",
       "  <thead>\n",
       "    <tr style=\"text-align: right;\">\n",
       "      <th></th>\n",
       "      <th>posts</th>\n",
       "      <th>labels</th>\n",
       "    </tr>\n",
       "  </thead>\n",
       "  <tbody>\n",
       "    <tr>\n",
       "      <th>2311</th>\n",
       "      <td>বছরের একজন প্রচন্ডরকম ডিপ্রেশন ভুগছি</td>\n",
       "      <td>2</td>\n",
       "    </tr>\n",
       "    <tr>\n",
       "      <th>2702</th>\n",
       "      <td>একটু ভালো ডিপ্রেশনের শেষ মূহুর্ত টা পার করছি</td>\n",
       "      <td>2</td>\n",
       "    </tr>\n",
       "    <tr>\n",
       "      <th>3296</th>\n",
       "      <td>ডিপ্রেশন কাটাতে ঔষধ সেবন</td>\n",
       "      <td>3</td>\n",
       "    </tr>\n",
       "    <tr>\n",
       "      <th>322</th>\n",
       "      <td>উপসর্গের কথা উল্লেখ সব গুলোই বের পারবো জানাবেন</td>\n",
       "      <td>1</td>\n",
       "    </tr>\n",
       "    <tr>\n",
       "      <th>4075</th>\n",
       "      <td>ভালো লাগছে না করবো</td>\n",
       "      <td>1</td>\n",
       "    </tr>\n",
       "  </tbody>\n",
       "</table>\n",
       "</div>"
      ],
      "text/plain": [
       "                                               posts  labels\n",
       "2311            বছরের একজন প্রচন্ডরকম ডিপ্রেশন ভুগছি       2\n",
       "2702    একটু ভালো ডিপ্রেশনের শেষ মূহুর্ত টা পার করছি       2\n",
       "3296                        ডিপ্রেশন কাটাতে ঔষধ সেবন       3\n",
       "322   উপসর্গের কথা উল্লেখ সব গুলোই বের পারবো জানাবেন       1\n",
       "4075                              ভালো লাগছে না করবো       1"
      ]
     },
     "execution_count": 38,
     "metadata": {},
     "output_type": "execute_result"
    }
   ],
   "source": [
    "df_6.sample(5)"
   ]
  },
  {
   "cell_type": "code",
   "execution_count": 39,
   "id": "f9a09819",
   "metadata": {},
   "outputs": [],
   "source": [
    "from sklearn.model_selection import train_test_split\n",
    "x_train, x_test, y_train, y_test=train_test_split(corpus, y, test_size=0.2)\n",
    "from sklearn.feature_extraction.text import CountVectorizer\n",
    "cv = CountVectorizer(max_features = 5000)\n",
    "x_train = cv.fit_transform(x_train).toarray()\n",
    "x_test = cv.transform(x_test)"
   ]
  },
  {
   "cell_type": "markdown",
   "id": "08b9f713",
   "metadata": {},
   "source": [
    "### <span style=\"color:cyan\">Creating TF-IDF Feature Vector</span>"
   ]
  },
  {
   "cell_type": "code",
   "execution_count": 40,
   "id": "4fd5f966",
   "metadata": {},
   "outputs": [],
   "source": [
    "from sklearn.feature_extraction.text import TfidfVectorizer\n",
    "x_tfidf_train, x_tfidf_test, y_tfidf_train, y_tfidf_test=train_test_split(corpus, y, test_size=0.2)"
   ]
  },
  {
   "cell_type": "code",
   "execution_count": 41,
   "id": "3934b259",
   "metadata": {},
   "outputs": [],
   "source": [
    "tf_idf = TfidfVectorizer(encoding = 'utf-8', lowercase = False, norm = 'l2', sublinear_tf = True, min_df = 2, ngram_range = (1, 2))\n",
    "x_tfidf_train = tf_idf.fit_transform(x_tfidf_train).toarray().tolist()\n",
    "x_tfidf_test = tf_idf.transform(x_tfidf_test).toarray().tolist()"
   ]
  },
  {
   "cell_type": "markdown",
   "id": "70c30d81",
   "metadata": {},
   "source": [
    "### <span style=\"color:purple\">Classification using Naive Bayes</span>"
   ]
  },
  {
   "cell_type": "code",
   "execution_count": 42,
   "id": "968d45d2",
   "metadata": {},
   "outputs": [],
   "source": [
    "\n",
    "from sklearn.naive_bayes import ComplementNB\n",
    "classifier = ComplementNB()\n",
    "classifier.fit(x_train, y_train)\n",
    "y_pred = classifier.predict(x_test)"
   ]
  },
  {
   "cell_type": "code",
   "execution_count": 43,
   "id": "66e6edcb",
   "metadata": {},
   "outputs": [
    {
     "name": "stdout",
     "output_type": "stream",
     "text": [
      "Classification Report\n",
      "              precision    recall  f1-score   support\n",
      "\n",
      "           1       0.73      0.70      0.72       424\n",
      "           2       0.68      0.70      0.69       291\n",
      "           3       0.46      0.42      0.44       117\n",
      "           4       0.53      0.64      0.58        89\n",
      "\n",
      "    accuracy                           0.66       921\n",
      "   macro avg       0.60      0.62      0.61       921\n",
      "weighted avg       0.66      0.66      0.66       921\n",
      "\n",
      "Confusion Matrix\n",
      "[[297  59  35  33]\n",
      " [ 64 204  15   8]\n",
      " [ 28  31  49   9]\n",
      " [ 16   8   8  57]]\n",
      "\n",
      "\u001b[31mF1 score (macro): 0.605921392343189\n",
      "\u001b[31mF1 score (weighted): 0.6590397981603198\n",
      "\u001b[31mF1 score (micro): 0.6590662323561346\n",
      "\u001b[31mAccuracy: 0.6590662323561346\n"
     ]
    }
   ],
   "source": [
    "from sklearn.metrics import confusion_matrix, classification_report\n",
    "cm = confusion_matrix(y_test, y_pred)\n",
    "cr = classification_report(y_test, y_pred)\n",
    "print('Classification Report', cr, sep = '\\n')\n",
    "print('Confusion Matrix', cm, '', sep = '\\n')\n",
    "from sklearn.metrics import f1_score\n",
    "from sklearn.metrics import accuracy_score\n",
    "print(Fore.RED+'F1 score (macro):', f1_score(y_test, y_pred, average = 'macro'))\n",
    "print(Fore.RED+'F1 score (weighted):', f1_score(y_test, y_pred, average = 'weighted'))\n",
    "print(Fore.RED+'F1 score (micro):', f1_score(y_test, y_pred, average = 'micro'))\n",
    "print(Fore.RED+'Accuracy:', accuracy_score(y_test, y_pred))"
   ]
  },
  {
   "cell_type": "markdown",
   "id": "c3aeafd4",
   "metadata": {},
   "source": [
    "### <span style=\"color:red\">Classification with SVM using GridSearchCV</span>"
   ]
  },
  {
   "cell_type": "markdown",
   "id": "4401468f",
   "metadata": {},
   "source": [
    "- <span style=\"color:white\">Using Bag of Words</span>"
   ]
  },
  {
   "cell_type": "code",
   "execution_count": 44,
   "id": "01e949e0",
   "metadata": {},
   "outputs": [],
   "source": [
    "corpus = df_6.iloc[:, 0].values\n",
    "from sklearn.feature_extraction.text import CountVectorizer\n",
    "cv = CountVectorizer(max_features = 5000)\n",
    "x = cv.fit_transform(corpus).toarray()\n",
    "y = df_6.iloc[:, 1].values\n",
    "## Label encoding Y\n",
    "#from sklearn.preprocessing import OneHotEncoder\n",
    "# enc = OneHotEncoder(handle_unknown = 'ignore')\n",
    "# enc.fit(y)\n",
    "# y = enc.transform(y).toarray()[:, :-1]"
   ]
  },
  {
   "cell_type": "code",
   "execution_count": 45,
   "id": "7f3fa8d4",
   "metadata": {},
   "outputs": [],
   "source": [
    "from sklearn.model_selection import train_test_split\n",
    "x_train, x_test, y_train, y_test=train_test_split(x, y, test_size=0.20)"
   ]
  },
  {
   "cell_type": "code",
   "execution_count": 46,
   "id": "8e62a370",
   "metadata": {},
   "outputs": [],
   "source": [
    "from sklearn.svm import SVC\n",
    "from sklearn.model_selection import GridSearchCV\n",
    "parameters = [{'C' : [0.8, 1, 1.2], 'kernel' : ['linear',]},\n",
    "              {'C' : [32.75, 33, 33.25], 'kernel' : ['rbf',], 'gamma' : [0.008, 0.009, 0.01]},\n",
    "#              {'C' : [0.1, 1, 10, 100, 500, 1000], 'kernel' : ['poly',], 'degree' : [2, 3, 4, 5, 6], 'gamma' : [0.1,0.3,0.5,0.7,0.9], 'coef0' : [1, 10, 50, 100]},\n",
    "#              {'C' : [0.1, 1, 10, 100, 500, 1000], 'kernel' : ['sigmoid',], 'gamma' : [0.1,0.3,0.5,0.7,0.9], 'coef0' : [0.0, 0.5, 1, 10, 50, 100]},\n",
    "             ]"
   ]
  },
  {
   "cell_type": "code",
   "execution_count": 47,
   "id": "7707f697",
   "metadata": {
    "scrolled": false
   },
   "outputs": [
    {
     "name": "stdout",
     "output_type": "stream",
     "text": [
      "Fitting 5 folds for each of 12 candidates, totalling 60 fits\n",
      "[LibSVM]"
     ]
    }
   ],
   "source": [
    "grid_search = GridSearchCV(estimator = SVC(probability = False, verbose = True, decision_function_shape = 'ovo'), param_grid = parameters, scoring = 'f1_macro', cv = 5, n_jobs = 5, verbose = 5)\n",
    "grid_search = grid_search.fit(x_train, y_train)\n",
    "best_score = grid_search.best_score_\n",
    "best_parameters = grid_search.best_params_"
   ]
  },
  {
   "cell_type": "code",
   "execution_count": 48,
   "id": "7c91057c",
   "metadata": {},
   "outputs": [
    {
     "name": "stdout",
     "output_type": "stream",
     "text": [
      "0.6725928360523898\n",
      "{'C': 32.75, 'gamma': 0.009, 'kernel': 'rbf'}\n"
     ]
    }
   ],
   "source": [
    "print(best_score)\n",
    "print(best_parameters)"
   ]
  },
  {
   "cell_type": "code",
   "execution_count": 49,
   "id": "bc1e24ce",
   "metadata": {
    "scrolled": true
   },
   "outputs": [
    {
     "name": "stdout",
     "output_type": "stream",
     "text": [
      "[LibSVM]Classification Report\n",
      "              precision    recall  f1-score   support\n",
      "\n",
      "           1       0.81      0.89      0.85       419\n",
      "           2       0.74      0.76      0.75       298\n",
      "           3       0.62      0.38      0.47       126\n",
      "           4       0.76      0.73      0.75        78\n",
      "\n",
      "    accuracy                           0.77       921\n",
      "   macro avg       0.73      0.69      0.70       921\n",
      "weighted avg       0.76      0.77      0.76       921\n",
      "\n",
      "Confusion Matrix\n",
      "[[375  35   8   1]\n",
      " [ 49 226  15   8]\n",
      " [ 31  38  48   9]\n",
      " [  9   6   6  57]]\n",
      "\n",
      "\u001b[31mF1 score (macro): 0.7042417432253014\n",
      "\u001b[31mF1 score (weighted): 0.7567527901800822\n",
      "\u001b[31mF1 score (micro): 0.766558089033659\n",
      "\u001b[31mAccuracy: 0.7665580890336591\n"
     ]
    }
   ],
   "source": [
    "from sklearn.svm import SVC\n",
    "classifier = SVC(verbose = True, decision_function_shape = 'ovo', C = 33, kernel = 'rbf', gamma = 0.01)\n",
    "classifier.fit(x_train, y_train)\n",
    "y_pred = classifier.predict(x_test)\n",
    "from sklearn.metrics import confusion_matrix, classification_report\n",
    "cm = confusion_matrix(y_test, y_pred)\n",
    "cr = classification_report(y_test, y_pred)\n",
    "print('Classification Report', cr, sep = '\\n')\n",
    "print('Confusion Matrix', cm, '', sep = '\\n')\n",
    "from sklearn.metrics import f1_score\n",
    "from sklearn.metrics import accuracy_score\n",
    "print(Fore.RED+'F1 score (macro):', f1_score(y_test, y_pred, average = 'macro'))\n",
    "print(Fore.RED+'F1 score (weighted):', f1_score(y_test, y_pred, average = 'weighted'))\n",
    "print(Fore.RED+'F1 score (micro):', f1_score(y_test, y_pred, average = 'micro'))\n",
    "print(Fore.RED+'Accuracy:', accuracy_score(y_test, y_pred))"
   ]
  },
  {
   "cell_type": "markdown",
   "id": "0e783776",
   "metadata": {},
   "source": [
    "- <span style=\"color:white\">Using Tf-idf</span>"
   ]
  },
  {
   "cell_type": "code",
   "execution_count": 50,
   "id": "8572f60f",
   "metadata": {},
   "outputs": [
    {
     "name": "stdout",
     "output_type": "stream",
     "text": [
      "[LibSVM]Classification Report\n",
      "              precision    recall  f1-score   support\n",
      "\n",
      "           1       0.76      0.92      0.83       403\n",
      "           2       0.76      0.69      0.72       308\n",
      "           3       0.53      0.40      0.45       131\n",
      "           4       0.80      0.56      0.66        79\n",
      "\n",
      "    accuracy                           0.74       921\n",
      "   macro avg       0.71      0.64      0.67       921\n",
      "weighted avg       0.73      0.74      0.73       921\n",
      "\n",
      "Confusion Matrix\n",
      "[[369  21  12   1]\n",
      " [ 66 213  26   3]\n",
      " [ 33  39  52   7]\n",
      " [ 18   8   9  44]]\n",
      "\n",
      "\u001b[31mF1 score (macro): 0.6655740812459898\n",
      "\u001b[31mF1 score (weighted): 0.7257636458179908\n",
      "\u001b[31mF1 score (micro): 0.7361563517915309\n",
      "\u001b[31mAccuracy: 0.7361563517915309\n"
     ]
    }
   ],
   "source": [
    "from sklearn.svm import SVC\n",
    "classifier = SVC(verbose = True, decision_function_shape = 'ovr', C = 33, kernel = 'rbf', gamma = 0.1)\n",
    "classifier.fit(x_tfidf_train, y_tfidf_train)\n",
    "y_tfidf_pred = classifier.predict(x_tfidf_test)\n",
    "from sklearn.metrics import confusion_matrix, classification_report\n",
    "cm = confusion_matrix(y_tfidf_test, y_tfidf_pred)\n",
    "cr = classification_report(y_tfidf_test, y_tfidf_pred)\n",
    "print('Classification Report', cr, sep = '\\n')\n",
    "print('Confusion Matrix', cm, '', sep = '\\n')\n",
    "from sklearn.metrics import f1_score\n",
    "from sklearn.metrics import accuracy_score\n",
    "print(Fore.RED+'F1 score (macro):', f1_score(y_tfidf_test, y_tfidf_pred, average = 'macro'))\n",
    "print(Fore.RED+'F1 score (weighted):', f1_score(y_tfidf_test, y_tfidf_pred, average = 'weighted'))\n",
    "print(Fore.RED+'F1 score (micro):', f1_score(y_tfidf_test, y_tfidf_pred, average = 'micro'))\n",
    "print(Fore.RED+'Accuracy:', accuracy_score(y_tfidf_test, y_tfidf_pred))"
   ]
  },
  {
   "cell_type": "markdown",
   "id": "44728d6d",
   "metadata": {},
   "source": [
    "### <span style=\"color:pink\">Random Forest + TF-IDF</span>"
   ]
  },
  {
   "cell_type": "code",
   "execution_count": 217,
   "id": "656349e6",
   "metadata": {},
   "outputs": [
    {
     "name": "stderr",
     "output_type": "stream",
     "text": [
      "C:\\ProgramData\\Anaconda3\\envs\\virtual\\lib\\site-packages\\sklearn\\utils\\validation.py:70: FutureWarning: Pass classes=[1 2 3 4], y=[1 1 1 ... 2 3 2] as keyword args. From version 1.0 (renaming of 0.25) passing these as positional arguments will result in an error\n",
      "  warnings.warn(f\"Pass {args_msg} as keyword args. From version \"\n",
      "[Parallel(n_jobs=3)]: Using backend ThreadingBackend with 3 concurrent workers.\n",
      "[Parallel(n_jobs=3)]: Done  44 tasks      | elapsed:    1.5s\n",
      "[Parallel(n_jobs=3)]: Done 194 tasks      | elapsed:    6.9s\n",
      "[Parallel(n_jobs=3)]: Done 444 tasks      | elapsed:   16.0s\n",
      "[Parallel(n_jobs=3)]: Done 794 tasks      | elapsed:   28.7s\n",
      "[Parallel(n_jobs=3)]: Done 1244 tasks      | elapsed:   45.0s\n",
      "[Parallel(n_jobs=3)]: Done 1794 tasks      | elapsed:  1.1min\n",
      "[Parallel(n_jobs=3)]: Done 2444 tasks      | elapsed:  1.5min\n",
      "[Parallel(n_jobs=3)]: Done 3194 tasks      | elapsed:  2.0min\n",
      "[Parallel(n_jobs=3)]: Done 4044 tasks      | elapsed:  2.5min\n",
      "[Parallel(n_jobs=3)]: Done 4994 tasks      | elapsed:  3.1min\n",
      "[Parallel(n_jobs=3)]: Done 6044 tasks      | elapsed:  3.8min\n",
      "[Parallel(n_jobs=3)]: Done 7194 tasks      | elapsed:  4.5min\n",
      "[Parallel(n_jobs=3)]: Done 8000 out of 8000 | elapsed:  5.0min finished\n",
      "[Parallel(n_jobs=3)]: Using backend ThreadingBackend with 3 concurrent workers.\n",
      "[Parallel(n_jobs=3)]: Done  44 tasks      | elapsed:    0.0s\n",
      "[Parallel(n_jobs=3)]: Done 194 tasks      | elapsed:    0.0s\n",
      "[Parallel(n_jobs=3)]: Done 444 tasks      | elapsed:    0.0s\n",
      "[Parallel(n_jobs=3)]: Done 794 tasks      | elapsed:    0.1s\n",
      "[Parallel(n_jobs=3)]: Done 1244 tasks      | elapsed:    0.3s\n",
      "[Parallel(n_jobs=3)]: Done 1794 tasks      | elapsed:    0.4s\n",
      "[Parallel(n_jobs=3)]: Done 2444 tasks      | elapsed:    0.6s\n",
      "[Parallel(n_jobs=3)]: Done 3194 tasks      | elapsed:    0.9s\n",
      "[Parallel(n_jobs=3)]: Done 4044 tasks      | elapsed:    1.1s\n",
      "[Parallel(n_jobs=3)]: Done 4994 tasks      | elapsed:    1.4s\n",
      "[Parallel(n_jobs=3)]: Done 6044 tasks      | elapsed:    1.7s\n",
      "[Parallel(n_jobs=3)]: Done 7194 tasks      | elapsed:    2.0s\n"
     ]
    },
    {
     "name": "stdout",
     "output_type": "stream",
     "text": [
      "Classification Report\n",
      "              precision    recall  f1-score   support\n",
      "\n",
      "           1       0.71      0.96      0.82       403\n",
      "           2       0.76      0.77      0.76       308\n",
      "           3       0.85      0.13      0.23       131\n",
      "           4       0.86      0.48      0.62        79\n",
      "\n",
      "    accuracy                           0.74       921\n",
      "   macro avg       0.80      0.59      0.61       921\n",
      "weighted avg       0.76      0.74      0.70       921\n",
      "\n",
      "Confusion Matrix\n",
      "[[388  13   0   2]\n",
      " [ 68 237   2   1]\n",
      " [ 58  53  17   3]\n",
      " [ 31   9   1  38]]\n",
      "\n",
      "\u001b[31mF1 score (macro): 0.606533317912959\n",
      "\u001b[31mF1 score (weighted): 0.6988735300258665\n",
      "\u001b[31mF1 score (micro): 0.738327904451683\n",
      "\u001b[31mAccuracy: 0.738327904451683\n"
     ]
    },
    {
     "name": "stderr",
     "output_type": "stream",
     "text": [
      "[Parallel(n_jobs=3)]: Done 8000 out of 8000 | elapsed:    2.3s finished\n"
     ]
    }
   ],
   "source": [
    "from sklearn.ensemble import RandomForestClassifier\n",
    "from sklearn.utils import class_weight\n",
    "class_weights = class_weight.compute_class_weight('balanced',\n",
    "                                                 np.unique(np.reshape(y_tfidf_train, y_tfidf_train.shape[0])),\n",
    "                                                 np.reshape(y_tfidf_train, y_tfidf_train.shape[0]))\n",
    "class_weights = {1 : class_weights[0],\n",
    "               2 : class_weights[1],\n",
    "               3 : class_weights[2],\n",
    "               4 : class_weights[3]}\n",
    "classifier = RandomForestClassifier(n_estimators = 8000, verbose = 1, class_weight = class_weights,\n",
    "                                    n_jobs = 3)\n",
    "classifier.fit(x_tfidf_train, y_tfidf_train)\n",
    "y_tfidf_pred = classifier.predict(x_tfidf_test)\n",
    "from sklearn.metrics import confusion_matrix, classification_report\n",
    "cm = confusion_matrix(y_tfidf_test, y_tfidf_pred)\n",
    "cr = classification_report(y_tfidf_test, y_tfidf_pred)\n",
    "print('Classification Report', cr, sep = '\\n')\n",
    "print('Confusion Matrix', cm, '', sep = '\\n')\n",
    "from sklearn.metrics import f1_score\n",
    "from sklearn.metrics import accuracy_score\n",
    "print(Fore.RED+'F1 score (macro):', f1_score(y_tfidf_test, y_tfidf_pred, average = 'macro'))\n",
    "print(Fore.RED+'F1 score (weighted):', f1_score(y_tfidf_test, y_tfidf_pred, average = 'weighted'))\n",
    "print(Fore.RED+'F1 score (micro):', f1_score(y_tfidf_test, y_tfidf_pred, average = 'micro'))\n",
    "print(Fore.RED+'Accuracy:', accuracy_score(y_tfidf_test, y_tfidf_pred))"
   ]
  },
  {
   "cell_type": "markdown",
   "id": "745ddfa2",
   "metadata": {},
   "source": [
    "### <span style=\"color:purple\">Logistic Regression + TF-IDF</span>"
   ]
  },
  {
   "cell_type": "code",
   "execution_count": 218,
   "id": "f3244f80",
   "metadata": {},
   "outputs": [
    {
     "name": "stderr",
     "output_type": "stream",
     "text": [
      "C:\\ProgramData\\Anaconda3\\envs\\virtual\\lib\\site-packages\\sklearn\\utils\\validation.py:70: FutureWarning: Pass classes=[1 2 3 4], y=[1 1 1 ... 2 3 2] as keyword args. From version 1.0 (renaming of 0.25) passing these as positional arguments will result in an error\n",
      "  warnings.warn(f\"Pass {args_msg} as keyword args. From version \"\n"
     ]
    },
    {
     "name": "stdout",
     "output_type": "stream",
     "text": [
      "Classification Report\n",
      "              precision    recall  f1-score   support\n",
      "\n",
      "           1       0.82      0.87      0.84       403\n",
      "           2       0.80      0.65      0.72       308\n",
      "           3       0.46      0.55      0.50       131\n",
      "           4       0.65      0.70      0.67        79\n",
      "\n",
      "    accuracy                           0.74       921\n",
      "   macro avg       0.68      0.69      0.68       921\n",
      "weighted avg       0.74      0.74      0.74       921\n",
      "\n",
      "Confusion Matrix\n",
      "[[349  17  28   9]\n",
      " [ 49 201  48  10]\n",
      " [ 22  27  72  10]\n",
      " [  8   7   9  55]]\n",
      "\n",
      "\u001b[31mF1 score (macro): 0.6831639084616594\n",
      "\u001b[31mF1 score (weighted): 0.7366053041479913\n",
      "\u001b[31mF1 score (micro): 0.7350705754614549\n",
      "\u001b[31mAccuracy: 0.7350705754614549\n"
     ]
    }
   ],
   "source": [
    "from sklearn.linear_model import LogisticRegression\n",
    "from sklearn.utils import class_weight\n",
    "class_weights = class_weight.compute_class_weight('balanced',\n",
    "                                                 np.unique(np.reshape(y_tfidf_train, y_tfidf_train.shape[0])),\n",
    "                                                 np.reshape(y_tfidf_train, y_tfidf_train.shape[0]))\n",
    "class_weights = {1 : class_weights[0],\n",
    "               2 : class_weights[1],\n",
    "               3 : class_weights[2],\n",
    "               4 : class_weights[3]}\n",
    "classifier = LogisticRegression(verbose = 0, class_weight = class_weights, multi_class = 'multinomial')\n",
    "classifier.fit(x_tfidf_train, y_tfidf_train)\n",
    "y_tfidf_pred = classifier.predict(x_tfidf_test)\n",
    "from sklearn.metrics import confusion_matrix, classification_report\n",
    "cm = confusion_matrix(y_tfidf_test, y_tfidf_pred)\n",
    "cr = classification_report(y_tfidf_test, y_tfidf_pred)\n",
    "print('Classification Report', cr, sep = '\\n')\n",
    "print('Confusion Matrix', cm, '', sep = '\\n')\n",
    "from sklearn.metrics import f1_score\n",
    "from sklearn.metrics import accuracy_score\n",
    "print(Fore.RED+'F1 score (macro):', f1_score(y_tfidf_test, y_tfidf_pred, average = 'macro'))\n",
    "print(Fore.RED+'F1 score (weighted):', f1_score(y_tfidf_test, y_tfidf_pred, average = 'weighted'))\n",
    "print(Fore.RED+'F1 score (micro):', f1_score(y_tfidf_test, y_tfidf_pred, average = 'micro'))\n",
    "print(Fore.RED+'Accuracy:', accuracy_score(y_tfidf_test, y_tfidf_pred))"
   ]
  },
  {
   "cell_type": "markdown",
   "id": "fbe733f4",
   "metadata": {},
   "source": [
    "### <span style=\"color:skyblue\">KNN Classifier + TF-IDF</span>"
   ]
  },
  {
   "cell_type": "code",
   "execution_count": 223,
   "id": "24ab17e7",
   "metadata": {},
   "outputs": [
    {
     "name": "stdout",
     "output_type": "stream",
     "text": [
      "Classification Report\n",
      "              precision    recall  f1-score   support\n",
      "\n",
      "           1       0.49      0.97      0.65       403\n",
      "           2       0.80      0.30      0.43       308\n",
      "           3       1.00      0.01      0.02       131\n",
      "           4       0.83      0.06      0.12        79\n",
      "\n",
      "    accuracy                           0.53       921\n",
      "   macro avg       0.78      0.34      0.31       921\n",
      "weighted avg       0.70      0.53      0.44       921\n",
      "\n",
      "Confusion Matrix\n",
      "[[392  11   0   0]\n",
      " [216  92   0   0]\n",
      " [121   8   1   1]\n",
      " [ 70   4   0   5]]\n",
      "\n",
      "\u001b[31mF1 score (macro): 0.305008252470919\n",
      "\u001b[31mF1 score (weighted): 0.4431167934142539\n",
      "\u001b[31mF1 score (micro): 0.5320304017372421\n",
      "\u001b[31mAccuracy: 0.5320304017372421\n"
     ]
    }
   ],
   "source": [
    "from sklearn.neighbors import KNeighborsClassifier\n",
    "classifier = KNeighborsClassifier(n_neighbors = 3)\n",
    "classifier.fit(x_tfidf_train, y_tfidf_train)\n",
    "y_tfidf_pred = classifier.predict(x_tfidf_test)\n",
    "from sklearn.metrics import confusion_matrix, classification_report\n",
    "cm = confusion_matrix(y_tfidf_test, y_tfidf_pred)\n",
    "cr = classification_report(y_tfidf_test, y_tfidf_pred)\n",
    "print('Classification Report', cr, sep = '\\n')\n",
    "print('Confusion Matrix', cm, '', sep = '\\n')\n",
    "from sklearn.metrics import f1_score\n",
    "from sklearn.metrics import accuracy_score\n",
    "print(Fore.RED+'F1 score (macro):', f1_score(y_tfidf_test, y_tfidf_pred, average = 'macro'))\n",
    "print(Fore.RED+'F1 score (weighted):', f1_score(y_tfidf_test, y_tfidf_pred, average = 'weighted'))\n",
    "print(Fore.RED+'F1 score (micro):', f1_score(y_tfidf_test, y_tfidf_pred, average = 'micro'))\n",
    "print(Fore.RED+'Accuracy:', accuracy_score(y_tfidf_test, y_tfidf_pred))"
   ]
  },
  {
   "cell_type": "code",
   "execution_count": null,
   "id": "576f5d72",
   "metadata": {},
   "outputs": [],
   "source": []
  }
 ],
 "metadata": {
  "kernelspec": {
   "display_name": "Python 3 (ipykernel)",
   "language": "python",
   "name": "python3"
  },
  "language_info": {
   "codemirror_mode": {
    "name": "ipython",
    "version": 3
   },
   "file_extension": ".py",
   "mimetype": "text/x-python",
   "name": "python",
   "nbconvert_exporter": "python",
   "pygments_lexer": "ipython3",
   "version": "3.10.4"
  }
 },
 "nbformat": 4,
 "nbformat_minor": 5
}
