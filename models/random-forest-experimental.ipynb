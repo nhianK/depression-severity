{
 "cells": [
  {
   "cell_type": "code",
   "execution_count": 1,
   "id": "192d2e07",
   "metadata": {},
   "outputs": [],
   "source": [
    "import numpy as np\n",
    "import pandas as pd\n",
    "import re\n",
    "from colorama import Fore, Back, Style"
   ]
  },
  {
   "cell_type": "code",
   "execution_count": 2,
   "id": "abfa1a5b",
   "metadata": {},
   "outputs": [
    {
     "name": "stderr",
     "output_type": "stream",
     "text": [
      "/home/khubayeeb_k/miniconda3/envs/venv/lib/python3.8/site-packages/gensim/similarities/__init__.py:15: UserWarning: The gensim.similarities.levenshtein submodule is disabled, because the optional Levenshtein package <https://pypi.org/project/python-Levenshtein/> is unavailable. Install Levenhstein (e.g. `pip install python-Levenshtein`) to suppress this warning.\n",
      "  warnings.warn(msg)\n"
     ]
    }
   ],
   "source": [
    "import bnlp"
   ]
  },
  {
   "cell_type": "code",
   "execution_count": 3,
   "id": "0f8a60ad",
   "metadata": {},
   "outputs": [],
   "source": [
    "dataset = pd.read_excel('dataset/maya_dataset.xlsx', engine = 'openpyxl')"
   ]
  },
  {
   "cell_type": "code",
   "execution_count": 4,
   "id": "43800fe0",
   "metadata": {},
   "outputs": [],
   "source": [
    "dataset = dataset.iloc[:, 0:2]"
   ]
  },
  {
   "cell_type": "code",
   "execution_count": 5,
   "id": "e53f150a",
   "metadata": {},
   "outputs": [
    {
     "data": {
      "text/html": [
       "<div>\n",
       "<style scoped>\n",
       "    .dataframe tbody tr th:only-of-type {\n",
       "        vertical-align: middle;\n",
       "    }\n",
       "\n",
       "    .dataframe tbody tr th {\n",
       "        vertical-align: top;\n",
       "    }\n",
       "\n",
       "    .dataframe thead th {\n",
       "        text-align: right;\n",
       "    }\n",
       "</style>\n",
       "<table border=\"1\" class=\"dataframe\">\n",
       "  <thead>\n",
       "    <tr style=\"text-align: right;\">\n",
       "      <th></th>\n",
       "      <th>posts</th>\n",
       "      <th>labels</th>\n",
       "    </tr>\n",
       "  </thead>\n",
       "  <tbody>\n",
       "    <tr>\n",
       "      <th>4</th>\n",
       "      <td>আমার বয়স ৩৪ বছর।জীবনে সবকিছু আমার মত করে পেতে ...</td>\n",
       "      <td>2</td>\n",
       "    </tr>\n",
       "    <tr>\n",
       "      <th>1531</th>\n",
       "      <td>আমি ভাল নাই। এই অশান্তি থেকে কোনভাবেই বের হতে ...</td>\n",
       "      <td>1</td>\n",
       "    </tr>\n",
       "    <tr>\n",
       "      <th>684</th>\n",
       "      <td>ডিপ্রেশনের জন্য কোনো মেডিসিন সাজেস্ট করবেন? সা...</td>\n",
       "      <td>3</td>\n",
       "    </tr>\n",
       "    <tr>\n",
       "      <th>1038</th>\n",
       "      <td>আমি সবসমই মানসিক ভাবে বীসন্ন থাকি আমার ভেতরে স...</td>\n",
       "      <td>2</td>\n",
       "    </tr>\n",
       "    <tr>\n",
       "      <th>2468</th>\n",
       "      <td>আমি তে এক মেয়ে সাথে সমাপক কারছে আমাদের সমাপক ৮...</td>\n",
       "      <td>1</td>\n",
       "    </tr>\n",
       "  </tbody>\n",
       "</table>\n",
       "</div>"
      ],
      "text/plain": [
       "                                                  posts  labels\n",
       "4     আমার বয়স ৩৪ বছর।জীবনে সবকিছু আমার মত করে পেতে ...       2\n",
       "1531  আমি ভাল নাই। এই অশান্তি থেকে কোনভাবেই বের হতে ...       1\n",
       "684   ডিপ্রেশনের জন্য কোনো মেডিসিন সাজেস্ট করবেন? সা...       3\n",
       "1038  আমি সবসমই মানসিক ভাবে বীসন্ন থাকি আমার ভেতরে স...       2\n",
       "2468  আমি তে এক মেয়ে সাথে সমাপক কারছে আমাদের সমাপক ৮...       1"
      ]
     },
     "execution_count": 5,
     "metadata": {},
     "output_type": "execute_result"
    }
   ],
   "source": [
    "dataset.sample(5)"
   ]
  },
  {
   "cell_type": "markdown",
   "id": "3d256896",
   "metadata": {},
   "source": [
    "### Removing Emojis"
   ]
  },
  {
   "cell_type": "code",
   "execution_count": 6,
   "id": "d9380ad8",
   "metadata": {},
   "outputs": [],
   "source": [
    "df_1 = dataset.copy()"
   ]
  },
  {
   "cell_type": "code",
   "execution_count": 7,
   "id": "be328ffe",
   "metadata": {},
   "outputs": [],
   "source": [
    "def deEmojify(text):\n",
    "    regrex_pattern = re.compile(pattern = \"[\"\n",
    "        u\"\\U0001F600-\\U0001F64F\"  # emoticons\n",
    "        u\"\\U0001F300-\\U0001F5FF\"  # symbols & pictographs\n",
    "        u\"\\U0001F680-\\U0001F6FF\"  # transport & map symbols\n",
    "        u\"\\U0001F1E0-\\U0001F1FF\"  # flags (iOS)\n",
    "        u\"\\U0001F97A\"\n",
    "        u\"\\U00002639\"\n",
    "        u\"\\U00002764\"\n",
    "        u\"\\U0001F642\"\n",
    "        u\"\\U0001F600-\\U000E007F\"\n",
    "                           \"]+\", flags = re.UNICODE)\n",
    "    return regrex_pattern.sub(r' ',text)\n",
    "for i in range(df_1.shape[0]):\n",
    "    df_1.iloc[i,0] = deEmojify(df_1.iloc[i,0])"
   ]
  },
  {
   "cell_type": "markdown",
   "id": "54f5c9e1",
   "metadata": {},
   "source": [
    "### <span style=\"color:darksalmon\">Removing nan Fields</span>"
   ]
  },
  {
   "cell_type": "code",
   "execution_count": 8,
   "id": "a482e728",
   "metadata": {},
   "outputs": [
    {
     "data": {
      "text/plain": [
       "posts     0\n",
       "labels    0\n",
       "dtype: int64"
      ]
     },
     "execution_count": 8,
     "metadata": {},
     "output_type": "execute_result"
    }
   ],
   "source": [
    "df_1.isnull().sum(axis = 0)"
   ]
  },
  {
   "cell_type": "code",
   "execution_count": null,
   "id": "7a0e0e5c",
   "metadata": {},
   "outputs": [],
   "source": []
  },
  {
   "cell_type": "markdown",
   "id": "8e5afc49",
   "metadata": {},
   "source": [
    "### <span style=\"color:aqua\">Removing Punctuations</span>"
   ]
  },
  {
   "cell_type": "code",
   "execution_count": 9,
   "id": "e512ce26",
   "metadata": {},
   "outputs": [],
   "source": [
    "df_2 = df_1.copy()"
   ]
  },
  {
   "cell_type": "code",
   "execution_count": 10,
   "id": "81e518a9",
   "metadata": {},
   "outputs": [],
   "source": [
    "def depunctuate(text):\n",
    "    regrex_pattern = re.compile(pattern = \"[\"u\"\\/\"u\"\\\\\"u\"\\^\"u\"\\!\"u\"\\@\"u\"\\+\"u\"\\*\"u\"\\=\"u\"\\%\"u\"\\&\"u\"\\:\"u\"\\;\"u\"\\_\"u\"\\.\"u\"\\,\"u\"\\(\"u\"\\)\"u\"\\?\"u\"\\।\"u\"\\|\"u\"'\"u\"\\-\"u\"\\\"\"u\"]+\")\n",
    "    return regrex_pattern.sub(r' ',text)\n",
    "for i in range(df_2.shape[0]):\n",
    "    df_2.iloc[i,0] = depunctuate(df_2.iloc[i,0])"
   ]
  },
  {
   "cell_type": "code",
   "execution_count": 11,
   "id": "949db6a0",
   "metadata": {},
   "outputs": [
    {
     "data": {
      "text/html": [
       "<div>\n",
       "<style scoped>\n",
       "    .dataframe tbody tr th:only-of-type {\n",
       "        vertical-align: middle;\n",
       "    }\n",
       "\n",
       "    .dataframe tbody tr th {\n",
       "        vertical-align: top;\n",
       "    }\n",
       "\n",
       "    .dataframe thead th {\n",
       "        text-align: right;\n",
       "    }\n",
       "</style>\n",
       "<table border=\"1\" class=\"dataframe\">\n",
       "  <thead>\n",
       "    <tr style=\"text-align: right;\">\n",
       "      <th></th>\n",
       "      <th>posts</th>\n",
       "      <th>labels</th>\n",
       "    </tr>\n",
       "  </thead>\n",
       "  <tbody>\n",
       "    <tr>\n",
       "      <th>4122</th>\n",
       "      <td>আমার শরীর অতিরিক্ত দুর্বল অনুভব করি হাটতে লাগল...</td>\n",
       "      <td>1</td>\n",
       "    </tr>\n",
       "    <tr>\n",
       "      <th>550</th>\n",
       "      <td>আমি ইদানিং ডিপ্রেশনে আছি কি করব কিছু বুঝে উঠতে...</td>\n",
       "      <td>2</td>\n",
       "    </tr>\n",
       "    <tr>\n",
       "      <th>3791</th>\n",
       "      <td>আপা আমার একা থাতেনকেন ভাল লাগে আমি একা থাকতে ড...</td>\n",
       "      <td>1</td>\n",
       "    </tr>\n",
       "    <tr>\n",
       "      <th>4585</th>\n",
       "      <td>ডাক্তার তো অনেক দেখিয়েছি তারা তেমন কোন রোগ পান...</td>\n",
       "      <td>3</td>\n",
       "    </tr>\n",
       "    <tr>\n",
       "      <th>2007</th>\n",
       "      <td>আমার মন ভালো লাগে না কারো সাথে কথা বলতে বা কার...</td>\n",
       "      <td>1</td>\n",
       "    </tr>\n",
       "  </tbody>\n",
       "</table>\n",
       "</div>"
      ],
      "text/plain": [
       "                                                  posts  labels\n",
       "4122  আমার শরীর অতিরিক্ত দুর্বল অনুভব করি হাটতে লাগল...       1\n",
       "550   আমি ইদানিং ডিপ্রেশনে আছি কি করব কিছু বুঝে উঠতে...       2\n",
       "3791  আপা আমার একা থাতেনকেন ভাল লাগে আমি একা থাকতে ড...       1\n",
       "4585  ডাক্তার তো অনেক দেখিয়েছি তারা তেমন কোন রোগ পান...       3\n",
       "2007  আমার মন ভালো লাগে না কারো সাথে কথা বলতে বা কার...       1"
      ]
     },
     "execution_count": 11,
     "metadata": {},
     "output_type": "execute_result"
    }
   ],
   "source": [
    "df_2.sample(5)"
   ]
  },
  {
   "cell_type": "markdown",
   "id": "46ad2c57",
   "metadata": {},
   "source": [
    "### <span style=\"color:red\">Removing Numbers</span>"
   ]
  },
  {
   "cell_type": "code",
   "execution_count": 12,
   "id": "760ca5fc",
   "metadata": {},
   "outputs": [],
   "source": [
    "df_3 = df_2.copy()"
   ]
  },
  {
   "cell_type": "code",
   "execution_count": 13,
   "id": "2bc2f7b3",
   "metadata": {},
   "outputs": [],
   "source": [
    "def denumerize(text):\n",
    "    regrex_pattern = re.compile(pattern = \"[0-9০১২৩৪৫৬৭৮৯]+\")\n",
    "    return regrex_pattern.sub(r' ',text)\n",
    "for i in range(df_3.shape[0]):\n",
    "    df_3.iloc[i,0] = denumerize(df_3.iloc[i,0])"
   ]
  },
  {
   "cell_type": "code",
   "execution_count": 14,
   "id": "ee4bb660",
   "metadata": {},
   "outputs": [
    {
     "data": {
      "text/html": [
       "<div>\n",
       "<style scoped>\n",
       "    .dataframe tbody tr th:only-of-type {\n",
       "        vertical-align: middle;\n",
       "    }\n",
       "\n",
       "    .dataframe tbody tr th {\n",
       "        vertical-align: top;\n",
       "    }\n",
       "\n",
       "    .dataframe thead th {\n",
       "        text-align: right;\n",
       "    }\n",
       "</style>\n",
       "<table border=\"1\" class=\"dataframe\">\n",
       "  <thead>\n",
       "    <tr style=\"text-align: right;\">\n",
       "      <th></th>\n",
       "      <th>posts</th>\n",
       "      <th>labels</th>\n",
       "    </tr>\n",
       "  </thead>\n",
       "  <tbody>\n",
       "    <tr>\n",
       "      <th>1961</th>\n",
       "      <td>আমার মন সব সময় খারাপ থাকে কি করতে পারি</td>\n",
       "      <td>2</td>\n",
       "    </tr>\n",
       "    <tr>\n",
       "      <th>3896</th>\n",
       "      <td>আমার মনে হচ্ছে আমার মাথা ব্লক হয়ে গেছে আমি যতই...</td>\n",
       "      <td>4</td>\n",
       "    </tr>\n",
       "    <tr>\n",
       "      <th>417</th>\n",
       "      <td>খুব একা লাগে ডিপ্রেশন কাজ করে মনে হয় মৃত্যু হল...</td>\n",
       "      <td>4</td>\n",
       "    </tr>\n",
       "    <tr>\n",
       "      <th>69</th>\n",
       "      <td>আমি বেশিরভাগ সময়ই হতাশার মধ্যে থাকি এবং টেনশন...</td>\n",
       "      <td>2</td>\n",
       "    </tr>\n",
       "    <tr>\n",
       "      <th>3476</th>\n",
       "      <td>যে কোনো ছোটখাটো বিষয় নিয়ে ডিপ্রশেষন থাকি  খুব ...</td>\n",
       "      <td>2</td>\n",
       "    </tr>\n",
       "  </tbody>\n",
       "</table>\n",
       "</div>"
      ],
      "text/plain": [
       "                                                  posts  labels\n",
       "1961            আমার মন সব সময় খারাপ থাকে কি করতে পারি        2\n",
       "3896  আমার মনে হচ্ছে আমার মাথা ব্লক হয়ে গেছে আমি যতই...       4\n",
       "417   খুব একা লাগে ডিপ্রেশন কাজ করে মনে হয় মৃত্যু হল...       4\n",
       "69    আমি বেশিরভাগ সময়ই হতাশার মধ্যে থাকি এবং টেনশন...       2\n",
       "3476  যে কোনো ছোটখাটো বিষয় নিয়ে ডিপ্রশেষন থাকি  খুব ...       2"
      ]
     },
     "execution_count": 14,
     "metadata": {},
     "output_type": "execute_result"
    }
   ],
   "source": [
    "df_3.sample(5)"
   ]
  },
  {
   "cell_type": "markdown",
   "id": "2c57e6a0",
   "metadata": {},
   "source": [
    "### <span style=\"color:hotpink\">Discarding all Posts Beyond the Range of Acceptable Length </span>"
   ]
  },
  {
   "cell_type": "code",
   "execution_count": 15,
   "id": "a1abf60f",
   "metadata": {},
   "outputs": [],
   "source": [
    "df_4 = df_3.copy()"
   ]
  },
  {
   "cell_type": "code",
   "execution_count": 16,
   "id": "ba4c036f",
   "metadata": {},
   "outputs": [],
   "source": [
    "def remove_empty_string_literals(string_list):\n",
    "    while(\"\" in string_list) :\n",
    "        string_list.remove(\"\")\n",
    "    return string_list"
   ]
  },
  {
   "cell_type": "code",
   "execution_count": 17,
   "id": "a17c8c72",
   "metadata": {},
   "outputs": [],
   "source": [
    "df_4['length'] = [len(remove_empty_string_literals(post.split(' '))) for post in df_4.iloc[:, 0]] "
   ]
  },
  {
   "cell_type": "code",
   "execution_count": 18,
   "id": "bd828008",
   "metadata": {},
   "outputs": [
    {
     "data": {
      "text/html": [
       "<div>\n",
       "<style scoped>\n",
       "    .dataframe tbody tr th:only-of-type {\n",
       "        vertical-align: middle;\n",
       "    }\n",
       "\n",
       "    .dataframe tbody tr th {\n",
       "        vertical-align: top;\n",
       "    }\n",
       "\n",
       "    .dataframe thead th {\n",
       "        text-align: right;\n",
       "    }\n",
       "</style>\n",
       "<table border=\"1\" class=\"dataframe\">\n",
       "  <thead>\n",
       "    <tr style=\"text-align: right;\">\n",
       "      <th></th>\n",
       "      <th>posts</th>\n",
       "      <th>labels</th>\n",
       "      <th>length</th>\n",
       "    </tr>\n",
       "  </thead>\n",
       "  <tbody>\n",
       "    <tr>\n",
       "      <th>3874</th>\n",
       "      <td>আমি যাকে ভালোবাসি তারসাথে যোহাযোহ করার সব রকম ...</td>\n",
       "      <td>1</td>\n",
       "      <td>36</td>\n",
       "    </tr>\n",
       "    <tr>\n",
       "      <th>958</th>\n",
       "      <td>আমার ভালবাসার সম্পর্ক   বছরের বেশি হলো  গত   ম...</td>\n",
       "      <td>1</td>\n",
       "      <td>43</td>\n",
       "    </tr>\n",
       "    <tr>\n",
       "      <th>309</th>\n",
       "      <td>প্রিয় মানুষের মন খারাপ   এখন তার মন ভালো করার...</td>\n",
       "      <td>1</td>\n",
       "      <td>37</td>\n",
       "    </tr>\n",
       "    <tr>\n",
       "      <th>3630</th>\n",
       "      <td>পারিবারিক ঝামেলা প্রচুর  এদিকে অর্থনৈতিক ভাবেও...</td>\n",
       "      <td>4</td>\n",
       "      <td>64</td>\n",
       "    </tr>\n",
       "    <tr>\n",
       "      <th>620</th>\n",
       "      <td>আমার বয়স   বছর  সামান্য কিছু তে আমি প্রচুর কান...</td>\n",
       "      <td>3</td>\n",
       "      <td>49</td>\n",
       "    </tr>\n",
       "  </tbody>\n",
       "</table>\n",
       "</div>"
      ],
      "text/plain": [
       "                                                  posts  labels  length\n",
       "3874  আমি যাকে ভালোবাসি তারসাথে যোহাযোহ করার সব রকম ...       1      36\n",
       "958   আমার ভালবাসার সম্পর্ক   বছরের বেশি হলো  গত   ম...       1      43\n",
       "309   প্রিয় মানুষের মন খারাপ   এখন তার মন ভালো করার...       1      37\n",
       "3630  পারিবারিক ঝামেলা প্রচুর  এদিকে অর্থনৈতিক ভাবেও...       4      64\n",
       "620   আমার বয়স   বছর  সামান্য কিছু তে আমি প্রচুর কান...       3      49"
      ]
     },
     "execution_count": 18,
     "metadata": {},
     "output_type": "execute_result"
    }
   ],
   "source": [
    "df_4.sample(5)"
   ]
  },
  {
   "cell_type": "code",
   "execution_count": 19,
   "id": "828d10eb",
   "metadata": {},
   "outputs": [
    {
     "name": "stdout",
     "output_type": "stream",
     "text": [
      "(4871, 3)\n"
     ]
    }
   ],
   "source": [
    "# Defining an acceptable range for the length of posts -> inclusive\n",
    "LOWER_BOUND = 5\n",
    "UPPER_BOUND = 300\n",
    "df_5 = df_4[(df_4['length'] >= LOWER_BOUND) == True]\n",
    "df_5 = df_5[(df_5['length'] <= UPPER_BOUND) == True]\n",
    "print(df_5.shape)"
   ]
  },
  {
   "cell_type": "code",
   "execution_count": 20,
   "id": "df6eeeae",
   "metadata": {},
   "outputs": [
    {
     "data": {
      "text/html": [
       "<div>\n",
       "<style scoped>\n",
       "    .dataframe tbody tr th:only-of-type {\n",
       "        vertical-align: middle;\n",
       "    }\n",
       "\n",
       "    .dataframe tbody tr th {\n",
       "        vertical-align: top;\n",
       "    }\n",
       "\n",
       "    .dataframe thead th {\n",
       "        text-align: right;\n",
       "    }\n",
       "</style>\n",
       "<table border=\"1\" class=\"dataframe\">\n",
       "  <thead>\n",
       "    <tr style=\"text-align: right;\">\n",
       "      <th></th>\n",
       "      <th>posts</th>\n",
       "      <th>labels</th>\n",
       "      <th>length</th>\n",
       "    </tr>\n",
       "  </thead>\n",
       "  <tbody>\n",
       "    <tr>\n",
       "      <th>198</th>\n",
       "      <td>আমি এখন নিজেকে খুব একাকিত্ম অনুভব করি  আমি পড়া...</td>\n",
       "      <td>2</td>\n",
       "      <td>34</td>\n",
       "    </tr>\n",
       "    <tr>\n",
       "      <th>2772</th>\n",
       "      <td>আমি ব্যাংকে জব করি  সারাদিনের ক্লান্তি আর কাজে...</td>\n",
       "      <td>2</td>\n",
       "      <td>29</td>\n",
       "    </tr>\n",
       "    <tr>\n",
       "      <th>2978</th>\n",
       "      <td>প্লিজ আপনি বললে ভাল হবে  আপনার দেওয়া উওর গুলো ...</td>\n",
       "      <td>3</td>\n",
       "      <td>77</td>\n",
       "    </tr>\n",
       "    <tr>\n",
       "      <th>1502</th>\n",
       "      <td>দীর্ঘদিন যাবৎ মানসিক সমস্যার ভিতরে রয়েছে আমি ...</td>\n",
       "      <td>2</td>\n",
       "      <td>18</td>\n",
       "    </tr>\n",
       "    <tr>\n",
       "      <th>4734</th>\n",
       "      <td>আমি মানসিক সমস্যায় ভুগছি  আমার করণীয় কি</td>\n",
       "      <td>2</td>\n",
       "      <td>7</td>\n",
       "    </tr>\n",
       "  </tbody>\n",
       "</table>\n",
       "</div>"
      ],
      "text/plain": [
       "                                                  posts  labels  length\n",
       "198   আমি এখন নিজেকে খুব একাকিত্ম অনুভব করি  আমি পড়া...       2      34\n",
       "2772  আমি ব্যাংকে জব করি  সারাদিনের ক্লান্তি আর কাজে...       2      29\n",
       "2978  প্লিজ আপনি বললে ভাল হবে  আপনার দেওয়া উওর গুলো ...       3      77\n",
       "1502  দীর্ঘদিন যাবৎ মানসিক সমস্যার ভিতরে রয়েছে আমি ...       2      18\n",
       "4734         আমি মানসিক সমস্যায় ভুগছি  আমার করণীয় কি        2       7"
      ]
     },
     "execution_count": 20,
     "metadata": {},
     "output_type": "execute_result"
    }
   ],
   "source": [
    "df_5.sample(5)"
   ]
  },
  {
   "cell_type": "markdown",
   "id": "acf1a989",
   "metadata": {},
   "source": [
    "### <span style=\"color:orange\">Tokenizing Dataset</span>"
   ]
  },
  {
   "cell_type": "code",
   "execution_count": 21,
   "id": "1f2f30cf",
   "metadata": {},
   "outputs": [],
   "source": [
    "from bnlp import BasicTokenizer\n",
    "tokenizer = BasicTokenizer()\n",
    "# Replace df_5 with df_x to revert the effects of text cleaning\n",
    "x, y = df_5.iloc[:, 0:1].values, df_5.iloc[:, 1:2].values\n",
    "x = x.tolist()\n",
    "for i in range(len(x)):\n",
    "    x[i] = tokenizer.tokenize(x[i][0])"
   ]
  },
  {
   "cell_type": "markdown",
   "id": "8988ee3c",
   "metadata": {},
   "source": [
    "### <span style=\"color:deeppink\">Visualizing Word Frequency Distribution</span>"
   ]
  },
  {
   "cell_type": "code",
   "execution_count": 22,
   "id": "e50d7aa2",
   "metadata": {},
   "outputs": [],
   "source": [
    "words = [word for words in x for word in words]"
   ]
  },
  {
   "cell_type": "code",
   "execution_count": 23,
   "id": "629e4e9e",
   "metadata": {},
   "outputs": [
    {
     "data": {
      "image/png": "[encoded data removed]",
      "text/plain": [
       "<Figure size 640x480 with 1 Axes>"
      ]
     },
     "metadata": {},
     "output_type": "display_data"
    }
   ],
   "source": [
    "from nltk.probability import FreqDist\n",
    "import matplotlib\n",
    "import matplotlib.font_manager as font_manager\n",
    "from matplotlib import rcParams\n",
    "from matplotlib.pyplot import figure\n",
    "\n",
    "matplotlib.rcParams.update(matplotlib.rcParamsDefault)\n",
    "figure(figsize=(8, 6), dpi=80)\n",
    "font_dir = ['kalpurush/']\n",
    "for font in font_manager.findSystemFonts(font_dir):\n",
    "    font_manager.fontManager.addfont(font)\n",
    "rcParams['font.family'] = 'kalpurush'\n",
    "rcParams.update({'text.color' : \"red\",\n",
    "                 'axes.labelcolor' : \"red\",\n",
    "                 'xtick.color' : \"red\",\n",
    "                 'ytick.color' : \"red\",\n",
    "                 'xtick.minor.width' : 2})\n",
    "freq_dist = FreqDist(words)\n",
    "freq_dist.plot(30, title = \"Frequency Distribution of 30 most common words in Corpus\")\n",
    "matplotlib.rcParams.update(matplotlib.rcParamsDefault)"
   ]
  },
  {
   "cell_type": "markdown",
   "id": "e49cddfd",
   "metadata": {},
   "source": [
    "### <span style=\"color:gold\">Visualizing Post Length Frequency Distribution</span>"
   ]
  },
  {
   "cell_type": "code",
   "execution_count": 24,
   "id": "5a5c4fe6",
   "metadata": {},
   "outputs": [],
   "source": [
    "lens = [len(posts) for posts in x]\n",
    "lens = pd.Series(lens, name = \"post length\")"
   ]
  },
  {
   "cell_type": "code",
   "execution_count": 25,
   "id": "37301494",
   "metadata": {},
   "outputs": [
    {
     "data": {
      "image/png": "[encoded data removed]",
      "text/plain": [
       "<Figure size 500x500 with 1 Axes>"
      ]
     },
     "metadata": {},
     "output_type": "display_data"
    }
   ],
   "source": [
    "import seaborn as sns\n",
    "sns.displot(lens, color = 'r').set(title = 'Post Length Frequency Distribution')\n",
    "import matplotlib.pyplot as plt\n",
    "plt.show()"
   ]
  },
  {
   "cell_type": "markdown",
   "id": "769b19c0",
   "metadata": {},
   "source": [
    "### <span style=\"color:deepskyblue\">Visualizing Label Counts</span>"
   ]
  },
  {
   "cell_type": "code",
   "execution_count": 26,
   "id": "8a817908",
   "metadata": {},
   "outputs": [
    {
     "data": {
      "image/png": "[encoded data removed]",
      "text/plain": [
       "<Figure size 640x480 with 1 Axes>"
      ]
     },
     "metadata": {},
     "output_type": "display_data"
    }
   ],
   "source": [
    "counts = df_3['labels'].value_counts().to_dict()\n",
    "import matplotlib.pyplot as plt\n",
    "labels = 'Scale 1', 'Scale 2', 'Scale 3', 'Scale 4'\n",
    "sizes = [counts[1], counts[2], counts[3], counts[4]]\n",
    "colors = ['#9400D3','#FF1493','#FFD700','#87CEEB']\n",
    "explode = (0, 0, 0, 0.1)\n",
    "fig1, ax1 = plt.subplots()\n",
    "ax1.pie(sizes, explode = explode, labels = labels, \n",
    "        autopct = '%1.1f%%', \n",
    "        shadow = True, \n",
    "        startangle = 90,\n",
    "        colors = colors)\n",
    "ax1.axis('equal')\n",
    "plt.title('Label Counts')\n",
    "plt.show()"
   ]
  },
  {
   "cell_type": "markdown",
   "id": "9ffbe306",
   "metadata": {},
   "source": [
    "### <span style=\"color:crimson\">Spell Correction using FastText</span>"
   ]
  },
  {
   "cell_type": "markdown",
   "id": "37187c36",
   "metadata": {},
   "source": [
    "<font>Source:\n",
    "    https://medium.com/analytics-vidhya/bengali-word-spelling-correction-using-pre-trained-word2vec-1f9938f48b09\n",
    "</font>\n",
    "\n",
    "- letters = The Bengali script has a total of 9 vowels. Each of which is called a ‘স্বরবর্ণ’. Also, have 35 consonants that are known as ‘ব্যঞ্জনবর্ণ ‘.\n",
    "\n",
    "- splits = It is working as a list which has both forward and reverses orders of the word sequence.\n",
    "\n",
    "- deletes = Also, a list which checks the left and right of a word in splits list and deletes the incorrect syntax.\n",
    "\n",
    "- transposes = It is used to change word places with each other words using the splits list.\n",
    "\n",
    "- replaces = Is a list it put words back in a previous place or position.\n",
    "\n",
    "- inserts = It helps to place and fit the correct words into the replacing with the incorrect word, especially with care."
   ]
  },
  {
   "cell_type": "code",
   "execution_count": 27,
   "id": "f22dd9f1",
   "metadata": {},
   "outputs": [],
   "source": [
    "from gensim.models import KeyedVectors\n",
    "model = KeyedVectors.load_word2vec_format('models/cc.bn.300.vec')"
   ]
  },
  {
   "cell_type": "code",
   "execution_count": 28,
   "id": "92851b6f",
   "metadata": {},
   "outputs": [],
   "source": [
    "words = model.index_to_key\n",
    "word_rank = {}\n",
    "for index, word in enumerate(words):\n",
    "    word_rank[word] = index"
   ]
  },
  {
   "cell_type": "code",
   "execution_count": 29,
   "id": "93dc3c7c",
   "metadata": {},
   "outputs": [],
   "source": [
    "# This methods returns the value for the given key, if present in the dictionary using the get() method\n",
    "def P(word): \n",
    "    return - word_rank.get(word, 0)\n",
    "\n",
    "#  It returns the maximum candidates words with a key which is defined by P\n",
    "def correction(word): \n",
    "    return max(candidates(word), key=P)\n",
    "\n",
    "# The absolute candidate of the wrong word could found from known() methods is the actual work of this function.\n",
    "def candidates(word): \n",
    "    return (known([word]) or known(edits1(word)) or known(edits2(word)) or [word])\n",
    "\n",
    "# This method is used to find out the set of a word which is present in the dictionary\n",
    "def known(words): \n",
    "    return set(w for w in words if w in word_rank)\n",
    "\n",
    "# Many parameters such as deletes, transposes, replaces, inserts are used in this method.\n",
    "# Those parameters return the correct word of an incorrect word in a sentence.\n",
    "# A set() function is used to find out the unordered collection of words\n",
    "def edits1(word):\n",
    "    letters    = 'ঁংঃঅআইঈউঊঋএঐওঔকখগঘঙচছজঝঞটঠডঢণতথদধনপফবভমযরলশষসহ়ঽািীুূৃৄেৈোৌ্ৎৗড়ঢ়য়'\n",
    "    splits     = [(word[:i], word[i:])    for i in range(len(word) + 1)]\n",
    "    deletes    = [L + R[1:]               for L, R in splits if R]\n",
    "    transposes = [L + R[1] + R[0] + R[2:] for L, R in splits if len(R)>1]\n",
    "    replaces   = [L + c + R[1:]           for L, R in splits if R for c in letters]\n",
    "    inserts    = [L + c + R               for L, R in splits for c in letters]\n",
    "    return set(deletes + transposes + replaces + inserts)\n",
    "    \n",
    "#  This method is returend the word which is edited by in edits1() functions\n",
    "def edits2(word): \n",
    "    return (e2 for e1 in edits1(word) for e2 in edits1(e1))"
   ]
  },
  {
   "cell_type": "code",
   "execution_count": 30,
   "id": "c0d777d4",
   "metadata": {},
   "outputs": [],
   "source": [
    "def spell_correction(sentence):\n",
    "    corrected_sentence = []\n",
    "    for word in sentence:\n",
    "        corrected_sentence.append(correction(word))\n",
    "    return re.sub(' +' ,' ', ' '.join(corrected_sentence))"
   ]
  },
  {
   "cell_type": "code",
   "execution_count": 31,
   "id": "2fa312b5",
   "metadata": {},
   "outputs": [],
   "source": [
    "from bnlp import BasicTokenizer\n",
    "tokenizer = BasicTokenizer()\n",
    "x = df_5.iloc[:, 0:1].values\n",
    "x = x.tolist()\n",
    "for i in range(len(x)):\n",
    "    x[i] = tokenizer.tokenize(x[i][0])\n",
    "for i in range(df_5.shape[0]):\n",
    "    df_5.iloc[i, 0] = spell_correction(x[i])"
   ]
  },
  {
   "cell_type": "code",
   "execution_count": 32,
   "id": "1a6ece56",
   "metadata": {},
   "outputs": [
    {
     "data": {
      "text/html": [
       "<div>\n",
       "<style scoped>\n",
       "    .dataframe tbody tr th:only-of-type {\n",
       "        vertical-align: middle;\n",
       "    }\n",
       "\n",
       "    .dataframe tbody tr th {\n",
       "        vertical-align: top;\n",
       "    }\n",
       "\n",
       "    .dataframe thead th {\n",
       "        text-align: right;\n",
       "    }\n",
       "</style>\n",
       "<table border=\"1\" class=\"dataframe\">\n",
       "  <thead>\n",
       "    <tr style=\"text-align: right;\">\n",
       "      <th></th>\n",
       "      <th>posts</th>\n",
       "      <th>labels</th>\n",
       "      <th>length</th>\n",
       "    </tr>\n",
       "  </thead>\n",
       "  <tbody>\n",
       "    <tr>\n",
       "      <th>3112</th>\n",
       "      <td>আমার কিছুই ভালো লাগেনা কোনো কাজে উৎসাহ আগ্রহ প...</td>\n",
       "      <td>1</td>\n",
       "      <td>27</td>\n",
       "    </tr>\n",
       "    <tr>\n",
       "      <th>2952</th>\n",
       "      <td>একাকীত্ব দূর করার জন্য কি কি করা যায়</td>\n",
       "      <td>1</td>\n",
       "      <td>8</td>\n",
       "    </tr>\n",
       "    <tr>\n",
       "      <th>3339</th>\n",
       "      <td>আমার সব সময় মন মরা থাকে মানসিক অশান্তি আমি কি করব</td>\n",
       "      <td>1</td>\n",
       "      <td>11</td>\n",
       "    </tr>\n",
       "    <tr>\n",
       "      <th>1260</th>\n",
       "      <td>আমি সিজোফ্রেনিয়া রোগে আক্রান্ত ছিলাম যা অনেকটা...</td>\n",
       "      <td>4</td>\n",
       "      <td>33</td>\n",
       "    </tr>\n",
       "    <tr>\n",
       "      <th>2996</th>\n",
       "      <td>আমি রিসেন্টলি একটা প্রাইভেট মেডিকেল এ ভর্তি হই...</td>\n",
       "      <td>4</td>\n",
       "      <td>136</td>\n",
       "    </tr>\n",
       "  </tbody>\n",
       "</table>\n",
       "</div>"
      ],
      "text/plain": [
       "                                                  posts  labels  length\n",
       "3112  আমার কিছুই ভালো লাগেনা কোনো কাজে উৎসাহ আগ্রহ প...       1      27\n",
       "2952               একাকীত্ব দূর করার জন্য কি কি করা যায়       1       8\n",
       "3339  আমার সব সময় মন মরা থাকে মানসিক অশান্তি আমি কি করব       1      11\n",
       "1260  আমি সিজোফ্রেনিয়া রোগে আক্রান্ত ছিলাম যা অনেকটা...       4      33\n",
       "2996  আমি রিসেন্টলি একটা প্রাইভেট মেডিকেল এ ভর্তি হই...       4     136"
      ]
     },
     "execution_count": 32,
     "metadata": {},
     "output_type": "execute_result"
    }
   ],
   "source": [
    "df_5.sample(5)"
   ]
  },
  {
   "cell_type": "markdown",
   "id": "77d81e60",
   "metadata": {},
   "source": [
    "### <span style=\"color:coral\">Removing Stopwords</span>"
   ]
  },
  {
   "cell_type": "code",
   "execution_count": 33,
   "id": "0450971b",
   "metadata": {},
   "outputs": [],
   "source": [
    "from bnlp.corpus.util import remove_stopwords"
   ]
  },
  {
   "cell_type": "code",
   "execution_count": 34,
   "id": "5b75cec8",
   "metadata": {},
   "outputs": [],
   "source": [
    "file = open('stopwords/stopwords-bn.txt', encoding = 'utf-8')\n",
    "stopwords = []\n",
    "for line in file:\n",
    "    stopwords.append(line.strip())\n",
    "file.close()\n",
    "stopwords = list(filter(None, stopwords))"
   ]
  },
  {
   "cell_type": "code",
   "execution_count": 35,
   "id": "b620fdeb",
   "metadata": {},
   "outputs": [],
   "source": [
    "df_6 = df_5.iloc[:, 0:2].copy()"
   ]
  },
  {
   "cell_type": "code",
   "execution_count": 36,
   "id": "b0e5207d",
   "metadata": {},
   "outputs": [],
   "source": [
    "for i in range(df_6.shape[0]):\n",
    "    df_6.iloc[i, 0] = ' '.join(remove_stopwords(df_6.iloc[i, 0], stopwords))"
   ]
  },
  {
   "cell_type": "code",
   "execution_count": 37,
   "id": "666f2a73",
   "metadata": {},
   "outputs": [
    {
     "data": {
      "image/png": "[encoded data removed]",
      "text/plain": [
       "<Figure size 400x320 with 1 Axes>"
      ]
     },
     "metadata": {},
     "output_type": "display_data"
    }
   ],
   "source": [
    "# Revisualizing Word Frequency Distribution after removing Stopwords\n",
    "from bnlp import BasicTokenizer\n",
    "tokenizer = BasicTokenizer()\n",
    "# Replace df_5 with df_x to revert the effects of text cleaning\n",
    "x, y = df_6.iloc[:, 0:1].values, df_6.iloc[:, 1:2].values\n",
    "x = x.tolist()\n",
    "for i in range(len(x)):\n",
    "    x[i] = tokenizer.tokenize(x[i][0])\n",
    "\n",
    "words = [word for words in x for word in words]\n",
    "\n",
    "matplotlib.rcParams.update(matplotlib.rcParamsDefault)\n",
    "figure(figsize=(5, 4), dpi=80)\n",
    "font_dir = ['kalpurush/']\n",
    "for font in font_manager.findSystemFonts(font_dir):\n",
    "    font_manager.fontManager.addfont(font)\n",
    "rcParams['font.family'] = 'kalpurush'\n",
    "rcParams.update({'text.color' : \"red\",\n",
    "                 'axes.labelcolor' : \"red\",\n",
    "                 'xtick.color' : \"red\",\n",
    "                 'ytick.color' : \"red\",\n",
    "                 'xtick.minor.width' : 2})\n",
    "freq_dist = FreqDist(words)\n",
    "freq_dist.plot(30, title = \"Frequency Distribution of 30 most common words in Corpus after removing Stopwords\")\n",
    "matplotlib.rcParams.update(matplotlib.rcParamsDefault)"
   ]
  },
  {
   "cell_type": "markdown",
   "id": "545d5fc1",
   "metadata": {},
   "source": [
    "### <span style=\"color:gold\">Creating Sparse Matrix</span>"
   ]
  },
  {
   "cell_type": "code",
   "execution_count": 38,
   "id": "21e228d2",
   "metadata": {},
   "outputs": [],
   "source": [
    "corpus = df_6.iloc[:, 0].values\n",
    "y = df_6.iloc[:, 1].values"
   ]
  },
  {
   "cell_type": "code",
   "execution_count": 39,
   "id": "b7cdbf32",
   "metadata": {},
   "outputs": [
    {
     "data": {
      "text/html": [
       "<div>\n",
       "<style scoped>\n",
       "    .dataframe tbody tr th:only-of-type {\n",
       "        vertical-align: middle;\n",
       "    }\n",
       "\n",
       "    .dataframe tbody tr th {\n",
       "        vertical-align: top;\n",
       "    }\n",
       "\n",
       "    .dataframe thead th {\n",
       "        text-align: right;\n",
       "    }\n",
       "</style>\n",
       "<table border=\"1\" class=\"dataframe\">\n",
       "  <thead>\n",
       "    <tr style=\"text-align: right;\">\n",
       "      <th></th>\n",
       "      <th>posts</th>\n",
       "      <th>labels</th>\n",
       "    </tr>\n",
       "  </thead>\n",
       "  <tbody>\n",
       "    <tr>\n",
       "      <th>2738</th>\n",
       "      <td>পরিবারের বুঝতে চায়না এমনকি স্ত্রীও না মানুষিক ...</td>\n",
       "      <td>2</td>\n",
       "    </tr>\n",
       "    <tr>\n",
       "      <th>4257</th>\n",
       "      <td>দুঃচিন্তা রোগে গত মাস ভুগেছি আনান্দ ভুলে গেছি ...</td>\n",
       "      <td>3</td>\n",
       "    </tr>\n",
       "    <tr>\n",
       "      <th>1295</th>\n",
       "      <td>অশান্তি তে থাকি হাসব্যান্ড দূরে বছরের পরিচয় রে...</td>\n",
       "      <td>2</td>\n",
       "    </tr>\n",
       "    <tr>\n",
       "      <th>2929</th>\n",
       "      <td>মানসিক সমস্যার কারনে ঘুম আসে না</td>\n",
       "      <td>2</td>\n",
       "    </tr>\n",
       "    <tr>\n",
       "      <th>774</th>\n",
       "      <td>মন সারাখন খারাপ আত্যহত্যা ইচ্ছে সব সময় পেতে</td>\n",
       "      <td>4</td>\n",
       "    </tr>\n",
       "  </tbody>\n",
       "</table>\n",
       "</div>"
      ],
      "text/plain": [
       "                                                  posts  labels\n",
       "2738  পরিবারের বুঝতে চায়না এমনকি স্ত্রীও না মানুষিক ...       2\n",
       "4257  দুঃচিন্তা রোগে গত মাস ভুগেছি আনান্দ ভুলে গেছি ...       3\n",
       "1295  অশান্তি তে থাকি হাসব্যান্ড দূরে বছরের পরিচয় রে...       2\n",
       "2929                    মানসিক সমস্যার কারনে ঘুম আসে না       2\n",
       "774         মন সারাখন খারাপ আত্যহত্যা ইচ্ছে সব সময় পেতে       4"
      ]
     },
     "execution_count": 39,
     "metadata": {},
     "output_type": "execute_result"
    }
   ],
   "source": [
    "df_6.sample(5)"
   ]
  },
  {
   "cell_type": "code",
   "execution_count": 40,
   "id": "f3d27ee8",
   "metadata": {},
   "outputs": [],
   "source": [
    "from sklearn.model_selection import train_test_split\n",
    "x_train, x_test, y_train, y_test=train_test_split(corpus, y, test_size=0.2)\n",
    "from sklearn.feature_extraction.text import CountVectorizer\n",
    "cv = CountVectorizer(max_features = 5000)\n",
    "x_train = cv.fit_transform(x_train).toarray()\n",
    "x_test = cv.transform(x_test)"
   ]
  },
  {
   "cell_type": "markdown",
   "id": "1468add1",
   "metadata": {},
   "source": [
    "### <span style=\"color:cyan\">Creating TF-IDF Feature Vector</span>"
   ]
  },
  {
   "cell_type": "code",
   "execution_count": 41,
   "id": "6ba42ade",
   "metadata": {},
   "outputs": [],
   "source": [
    "from sklearn.feature_extraction.text import TfidfVectorizer\n",
    "x_tfidf_train, x_tfidf_test, y_tfidf_train, y_tfidf_test=train_test_split(corpus, y, test_size=0.2)"
   ]
  },
  {
   "cell_type": "code",
   "execution_count": 42,
   "id": "7eb0cf85",
   "metadata": {},
   "outputs": [],
   "source": [
    "#### Make it BIGRAM\n",
    "tf_idf = TfidfVectorizer(encoding = 'utf-8', lowercase = False, norm = 'l2', sublinear_tf = True, min_df = 2, ngram_range = (1, 2))\n",
    "x_tfidf_train = tf_idf.fit_transform(x_tfidf_train).toarray().tolist()\n",
    "x_tfidf_test = tf_idf.transform(x_tfidf_test).toarray().tolist()"
   ]
  },
  {
   "cell_type": "code",
   "execution_count": 58,
   "id": "68a8355c",
   "metadata": {},
   "outputs": [],
   "source": [
    "from sklearn.model_selection import train_test_split\n",
    "x_train, x_test, y_train, y_test=train_test_split(x, y, test_size=0.20)"
   ]
  },
  {
   "cell_type": "markdown",
   "id": "4852fd9e",
   "metadata": {},
   "source": [
    "### <span style=\"color:pink\">Random Forest + TF-IDF</span>"
   ]
  },
  {
   "cell_type": "code",
   "execution_count": 69,
   "id": "40707520",
   "metadata": {},
   "outputs": [
    {
     "name": "stderr",
     "output_type": "stream",
     "text": [
      "[Parallel(n_jobs=3)]: Using backend ThreadingBackend with 3 concurrent workers.\n",
      "[Parallel(n_jobs=3)]: Done  44 tasks      | elapsed:    1.3s\n",
      "[Parallel(n_jobs=3)]: Done 194 tasks      | elapsed:    5.4s\n",
      "[Parallel(n_jobs=3)]: Done 444 tasks      | elapsed:   12.1s\n",
      "[Parallel(n_jobs=3)]: Done 794 tasks      | elapsed:   21.8s\n",
      "[Parallel(n_jobs=3)]: Done 1244 tasks      | elapsed:   34.2s\n",
      "[Parallel(n_jobs=3)]: Done 1794 tasks      | elapsed:   49.3s\n",
      "[Parallel(n_jobs=3)]: Done 2444 tasks      | elapsed:  1.1min\n",
      "[Parallel(n_jobs=3)]: Done 3194 tasks      | elapsed:  1.5min\n",
      "[Parallel(n_jobs=3)]: Done 4044 tasks      | elapsed:  1.9min\n",
      "[Parallel(n_jobs=3)]: Done 4994 tasks      | elapsed:  2.3min\n",
      "[Parallel(n_jobs=3)]: Done 6044 tasks      | elapsed:  2.8min\n",
      "[Parallel(n_jobs=3)]: Done 7194 tasks      | elapsed:  3.4min\n",
      "[Parallel(n_jobs=3)]: Done 8444 tasks      | elapsed:  3.9min\n",
      "[Parallel(n_jobs=3)]: Done 9794 tasks      | elapsed:  4.6min\n",
      "[Parallel(n_jobs=3)]: Done 11244 tasks      | elapsed:  5.3min\n",
      "[Parallel(n_jobs=3)]: Done 12794 tasks      | elapsed:  6.0min\n",
      "[Parallel(n_jobs=3)]: Done 14444 tasks      | elapsed:  6.7min\n",
      "[Parallel(n_jobs=3)]: Done 16194 tasks      | elapsed:  7.5min\n",
      "[Parallel(n_jobs=3)]: Done 18044 tasks      | elapsed:  8.3min\n",
      "[Parallel(n_jobs=3)]: Done 19994 tasks      | elapsed:  9.2min\n",
      "[Parallel(n_jobs=3)]: Done 22044 tasks      | elapsed: 10.2min\n",
      "[Parallel(n_jobs=3)]: Done 24194 tasks      | elapsed: 11.3min\n",
      "[Parallel(n_jobs=3)]: Done 25000 out of 25000 | elapsed: 11.7min finished\n",
      "[Parallel(n_jobs=3)]: Using backend ThreadingBackend with 3 concurrent workers.\n",
      "[Parallel(n_jobs=3)]: Done  44 tasks      | elapsed:    0.0s\n",
      "[Parallel(n_jobs=3)]: Done 194 tasks      | elapsed:    0.1s\n",
      "[Parallel(n_jobs=3)]: Done 444 tasks      | elapsed:    0.2s\n",
      "[Parallel(n_jobs=3)]: Done 794 tasks      | elapsed:    0.3s\n",
      "[Parallel(n_jobs=3)]: Done 1244 tasks      | elapsed:    0.4s\n",
      "[Parallel(n_jobs=3)]: Done 1794 tasks      | elapsed:    0.5s\n",
      "[Parallel(n_jobs=3)]: Done 2444 tasks      | elapsed:    0.7s\n",
      "[Parallel(n_jobs=3)]: Done 3194 tasks      | elapsed:    0.9s\n",
      "[Parallel(n_jobs=3)]: Done 4044 tasks      | elapsed:    1.2s\n",
      "[Parallel(n_jobs=3)]: Done 4994 tasks      | elapsed:    1.4s\n",
      "[Parallel(n_jobs=3)]: Done 6044 tasks      | elapsed:    1.7s\n",
      "[Parallel(n_jobs=3)]: Done 7194 tasks      | elapsed:    2.1s\n",
      "[Parallel(n_jobs=3)]: Done 8444 tasks      | elapsed:    2.4s\n",
      "[Parallel(n_jobs=3)]: Done 9794 tasks      | elapsed:    2.8s\n",
      "[Parallel(n_jobs=3)]: Done 11244 tasks      | elapsed:    3.2s\n",
      "[Parallel(n_jobs=3)]: Done 12794 tasks      | elapsed:    3.6s\n",
      "[Parallel(n_jobs=3)]: Done 14444 tasks      | elapsed:    4.0s\n",
      "[Parallel(n_jobs=3)]: Done 16194 tasks      | elapsed:    4.6s\n",
      "[Parallel(n_jobs=3)]: Done 18044 tasks      | elapsed:    5.1s\n",
      "[Parallel(n_jobs=3)]: Done 19994 tasks      | elapsed:    5.6s\n",
      "[Parallel(n_jobs=3)]: Done 22044 tasks      | elapsed:    6.2s\n",
      "[Parallel(n_jobs=3)]: Done 24194 tasks      | elapsed:    6.8s\n"
     ]
    },
    {
     "name": "stdout",
     "output_type": "stream",
     "text": [
      "Classification Report\n",
      "              precision    recall  f1-score   support\n",
      "\n",
      "           1       0.76      0.95      0.84       419\n",
      "           2       0.71      0.77      0.74       313\n",
      "           3       0.79      0.22      0.34       141\n",
      "           4       0.93      0.63      0.75       102\n",
      "\n",
      "    accuracy                           0.75       975\n",
      "   macro avg       0.80      0.64      0.67       975\n",
      "weighted avg       0.76      0.75      0.73       975\n",
      "\n",
      "Confusion Matrix\n",
      "[[398  19   1   1]\n",
      " [ 67 242   3   1]\n",
      " [ 39  68  31   3]\n",
      " [ 22  12   4  64]]\n",
      "\n",
      "\u001b[31mF1 score (macro): 0.668842915136976\n",
      "\u001b[31mF1 score (weighted): 0.7276842434112674\n",
      "\u001b[31mF1 score (micro): 0.7538461538461538\n",
      "\u001b[31mAccuracy: 0.7538461538461538\n"
     ]
    },
    {
     "name": "stderr",
     "output_type": "stream",
     "text": [
      "[Parallel(n_jobs=3)]: Done 25000 out of 25000 | elapsed:    7.0s finished\n"
     ]
    }
   ],
   "source": [
    "from sklearn.ensemble import RandomForestClassifier\n",
    "from sklearn.utils import class_weight\n",
    "class_weights = class_weight.compute_class_weight(class_weight = 'balanced',\n",
    "                                                 classes = np.unique(np.reshape(y_tfidf_train, y_tfidf_train.shape[0])),\n",
    "                                                 y = np.reshape(y_tfidf_train, y_tfidf_train.shape[0]))\n",
    "class_weights = {1 : class_weights[0],\n",
    "               2 : class_weights[1],\n",
    "               3 : class_weights[2],\n",
    "               4 : class_weights[3]}\n",
    "classifier = RandomForestClassifier(n_estimators = 25000, verbose = 1, class_weight = class_weights,\n",
    "                                    n_jobs = 6)\n",
    "classifier.fit(x_tfidf_train, y_tfidf_train)\n",
    "y_tfidf_pred = classifier.predict(x_tfidf_test)\n",
    "from sklearn.metrics import confusion_matrix, classification_report\n",
    "cm = confusion_matrix(y_tfidf_test, y_tfidf_pred)\n",
    "cr = classification_report(y_tfidf_test, y_tfidf_pred)\n",
    "print('Classification Report', cr, sep = '\\n')\n",
    "print('Confusion Matrix', cm, '', sep = '\\n')\n",
    "from sklearn.metrics import f1_score\n",
    "from sklearn.metrics import accuracy_score\n",
    "print(Fore.RED+'F1 score (macro):', f1_score(y_tfidf_test, y_tfidf_pred, average = 'macro'))\n",
    "print(Fore.RED+'F1 score (weighted):', f1_score(y_tfidf_test, y_tfidf_pred, average = 'weighted'))\n",
    "print(Fore.RED+'F1 score (micro):', f1_score(y_tfidf_test, y_tfidf_pred, average = 'micro'))\n",
    "print(Fore.RED+'Accuracy:', accuracy_score(y_tfidf_test, y_tfidf_pred))"
   ]
  },
  {
   "cell_type": "markdown",
   "id": "dae1b249",
   "metadata": {},
   "source": [
    "## END"
   ]
  }
 ],
 "metadata": {
  "kernelspec": {
   "display_name": "Python 3 (ipykernel)",
   "language": "python",
   "name": "python3"
  },
  "language_info": {
   "codemirror_mode": {
    "name": "ipython",
    "version": 3
   },
   "file_extension": ".py",
   "mimetype": "text/x-python",
   "name": "python",
   "nbconvert_exporter": "python",
   "pygments_lexer": "ipython3",
   "version": "3.8.13"
  }
 },
 "nbformat": 4,
 "nbformat_minor": 5
}
