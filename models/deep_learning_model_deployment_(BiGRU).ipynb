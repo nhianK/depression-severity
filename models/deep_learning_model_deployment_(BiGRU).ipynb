{
 "cells": [
  {
   "cell_type": "markdown",
   "id": "727ec692",
   "metadata": {},
   "source": [
    "#### DEEP LEARNING MODEL DEPLOYMENT (Bi-LSTM)"
   ]
  },
  {
   "cell_type": "markdown",
   "id": "4414cddc",
   "metadata": {},
   "source": [
    "<span style=\"color:coral\">Data Preparation</span>"
   ]
  },
  {
   "cell_type": "code",
   "execution_count": 1,
   "id": "5d7bc043",
   "metadata": {},
   "outputs": [],
   "source": [
    "import numpy as np\n",
    "import pandas as pd\n",
    "import re\n",
    "from colorama import Fore, Back, Style"
   ]
  },
  {
   "cell_type": "code",
   "execution_count": 2,
   "id": "a7b94803",
   "metadata": {},
   "outputs": [],
   "source": [
    "dataset = pd.read_excel('dataset/maya_dataset.xlsx', engine = 'openpyxl')\n",
    "dataset = dataset.iloc[:, 0:2]\n",
    "df_1 = dataset.copy()"
   ]
  },
  {
   "cell_type": "code",
   "execution_count": 3,
   "id": "c28af640",
   "metadata": {},
   "outputs": [],
   "source": [
    "def deEmojify(text):\n",
    "    regrex_pattern = re.compile(pattern = \"[\"\n",
    "        u\"\\U0001F600-\\U0001F64F\"  # emoticons\n",
    "        u\"\\U0001F300-\\U0001F5FF\"  # symbols & pictographs\n",
    "        u\"\\U0001F680-\\U0001F6FF\"  # transport & map symbols\n",
    "        u\"\\U0001F1E0-\\U0001F1FF\"  # flags (iOS)\n",
    "        u\"\\U0001F97A\"\n",
    "        u\"\\U00002639\"\n",
    "        u\"\\U0001F642\"\n",
    "        u\"\\U00002764\"\n",
    "        u\"\\U0001F600-\\U000E007F\"\n",
    "                           \"]+\", flags = re.UNICODE)\n",
    "    return regrex_pattern.sub(r' ',text)\n",
    "\n",
    "def depunctuate(text):\n",
    "    regrex_pattern = re.compile(pattern = \"[\"u\"\\/\"u\"\\\\\"u\"\\^\"u\"\\!\"u\"\\@\"u\"\\+\"u\"\\*\"u\"\\=\"u\"\\%\"u\"\\&\"u\"\\:\"u\"\\;\"u\"\\_\"u\"\\.\"u\"\\,\"u\"\\(\"u\"\\)\"u\"\\?\"u\"\\।\"u\"\\|\"u\"'\"u\"\\-\"u\"\\\"\"u\"]+\")\n",
    "    return regrex_pattern.sub(r' ',text)\n",
    "\n",
    "def denumerize(text):\n",
    "    regrex_pattern = re.compile(pattern = \"[0-9০১২৩৪৫৬৭৮৯]+\")\n",
    "    return regrex_pattern.sub(r' ',text)\n",
    "\n",
    "def remove_empty_string_literals(string_list):\n",
    "    while(\"\" in string_list) :\n",
    "        string_list.remove(\"\")\n",
    "    return string_list"
   ]
  },
  {
   "cell_type": "code",
   "execution_count": 4,
   "id": "2894afb4",
   "metadata": {
    "scrolled": true
   },
   "outputs": [
    {
     "name": "stdout",
     "output_type": "stream",
     "text": [
      "(4871, 3)\n"
     ]
    }
   ],
   "source": [
    "for i in range(df_1.shape[0]):\n",
    "    df_1.iloc[i,0] = deEmojify(df_1.iloc[i,0])\n",
    "df_2 = df_1.copy()\n",
    "for i in range(df_2.shape[0]):\n",
    "    df_2.iloc[i,0] = depunctuate(df_2.iloc[i,0])\n",
    "df_3 = df_2.copy()\n",
    "for i in range(df_3.shape[0]):\n",
    "    df_3.iloc[i,0] = denumerize(df_3.iloc[i,0])\n",
    "df_4 = df_3.copy()\n",
    "df_4['length'] = [len(remove_empty_string_literals(post.split(' '))) for post in df_4.iloc[:, 0]]\n",
    "\n",
    "LOWER_BOUND = 5\n",
    "UPPER_BOUND = 300\n",
    "df_5 = df_4[(df_4['length'] >= LOWER_BOUND) == True]\n",
    "df_5 = df_5[(df_5['length'] <= UPPER_BOUND) == True]\n",
    "print(df_5.shape)\n",
    "\n"
   ]
  },
  {
   "cell_type": "markdown",
   "id": "8efe85d2",
   "metadata": {},
   "source": [
    "<span style=\"color:crimson\">Spell Correction using FastText</span>"
   ]
  },
  {
   "cell_type": "markdown",
   "id": "5d5f88aa",
   "metadata": {},
   "source": [
    "<font>Source:\n",
    "    https://medium.com/analytics-vidhya/bengali-word-spelling-correction-using-pre-trained-word2vec-1f9938f48b09\n",
    "</font>\n",
    "\n",
    "- letters = The Bengali script has a total of 9 vowels. Each of which is called a ‘স্বরবর্ণ’. Also, have 35 consonants that are known as ‘ব্যঞ্জনবর্ণ ‘.\n",
    "\n",
    "- splits = It is working as a list which has both forward and reverses orders of the word sequence.\n",
    "\n",
    "- deletes = Also, a list which checks the left and right of a word in splits list and deletes the incorrect syntax.\n",
    "\n",
    "- transposes = It is used to change word places with each other words using the splits list.\n",
    "\n",
    "- replaces = Is a list it put words back in a previous place or position.\n",
    "\n",
    "- inserts = It helps to place and fit the correct words into the replacing with the incorrect word, especially with care."
   ]
  },
  {
   "cell_type": "code",
   "execution_count": 5,
   "id": "db4b2499",
   "metadata": {},
   "outputs": [],
   "source": [
    "from gensim.models import KeyedVectors\n",
    "model = KeyedVectors.load_word2vec_format('models/cc.bn.300.vec')"
   ]
  },
  {
   "cell_type": "code",
   "execution_count": 6,
   "id": "a6fd6a96",
   "metadata": {},
   "outputs": [
    {
     "data": {
      "text/plain": [
       "1468578"
      ]
     },
     "execution_count": 6,
     "metadata": {},
     "output_type": "execute_result"
    }
   ],
   "source": [
    "words = model.index_to_key\n",
    "word_rank = {}\n",
    "for index, word in enumerate(words):\n",
    "    word_rank[word] = index\n",
    "len(words)"
   ]
  },
  {
   "cell_type": "code",
   "execution_count": 7,
   "id": "207d46c7",
   "metadata": {},
   "outputs": [],
   "source": [
    "# This methods returns the value for the given key, if present in the dictionary using the get() method\n",
    "def P(word): \n",
    "    return - word_rank.get(word, 0)\n",
    "\n",
    "#  It returns the maximum candidates words with a key which is defined by P\n",
    "def correction(word): \n",
    "    return max(candidates(word), key=P)\n",
    "\n",
    "# The absolute candidate of the wrong word could found from known() methods is the actual work of this function.\n",
    "def candidates(word): \n",
    "    return (known([word]) or known(edits1(word)) or known(edits2(word)) or [word])\n",
    "\n",
    "# This method is used to find out the set of a word which is present in the dictionary\n",
    "def known(words): \n",
    "    return set(w for w in words if w in word_rank)\n",
    "\n",
    "# Many parameters such as deletes, transposes, replaces, inserts are used in this method.\n",
    "# Those parameters return the correct word of an incorrect word in a sentence.\n",
    "# A set() function is used to find out the unordered collection of words\n",
    "def edits1(word):\n",
    "    letters    = 'ঁংঃঅআইঈউঊঋএঐওঔকখগঘঙচছজঝঞটঠডঢণতথদধনপফবভমযরলশষসহ়ঽািীুূৃৄেৈোৌ্ৎৗড়ঢ়য়'\n",
    "    splits     = [(word[:i], word[i:])    for i in range(len(word) + 1)]\n",
    "    deletes    = [L + R[1:]               for L, R in splits if R]\n",
    "    transposes = [L + R[1] + R[0] + R[2:] for L, R in splits if len(R)>1]\n",
    "    replaces   = [L + c + R[1:]           for L, R in splits if R for c in letters]\n",
    "    inserts    = [L + c + R               for L, R in splits for c in letters]\n",
    "    return set(deletes + transposes + replaces + inserts)\n",
    "    \n",
    "#  This method is returend the word which is edited by in edits1() functions\n",
    "def edits2(word): \n",
    "    return (e2 for e1 in edits1(word) for e2 in edits1(e1))"
   ]
  },
  {
   "cell_type": "code",
   "execution_count": 8,
   "id": "f49fb50b",
   "metadata": {},
   "outputs": [],
   "source": [
    "def spell_correction(sentence):\n",
    "    corrected_sentence = []\n",
    "    for word in sentence:\n",
    "        corrected_sentence.append(correction(word))\n",
    "    return re.sub(' +' ,' ', ' '.join(corrected_sentence))\n",
    "from bnlp import BasicTokenizer\n",
    "tokenizer = BasicTokenizer()\n",
    "x = df_5.iloc[:, 0:1].values\n",
    "x = x.tolist()\n",
    "for i in range(len(x)):\n",
    "    x[i] = tokenizer.tokenize(x[i][0])\n",
    "for i in range(df_5.shape[0]):\n",
    "    df_5.iloc[i, 0] = spell_correction(x[i])"
   ]
  },
  {
   "cell_type": "code",
   "execution_count": 9,
   "id": "0aa8ec39",
   "metadata": {},
   "outputs": [],
   "source": [
    "from bnlp.corpus.util import remove_stopwords\n",
    "file = open('stopwords/stopwords-bn.txt', encoding = 'utf-8')\n",
    "stopwords = []\n",
    "for line in file:\n",
    "    stopwords.append(line.strip())\n",
    "file.close()\n",
    "stopwords = list(filter(None, stopwords))\n",
    "df_6 = df_5.iloc[:, 0:2].copy()\n",
    "for i in range(df_6.shape[0]):\n",
    "    df_6.iloc[i, 0] = ' '.join(remove_stopwords(df_6.iloc[i, 0], stopwords))\n",
    "x, y = df_6.iloc[:, 0:1].values, df_6.iloc[:, 1:2].values\n",
    "x = x.tolist()\n",
    "corpus = df_6.iloc[:, 0].values\n",
    "y = df_6.iloc[:, 1].values\n",
    "\n",
    "from bnlp import BasicTokenizer\n",
    "tokenizer = BasicTokenizer()\n",
    "# X -> tokenized list of sentences(lists); x -> list of sentences\n",
    "X, y = df_6.iloc[:, 0:1].values, df_6.iloc[:, 1:2].values\n",
    "X = X.tolist()\n",
    "for i in range(len(X)):\n",
    "    X[i] = tokenizer.tokenize(X[i][0])"
   ]
  },
  {
   "cell_type": "code",
   "execution_count": 10,
   "id": "be2159b6",
   "metadata": {},
   "outputs": [],
   "source": [
    "# one hot encoding y\n",
    "from sklearn.preprocessing import OneHotEncoder\n",
    "enc = OneHotEncoder(handle_unknown = 'ignore')\n",
    "y = np.array((enc.fit_transform(y)).toarray())\n",
    "\n",
    "# split and tokenize\n",
    "from sklearn.model_selection import train_test_split\n",
    "x_train, x_test, y_train, y_test = train_test_split(X, y, test_size = 0.25, random_state = 0)\n",
    "from tensorflow.keras import preprocessing\n",
    "tokenizer = preprocessing.text.Tokenizer(lower = False, oov_token = '<UNK>')\n",
    "tokenizer.fit_on_texts(list(x_train))\n",
    "x_train = tokenizer.texts_to_sequences(x_train)\n",
    "x_train = preprocessing.sequence.pad_sequences(sequences = x_train, padding = 'post', truncating = 'post',\n",
    "                                              maxlen = UPPER_BOUND)\n",
    "x_test = tokenizer.texts_to_sequences(x_test)\n",
    "x_test = preprocessing.sequence.pad_sequences(sequences = x_test, padding = 'post', truncating = 'post',\n",
    "                                             maxlen = UPPER_BOUND)"
   ]
  },
  {
   "cell_type": "code",
   "execution_count": 11,
   "id": "de264451",
   "metadata": {},
   "outputs": [
    {
     "name": "stdout",
     "output_type": "stream",
     "text": [
      "(3653, 300)\n",
      "(1218, 300)\n",
      "(3653, 4)\n",
      "(1218, 4)\n"
     ]
    }
   ],
   "source": [
    "print(np.array(x_train).shape)\n",
    "print(np.array(x_test).shape)\n",
    "print(np.array(y_train).shape)\n",
    "print(np.array(y_test).shape)"
   ]
  },
  {
   "cell_type": "code",
   "execution_count": 12,
   "id": "4005da2a",
   "metadata": {},
   "outputs": [
    {
     "name": "stdout",
     "output_type": "stream",
     "text": [
      "final form\n"
     ]
    },
    {
     "data": {
      "text/html": [
       "<div>\n",
       "<style scoped>\n",
       "    .dataframe tbody tr th:only-of-type {\n",
       "        vertical-align: middle;\n",
       "    }\n",
       "\n",
       "    .dataframe tbody tr th {\n",
       "        vertical-align: top;\n",
       "    }\n",
       "\n",
       "    .dataframe thead th {\n",
       "        text-align: right;\n",
       "    }\n",
       "</style>\n",
       "<table border=\"1\" class=\"dataframe\">\n",
       "  <thead>\n",
       "    <tr style=\"text-align: right;\">\n",
       "      <th></th>\n",
       "      <th>posts</th>\n",
       "      <th>labels</th>\n",
       "    </tr>\n",
       "  </thead>\n",
       "  <tbody>\n",
       "    <tr>\n",
       "      <th>0</th>\n",
       "      <td>কিভাবে হতাশা রক্ষা পাওয়া</td>\n",
       "      <td>2</td>\n",
       "    </tr>\n",
       "    <tr>\n",
       "      <th>1</th>\n",
       "      <td>মাথা সঠিক না মানসিক বিষন্নতা দুঃচিন্তা একাকিত্...</td>\n",
       "      <td>3</td>\n",
       "    </tr>\n",
       "    <tr>\n",
       "      <th>2</th>\n",
       "      <td>কিছুদিন যাবৎ ডিপ্রেসন আছি ভালো লাগছে সবসময় অস...</td>\n",
       "      <td>2</td>\n",
       "    </tr>\n",
       "    <tr>\n",
       "      <th>3</th>\n",
       "      <td>ডিপ্রেশন বেরিয়ে আসতে পারতেছি না</td>\n",
       "      <td>2</td>\n",
       "    </tr>\n",
       "    <tr>\n",
       "      <th>4</th>\n",
       "      <td>বয়স জীবনে সবকিছু মত পেতে চাই বাট পাওয়া না অল্প...</td>\n",
       "      <td>2</td>\n",
       "    </tr>\n",
       "  </tbody>\n",
       "</table>\n",
       "</div>"
      ],
      "text/plain": [
       "                                               posts  labels\n",
       "0                           কিভাবে হতাশা রক্ষা পাওয়া       2\n",
       "1  মাথা সঠিক না মানসিক বিষন্নতা দুঃচিন্তা একাকিত্...       3\n",
       "2  কিছুদিন যাবৎ ডিপ্রেসন আছি ভালো লাগছে সবসময় অস...       2\n",
       "3                    ডিপ্রেশন বেরিয়ে আসতে পারতেছি না       2\n",
       "4  বয়স জীবনে সবকিছু মত পেতে চাই বাট পাওয়া না অল্প...       2"
      ]
     },
     "execution_count": 12,
     "metadata": {},
     "output_type": "execute_result"
    }
   ],
   "source": [
    "print(\"final form\")\n",
    "df_6.head(5)"
   ]
  },
  {
   "cell_type": "code",
   "execution_count": 13,
   "id": "034f2f01",
   "metadata": {},
   "outputs": [
    {
     "name": "stdout",
     "output_type": "stream",
     "text": [
      "initial form\n"
     ]
    },
    {
     "data": {
      "text/html": [
       "<div>\n",
       "<style scoped>\n",
       "    .dataframe tbody tr th:only-of-type {\n",
       "        vertical-align: middle;\n",
       "    }\n",
       "\n",
       "    .dataframe tbody tr th {\n",
       "        vertical-align: top;\n",
       "    }\n",
       "\n",
       "    .dataframe thead th {\n",
       "        text-align: right;\n",
       "    }\n",
       "</style>\n",
       "<table border=\"1\" class=\"dataframe\">\n",
       "  <thead>\n",
       "    <tr style=\"text-align: right;\">\n",
       "      <th></th>\n",
       "      <th>posts</th>\n",
       "      <th>labels</th>\n",
       "    </tr>\n",
       "  </thead>\n",
       "  <tbody>\n",
       "    <tr>\n",
       "      <th>0</th>\n",
       "      <td>কিভাবে  হতাশা থেকে রক্ষা পাওয়া যাবে</td>\n",
       "      <td>2</td>\n",
       "    </tr>\n",
       "    <tr>\n",
       "      <th>1</th>\n",
       "      <td>মাথা সঠিক কাজ করে না, মানসিক বিষন্বতা, দুঃসচিন...</td>\n",
       "      <td>3</td>\n",
       "    </tr>\n",
       "    <tr>\n",
       "      <th>2</th>\n",
       "      <td>আমি বেশ কিছুদিন যাবৎ অনেক ডিপ্রেসন এ আছি। আমার...</td>\n",
       "      <td>2</td>\n",
       "    </tr>\n",
       "    <tr>\n",
       "      <th>3</th>\n",
       "      <td>কোনো ভাবেই ডিপ্রেশন থেকে বেরিয়ে আসতে পারতেছি না</td>\n",
       "      <td>2</td>\n",
       "    </tr>\n",
       "    <tr>\n",
       "      <th>4</th>\n",
       "      <td>আমার বয়স ৩৪ বছর।জীবনে সবকিছু আমার মত করে পেতে ...</td>\n",
       "      <td>2</td>\n",
       "    </tr>\n",
       "  </tbody>\n",
       "</table>\n",
       "</div>"
      ],
      "text/plain": [
       "                                               posts  labels\n",
       "0                কিভাবে  হতাশা থেকে রক্ষা পাওয়া যাবে       2\n",
       "1  মাথা সঠিক কাজ করে না, মানসিক বিষন্বতা, দুঃসচিন...       3\n",
       "2  আমি বেশ কিছুদিন যাবৎ অনেক ডিপ্রেসন এ আছি। আমার...       2\n",
       "3    কোনো ভাবেই ডিপ্রেশন থেকে বেরিয়ে আসতে পারতেছি না       2\n",
       "4  আমার বয়স ৩৪ বছর।জীবনে সবকিছু আমার মত করে পেতে ...       2"
      ]
     },
     "execution_count": 13,
     "metadata": {},
     "output_type": "execute_result"
    }
   ],
   "source": [
    "print(\"initial form\")\n",
    "df_1.head(5)"
   ]
  },
  {
   "cell_type": "markdown",
   "id": "e3561494",
   "metadata": {},
   "source": [
    "<span style=\"color:pink\">Creating FastText Word Embeddings</span>"
   ]
  },
  {
   "cell_type": "code",
   "execution_count": 14,
   "id": "0d0ba584",
   "metadata": {},
   "outputs": [],
   "source": [
    "vocab_dictionary = tokenizer.word_index"
   ]
  },
  {
   "cell_type": "code",
   "execution_count": 15,
   "id": "d981038c",
   "metadata": {},
   "outputs": [],
   "source": [
    "embeddings = np.zeros((len(vocab_dictionary) + 1, 300))\n",
    "for word, idx in vocab_dictionary.items():\n",
    "    try:\n",
    "        embeddings[idx] = model[word]\n",
    "    except:\n",
    "        pass"
   ]
  },
  {
   "cell_type": "markdown",
   "id": "8974e49f",
   "metadata": {},
   "source": [
    "<span style=\"color:gold\">Deploying Bidirectional-RNN</span>"
   ]
  },
  {
   "cell_type": "code",
   "execution_count": 16,
   "id": "1d02a683",
   "metadata": {},
   "outputs": [],
   "source": [
    "import keras\n",
    "from keras_self_attention import SeqSelfAttention\n",
    "import tensorflow as tf\n",
    "from tensorflow.keras import models\n",
    "from tensorflow.keras import layers\n",
    "from tensorflow.keras import backend"
   ]
  },
  {
   "cell_type": "code",
   "execution_count": 17,
   "id": "07a2ddec",
   "metadata": {},
   "outputs": [],
   "source": [
    "from sklearn.utils import class_weight\n",
    "class_weights = class_weight.compute_class_weight(class_weight = 'balanced',\n",
    "                                                 classes = np.unique(np.reshape(enc.inverse_transform(y_train), y_train.shape[0])),\n",
    "                                                 y = np.reshape(enc.inverse_transform(y_train), y_train.shape[0]))\n",
    "class_weights = {0 : class_weights[0],\n",
    "               1 : class_weights[1],\n",
    "               2 : class_weights[2],\n",
    "               3 : class_weights[3]}"
   ]
  },
  {
   "cell_type": "code",
   "execution_count": 18,
   "id": "24491e39",
   "metadata": {},
   "outputs": [
    {
     "data": {
      "text/plain": [
       "{0: 0.5846670934699104,\n",
       " 1: 0.8074712643678161,\n",
       " 2: 1.7102059925093633,\n",
       " 3: 2.1437793427230045}"
      ]
     },
     "execution_count": 18,
     "metadata": {},
     "output_type": "execute_result"
    }
   ],
   "source": [
    "class_weights"
   ]
  },
  {
   "cell_type": "code",
   "execution_count": 19,
   "id": "7626c98b",
   "metadata": {},
   "outputs": [],
   "source": [
    "# Callbacks\n",
    "\n",
    "# accuracy threshold\n",
    "ACCURACY_THRESHOLD = 0.85\n",
    "class myCallback(tf.keras.callbacks.Callback): \n",
    "    def on_epoch_end(self, epoch, logs = {}): \n",
    "        if(logs.get('val_accuracy') > ACCURACY_THRESHOLD):   \n",
    "            print(\"\\nReached %2.2f%% accuracy, so stopping training!!\" %(ACCURACY_THRESHOLD*100))   \n",
    "            self.model.stop_training = True\n",
    "acc_threshold = myCallback()\n",
    "\n",
    "# save best model\n",
    "from keras.callbacks import ModelCheckpoint\n",
    "filepath = 'saved-models/BiGRU.epoch{epoch:02d}-loss{val_loss:.2f}.hdf5'\n",
    "checkpoint = ModelCheckpoint(filepath = filepath, \n",
    "                             monitor = 'val_loss',\n",
    "                             verbose = 1, \n",
    "                             save_best_only = True,\n",
    "                             mode = 'min')\n",
    "\n",
    "# reduce lr on plateau\n",
    "from keras.callbacks import ReduceLROnPlateau\n",
    "from keras.callbacks import TensorBoard\n",
    "reduce_on_plateau = ReduceLROnPlateau(\n",
    "            monitor='val_loss',\n",
    "            factor=0.1,\n",
    "            patience=2,\n",
    "            verbose=0,\n",
    "            mode='min',\n",
    "            min_delta=0.01,\n",
    "            cooldown=0,\n",
    "            min_lr=0)\n",
    "tensor_board = TensorBoard(log_dir = 'tb_logs_BiGRU',\n",
    "                           update_freq = 1)\n",
    "from keras.callbacks import EarlyStopping\n",
    "earlystopping = EarlyStopping(monitor='val_loss', patience=10)"
   ]
  },
  {
   "cell_type": "code",
   "execution_count": 20,
   "id": "81d9f084",
   "metadata": {},
   "outputs": [],
   "source": [
    "inputs = layers.Input(shape = (x_train.shape[1],))\n",
    "neurons = x_train.shape[1]\n",
    "modl_in = layers.Embedding(input_dim = embeddings.shape[0],\n",
    "                    output_dim = embeddings.shape[1],\n",
    "                    weights = [embeddings],\n",
    "                    input_length = x_train.shape[1], trainable = False)(inputs)"
   ]
  },
  {
   "cell_type": "code",
   "execution_count": 21,
   "id": "b481f55a",
   "metadata": {
    "scrolled": true
   },
   "outputs": [
    {
     "name": "stdout",
     "output_type": "stream",
     "text": [
      "Model: \"Bidirectional-GRU\"\n",
      "_________________________________________________________________\n",
      "Layer (type)                 Output Shape              Param #   \n",
      "=================================================================\n",
      "input_1 (InputLayer)         [(None, 300)]             0         \n",
      "_________________________________________________________________\n",
      "embedding (Embedding)        (None, 300, 300)          2989800   \n",
      "_________________________________________________________________\n",
      "spatial_dropout1d (SpatialDr (None, 300, 300)          0         \n",
      "_________________________________________________________________\n",
      "bidirectional (Bidirectional (None, 300, 600)          1083600   \n",
      "_________________________________________________________________\n",
      "bidirectional_1 (Bidirection (None, 300, 600)          1623600   \n",
      "_________________________________________________________________\n",
      "global_max_pooling1d (Global (None, 600)               0         \n",
      "_________________________________________________________________\n",
      "dense (Dense)                (None, 64)                38464     \n",
      "_________________________________________________________________\n",
      "dense_1 (Dense)              (None, 4)                 260       \n",
      "=================================================================\n",
      "Total params: 5,735,724\n",
      "Trainable params: 2,745,924\n",
      "Non-trainable params: 2,989,800\n",
      "_________________________________________________________________\n"
     ]
    }
   ],
   "source": [
    "modl = layers.SpatialDropout1D(0.10)(modl_in)\n",
    "modl = layers.Bidirectional(layers.GRU(units = x_train.shape[1], dropout = 0.05, return_sequences = True))(modl)\n",
    "modl = layers.Bidirectional(layers.GRU(units = x_train.shape[1], go_backwards = True, return_sequences = True))(modl)\n",
    "modl = layers.GlobalMaxPooling1D()(modl)\n",
    "from tensorflow.keras import regularizers\n",
    "modl = layers.Dense(units=64,\n",
    "                    kernel_regularizer=regularizers.l1_l2(l1=1e-5, l2=1e-4),\n",
    "                    bias_regularizer=regularizers.l2(1e-4),\n",
    "                    activity_regularizer=regularizers.l2(1e-5))(modl)\n",
    "modl_out = layers.Dense(units = 4, activation = 'softmax')(modl)\n",
    "\n",
    "# compile\n",
    "modelz = models.Model(inputs, modl_out)\n",
    "modelz._name = 'Bidirectional-GRU'\n",
    "modelz.compile(loss = 'categorical_crossentropy',\n",
    "             optimizer = 'adam',\n",
    "             weighted_metrics=['accuracy'])\n",
    "modelz.summary()"
   ]
  },
  {
   "cell_type": "code",
   "execution_count": 22,
   "id": "86497190",
   "metadata": {
    "scrolled": true
   },
   "outputs": [
    {
     "name": "stdout",
     "output_type": "stream",
     "text": [
      "Epoch 1/100\n",
      "80/80 [==============================] - 566s 7s/step - loss: 1.1214 - accuracy: 0.5254 - val_loss: 0.9057 - val_accuracy: 0.6597\n",
      "\n",
      "Epoch 00001: val_loss improved from inf to 0.90566, saving model to saved-models\\BiGRU.epoch01-loss0.91.hdf5\n",
      "Epoch 2/100\n",
      "80/80 [==============================] - 595s 7s/step - loss: 0.7610 - accuracy: 0.7042 - val_loss: 0.7021 - val_accuracy: 0.7655\n",
      "\n",
      "Epoch 00002: val_loss improved from 0.90566 to 0.70215, saving model to saved-models\\BiGRU.epoch02-loss0.70.hdf5\n",
      "Epoch 3/100\n",
      "80/80 [==============================] - 627s 8s/step - loss: 0.5848 - accuracy: 0.7843 - val_loss: 0.6442 - val_accuracy: 0.7765\n",
      "\n",
      "Epoch 00003: val_loss improved from 0.70215 to 0.64420, saving model to saved-models\\BiGRU.epoch03-loss0.64.hdf5\n",
      "Epoch 4/100\n",
      "80/80 [==============================] - 612s 8s/step - loss: 0.4659 - accuracy: 0.8361 - val_loss: 0.6199 - val_accuracy: 0.7938\n",
      "\n",
      "Epoch 00004: val_loss improved from 0.64420 to 0.61991, saving model to saved-models\\BiGRU.epoch04-loss0.62.hdf5\n",
      "Epoch 5/100\n",
      "80/80 [==============================] - 627s 8s/step - loss: 0.3758 - accuracy: 0.8663 - val_loss: 0.6372 - val_accuracy: 0.7956\n",
      "\n",
      "Epoch 00005: val_loss did not improve from 0.61991\n",
      "Epoch 6/100\n",
      "80/80 [==============================] - 618s 8s/step - loss: 0.3272 - accuracy: 0.8846 - val_loss: 0.6083 - val_accuracy: 0.7974\n",
      "\n",
      "Epoch 00006: val_loss improved from 0.61991 to 0.60831, saving model to saved-models\\BiGRU.epoch06-loss0.61.hdf5\n",
      "Epoch 7/100\n",
      "80/80 [==============================] - 636s 8s/step - loss: 0.2599 - accuracy: 0.9163 - val_loss: 0.6648 - val_accuracy: 0.7947\n",
      "\n",
      "Epoch 00007: val_loss did not improve from 0.60831\n",
      "Epoch 8/100\n",
      "80/80 [==============================] - 617s 8s/step - loss: 0.2305 - accuracy: 0.9222 - val_loss: 0.6694 - val_accuracy: 0.8020\n",
      "\n",
      "Epoch 00008: val_loss did not improve from 0.60831\n",
      "Epoch 9/100\n",
      "80/80 [==============================] - 630s 8s/step - loss: 0.1352 - accuracy: 0.9682 - val_loss: 0.6515 - val_accuracy: 0.8084\n",
      "\n",
      "Epoch 00009: val_loss did not improve from 0.60831\n",
      "Epoch 10/100\n",
      "80/80 [==============================] - 702s 9s/step - loss: 0.1187 - accuracy: 0.9729 - val_loss: 0.6562 - val_accuracy: 0.8166\n",
      "\n",
      "Epoch 00010: val_loss did not improve from 0.60831\n",
      "Epoch 11/100\n",
      "80/80 [==============================] - 665s 8s/step - loss: 0.1086 - accuracy: 0.9794 - val_loss: 0.6564 - val_accuracy: 0.8120\n",
      "\n",
      "Epoch 00011: val_loss did not improve from 0.60831\n",
      "Epoch 12/100\n",
      "80/80 [==============================] - 662s 8s/step - loss: 0.1093 - accuracy: 0.9806 - val_loss: 0.6569 - val_accuracy: 0.8130\n",
      "\n",
      "Epoch 00012: val_loss did not improve from 0.60831\n",
      "Epoch 13/100\n",
      "80/80 [==============================] - 636s 8s/step - loss: 0.1101 - accuracy: 0.9789 - val_loss: 0.6568 - val_accuracy: 0.8130\n",
      "\n",
      "Epoch 00013: val_loss did not improve from 0.60831\n",
      "Epoch 14/100\n",
      "80/80 [==============================] - 664s 8s/step - loss: 0.1057 - accuracy: 0.9835 - val_loss: 0.6568 - val_accuracy: 0.8130\n",
      "\n",
      "Epoch 00014: val_loss did not improve from 0.60831\n",
      "Epoch 15/100\n",
      "80/80 [==============================] - 684s 9s/step - loss: 0.1053 - accuracy: 0.9811 - val_loss: 0.6568 - val_accuracy: 0.8130\n",
      "\n",
      "Epoch 00015: val_loss did not improve from 0.60831\n",
      "Epoch 16/100\n",
      "80/80 [==============================] - 641s 8s/step - loss: 0.1058 - accuracy: 0.9787 - val_loss: 0.6569 - val_accuracy: 0.8130\n",
      "\n",
      "Epoch 00016: val_loss did not improve from 0.60831\n"
     ]
    }
   ],
   "source": [
    "training = modelz.fit(x = x_train, y = y_train, batch_size = 32, \n",
    "                     epochs = 100, shuffle = True, verbose = 1, \n",
    "                     validation_split = 0.3,\n",
    "                     class_weight = class_weights,\n",
    "                     callbacks = [acc_threshold, reduce_on_plateau, tensor_board, checkpoint, earlystopping])"
   ]
  },
  {
   "cell_type": "code",
   "execution_count": 23,
   "id": "3a246629",
   "metadata": {
    "scrolled": true
   },
   "outputs": [
    {
     "name": "stdout",
     "output_type": "stream",
     "text": [
      "Classification Report\n",
      "              precision    recall  f1-score   support\n",
      "\n",
      "           1       0.86      0.86      0.86       529\n",
      "           2       0.79      0.81      0.80       401\n",
      "           3       0.63      0.62      0.63       169\n",
      "           4       0.88      0.80      0.84       119\n",
      "\n",
      "    accuracy                           0.81      1218\n",
      "   macro avg       0.79      0.77      0.78      1218\n",
      "weighted avg       0.81      0.81      0.81      1218\n",
      "\n",
      "\u001b[32mConfusion Matrix\n",
      "[[457  44  25   3]\n",
      " [ 44 325  31   1]\n",
      " [ 21  34 105   9]\n",
      " [  8  11   5  95]]\n",
      "\n"
     ]
    }
   ],
   "source": [
    "predicted_prob = modelz.predict_on_batch(x_test)\n",
    "y_pred = np.argmax(predicted_prob, axis = 1)\n",
    "from sklearn.metrics import confusion_matrix, classification_report\n",
    "cr = classification_report(enc.inverse_transform(y_test), y_pred+1)\n",
    "cm = confusion_matrix(enc.inverse_transform(y_test), y_pred+1)\n",
    "print('Classification Report', cr, sep = '\\n')\n",
    "print(Fore.GREEN+'Confusion Matrix', cm, '', sep = '\\n')"
   ]
  },
  {
   "cell_type": "code",
   "execution_count": 24,
   "id": "a5f30e07",
   "metadata": {},
   "outputs": [
    {
     "data": {
      "image/png": "[encoded data removed]",
      "text/plain": [
       "<Figure size 432x288 with 1 Axes>"
      ]
     },
     "metadata": {},
     "output_type": "display_data"
    }
   ],
   "source": [
    "loss = training.history['val_loss']\n",
    "ep = np.arange(len(loss))+1\n",
    "import matplotlib.pyplot as plt\n",
    "plt.figure().patch.set_facecolor('white')\n",
    "plt.plot(ep, loss)\n",
    "plt.xlabel('epoch')\n",
    "plt.ylabel('val_loss')\n",
    "plt.show()"
   ]
  },
  {
   "cell_type": "code",
   "execution_count": 25,
   "id": "4168da65",
   "metadata": {},
   "outputs": [],
   "source": [
    "# modelz.save('saved-models/final_model.h5')"
   ]
  },
  {
   "cell_type": "code",
   "execution_count": 26,
   "id": "ba4b6aff",
   "metadata": {},
   "outputs": [],
   "source": [
    "data = training.history"
   ]
  },
  {
   "cell_type": "code",
   "execution_count": 27,
   "id": "6d06c3ea",
   "metadata": {},
   "outputs": [
    {
     "data": {
      "image/png": "[encoded data removed]",
      "text/plain": [
       "<Figure size 432x288 with 1 Axes>"
      ]
     },
     "metadata": {},
     "output_type": "display_data"
    }
   ],
   "source": [
    "loss = training.history['val_accuracy']\n",
    "ep = np.arange(len(loss))+1\n",
    "import matplotlib.pyplot as plt\n",
    "plt.figure().patch.set_facecolor('white')\n",
    "plt.plot(ep, loss)\n",
    "plt.xlabel('epoch')\n",
    "plt.ylabel('val_accuracy')\n",
    "plt.show()"
   ]
  },
  {
   "cell_type": "code",
   "execution_count": 30,
   "id": "ca998446",
   "metadata": {},
   "outputs": [
    {
     "data": {
      "image/png": "[encoded data removed]",
      "text/plain": [
       "<Figure size 432x288 with 1 Axes>"
      ]
     },
     "metadata": {},
     "output_type": "display_data"
    }
   ],
   "source": [
    "val_acc = training.history['val_accuracy']\n",
    "acc = training.history['accuracy']\n",
    "ep = np.arange(len(acc))+1\n",
    "import matplotlib.pyplot as plt\n",
    "plt.figure().patch.set_facecolor('white')\n",
    "plt.plot(ep, val_acc, label = 'val_acc')\n",
    "plt.plot(ep, acc, label = 'train_acc')\n",
    "plt.xlabel('epoch')\n",
    "plt.ylabel('metric')\n",
    "plt.legend()\n",
    "plt.show()"
   ]
  },
  {
   "cell_type": "code",
   "execution_count": 31,
   "id": "4223d33a",
   "metadata": {},
   "outputs": [
    {
     "data": {
      "image/png": "[encoded data removed]",
      "text/plain": [
       "<Figure size 432x288 with 1 Axes>"
      ]
     },
     "metadata": {},
     "output_type": "display_data"
    }
   ],
   "source": [
    "val_loss = training.history['val_loss']\n",
    "loss = training.history['loss']\n",
    "ep = np.arange(len(loss))+1\n",
    "import matplotlib.pyplot as plt\n",
    "plt.figure().patch.set_facecolor('white')\n",
    "plt.plot(ep, val_loss, label = 'val_loss')\n",
    "plt.plot(ep, loss, label = 'train_loss')\n",
    "plt.xlabel('epoch')\n",
    "plt.ylabel('metric')\n",
    "plt.legend()\n",
    "plt.show()"
   ]
  },
  {
   "cell_type": "code",
   "execution_count": null,
   "id": "a2685c23",
   "metadata": {},
   "outputs": [],
   "source": []
  },
  {
   "cell_type": "code",
   "execution_count": 29,
   "id": "e6a0beb8",
   "metadata": {},
   "outputs": [],
   "source": [
    "# from gensim.models import KeyedVectors\n",
    "# model = KeyedVectors.load_word2vec_format('models/cc.bn.300.vec')\n",
    "# def sentence_vectorizer(sentence, model):\n",
    "#     sentence_vector = []\n",
    "#     NUMBER_OF_WORDS = 0\n",
    "#     for word in sentence:\n",
    "#         try:\n",
    "#             if NUMBER_OF_WORDS == 0:\n",
    "#                 sentence_vector = model[word]\n",
    "#             else:\n",
    "#                 sentence_vector = np.add(sentence_vector, model[word])\n",
    "#             NUMBER_OF_WORDS += 1\n",
    "#         except:\n",
    "#             pass\n",
    "#     return (np.asarray(sentence_vector) / NUMBER_OF_WORDS)\n",
    "# x = []\n",
    "# for sentence in X:\n",
    "#     x.append([sentence_vectorizer(sentence, model).tolist()])\n",
    "# a = np.asarray(x)\n",
    "# a.shape"
   ]
  }
 ],
 "metadata": {
  "kernelspec": {
   "display_name": "Python 3 (ipykernel)",
   "language": "python",
   "name": "python3"
  },
  "language_info": {
   "codemirror_mode": {
    "name": "ipython",
    "version": 3
   },
   "file_extension": ".py",
   "mimetype": "text/x-python",
   "name": "python",
   "nbconvert_exporter": "python",
   "pygments_lexer": "ipython3",
   "version": "3.8.10"
  }
 },
 "nbformat": 4,
 "nbformat_minor": 5
}
