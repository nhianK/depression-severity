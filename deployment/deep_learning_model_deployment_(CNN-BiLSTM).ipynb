{
 "cells": [
  {
   "cell_type": "markdown",
   "id": "f8b808e6",
   "metadata": {},
   "source": [
    "#### DEEP LEARNING MODEL DEPLOYMENT (Bi-LSTM)"
   ]
  },
  {
   "cell_type": "markdown",
   "id": "ec066e88",
   "metadata": {},
   "source": [
    "<span style=\"color:coral\">Data Preparation</span>"
   ]
  },
  {
   "cell_type": "code",
   "execution_count": 1,
   "id": "1c260997",
   "metadata": {},
   "outputs": [],
   "source": [
    "import numpy as np\n",
    "import pandas as pd\n",
    "import re\n",
    "from colorama import Fore, Back, Style"
   ]
  },
  {
   "cell_type": "code",
   "execution_count": 2,
   "id": "38f57144",
   "metadata": {},
   "outputs": [],
   "source": [
    "dataset = pd.read_excel('dataset/maya_dataset.xlsx', engine = 'openpyxl')\n",
    "dataset = dataset.iloc[:, 0:2]\n",
    "df_1 = dataset.copy()"
   ]
  },
  {
   "cell_type": "code",
   "execution_count": 3,
   "id": "9c809c51",
   "metadata": {},
   "outputs": [],
   "source": [
    "def deEmojify(text):\n",
    "    regrex_pattern = re.compile(pattern = \"[\"\n",
    "        u\"\\U0001F600-\\U0001F64F\"  # emoticons\n",
    "        u\"\\U0001F300-\\U0001F5FF\"  # symbols & pictographs\n",
    "        u\"\\U0001F680-\\U0001F6FF\"  # transport & map symbols\n",
    "        u\"\\U0001F1E0-\\U0001F1FF\"  # flags (iOS)\n",
    "        u\"\\U0001F97A\"\n",
    "        u\"\\U00002639\"\n",
    "        u\"\\U0001F642\"\n",
    "        u\"\\U00002764\"\n",
    "        u\"\\U0001F600-\\U000E007F\"\n",
    "                           \"]+\", flags = re.UNICODE)\n",
    "    return regrex_pattern.sub(r' ',text)\n",
    "\n",
    "def depunctuate(text):\n",
    "    regrex_pattern = re.compile(pattern = \"[\"u\"\\/\"u\"\\\\\"u\"\\^\"u\"\\!\"u\"\\@\"u\"\\+\"u\"\\*\"u\"\\=\"u\"\\%\"u\"\\&\"u\"\\:\"u\"\\;\"u\"\\_\"u\"\\.\"u\"\\,\"u\"\\(\"u\"\\)\"u\"\\?\"u\"\\।\"u\"\\|\"u\"'\"u\"\\-\"u\"\\\"\"u\"]+\")\n",
    "    return regrex_pattern.sub(r' ',text)\n",
    "\n",
    "def denumerize(text):\n",
    "    regrex_pattern = re.compile(pattern = \"[0-9০১২৩৪৫৬৭৮৯]+\")\n",
    "    return regrex_pattern.sub(r' ',text)\n",
    "\n",
    "def remove_empty_string_literals(string_list):\n",
    "    while(\"\" in string_list) :\n",
    "        string_list.remove(\"\")\n",
    "    return string_list"
   ]
  },
  {
   "cell_type": "code",
   "execution_count": 4,
   "id": "06dd23c2",
   "metadata": {
    "scrolled": true
   },
   "outputs": [
    {
     "name": "stdout",
     "output_type": "stream",
     "text": [
      "(4605, 3)\n"
     ]
    }
   ],
   "source": [
    "for i in range(df_1.shape[0]):\n",
    "    df_1.iloc[i,0] = deEmojify(df_1.iloc[i,0])\n",
    "df_2 = df_1.copy()\n",
    "for i in range(df_2.shape[0]):\n",
    "    df_2.iloc[i,0] = depunctuate(df_2.iloc[i,0])\n",
    "df_3 = df_2.copy()\n",
    "for i in range(df_3.shape[0]):\n",
    "    df_3.iloc[i,0] = denumerize(df_3.iloc[i,0])\n",
    "df_4 = df_3.copy()\n",
    "df_4['length'] = [len(remove_empty_string_literals(post.split(' '))) for post in df_4.iloc[:, 0]]\n",
    "\n",
    "LOWER_BOUND = 5\n",
    "UPPER_BOUND = 300\n",
    "df_5 = df_4[(df_4['length'] >= LOWER_BOUND) == True]\n",
    "df_5 = df_5[(df_5['length'] <= UPPER_BOUND) == True]\n",
    "print(df_5.shape)\n",
    "\n"
   ]
  },
  {
   "cell_type": "markdown",
   "id": "ff71bc74",
   "metadata": {},
   "source": [
    "<span style=\"color:crimson\">Spell Correction using FastText</span>"
   ]
  },
  {
   "cell_type": "markdown",
   "id": "65c862bd",
   "metadata": {},
   "source": [
    "<font>Source:\n",
    "    https://medium.com/analytics-vidhya/bengali-word-spelling-correction-using-pre-trained-word2vec-1f9938f48b09\n",
    "</font>\n",
    "\n",
    "- letters = The Bengali script has a total of 9 vowels. Each of which is called a ‘স্বরবর্ণ’. Also, have 35 consonants that are known as ‘ব্যঞ্জনবর্ণ ‘.\n",
    "\n",
    "- splits = It is working as a list which has both forward and reverses orders of the word sequence.\n",
    "\n",
    "- deletes = Also, a list which checks the left and right of a word in splits list and deletes the incorrect syntax.\n",
    "\n",
    "- transposes = It is used to change word places with each other words using the splits list.\n",
    "\n",
    "- replaces = Is a list it put words back in a previous place or position.\n",
    "\n",
    "- inserts = It helps to place and fit the correct words into the replacing with the incorrect word, especially with care."
   ]
  },
  {
   "cell_type": "code",
   "execution_count": 5,
   "id": "89beb485",
   "metadata": {},
   "outputs": [],
   "source": [
    "from gensim.models import KeyedVectors\n",
    "model = KeyedVectors.load_word2vec_format('models/cc.bn.300.vec')"
   ]
  },
  {
   "cell_type": "code",
   "execution_count": 6,
   "id": "baf926a2",
   "metadata": {},
   "outputs": [
    {
     "data": {
      "text/plain": [
       "1468578"
      ]
     },
     "execution_count": 6,
     "metadata": {},
     "output_type": "execute_result"
    }
   ],
   "source": [
    "words = model.index_to_key\n",
    "word_rank = {}\n",
    "for index, word in enumerate(words):\n",
    "    word_rank[word] = index\n",
    "len(words)"
   ]
  },
  {
   "cell_type": "code",
   "execution_count": 7,
   "id": "12254ecc",
   "metadata": {},
   "outputs": [],
   "source": [
    "# This methods returns the value for the given key, if present in the dictionary using the get() method\n",
    "def P(word): \n",
    "    return - word_rank.get(word, 0)\n",
    "\n",
    "#  It returns the maximum candidates words with a key which is defined by P\n",
    "def correction(word): \n",
    "    return max(candidates(word), key=P)\n",
    "\n",
    "# The absolute candidate of the wrong word could found from known() methods is the actual work of this function.\n",
    "def candidates(word): \n",
    "    return (known([word]) or known(edits1(word)) or known(edits2(word)) or [word])\n",
    "\n",
    "# This method is used to find out the set of a word which is present in the dictionary\n",
    "def known(words): \n",
    "    return set(w for w in words if w in word_rank)\n",
    "\n",
    "# Many parameters such as deletes, transposes, replaces, inserts are used in this method.\n",
    "# Those parameters return the correct word of an incorrect word in a sentence.\n",
    "# A set() function is used to find out the unordered collection of words\n",
    "def edits1(word):\n",
    "    letters    = 'ঁংঃঅআইঈউঊঋএঐওঔকখগঘঙচছজঝঞটঠডঢণতথদধনপফবভমযরলশষসহ়ঽািীুূৃৄেৈোৌ্ৎৗড়ঢ়য়'\n",
    "    splits     = [(word[:i], word[i:])    for i in range(len(word) + 1)]\n",
    "    deletes    = [L + R[1:]               for L, R in splits if R]\n",
    "    transposes = [L + R[1] + R[0] + R[2:] for L, R in splits if len(R)>1]\n",
    "    replaces   = [L + c + R[1:]           for L, R in splits if R for c in letters]\n",
    "    inserts    = [L + c + R               for L, R in splits for c in letters]\n",
    "    return set(deletes + transposes + replaces + inserts)\n",
    "    \n",
    "#  This method is returend the word which is edited by in edits1() functions\n",
    "def edits2(word): \n",
    "    return (e2 for e1 in edits1(word) for e2 in edits1(e1))"
   ]
  },
  {
   "cell_type": "code",
   "execution_count": 8,
   "id": "97012846",
   "metadata": {},
   "outputs": [],
   "source": [
    "def spell_correction(sentence):\n",
    "    corrected_sentence = []\n",
    "    for word in sentence:\n",
    "        corrected_sentence.append(correction(word))\n",
    "    return re.sub(' +' ,' ', ' '.join(corrected_sentence))\n",
    "from bnlp import BasicTokenizer\n",
    "tokenizer = BasicTokenizer()\n",
    "x = df_5.iloc[:, 0:1].values\n",
    "x = x.tolist()\n",
    "for i in range(len(x)):\n",
    "    x[i] = tokenizer.tokenize(x[i][0])\n",
    "for i in range(df_5.shape[0]):\n",
    "    df_5.iloc[i, 0] = spell_correction(x[i])"
   ]
  },
  {
   "cell_type": "code",
   "execution_count": 9,
   "id": "d14b6083",
   "metadata": {},
   "outputs": [],
   "source": [
    "from bnlp.corpus.util import remove_stopwords\n",
    "file = open('stopwords/stopwords-bn.txt', encoding = 'utf-8')\n",
    "stopwords = []\n",
    "for line in file:\n",
    "    stopwords.append(line.strip())\n",
    "file.close()\n",
    "stopwords = list(filter(None, stopwords))\n",
    "df_6 = df_5.iloc[:, 0:2].copy()\n",
    "for i in range(df_6.shape[0]):\n",
    "    df_6.iloc[i, 0] = ' '.join(remove_stopwords(df_6.iloc[i, 0], stopwords))\n",
    "x, y = df_6.iloc[:, 0:1].values, df_6.iloc[:, 1:2].values\n",
    "x = x.tolist()\n",
    "corpus = df_6.iloc[:, 0].values\n",
    "y = df_6.iloc[:, 1].values\n",
    "\n",
    "from bnlp import BasicTokenizer\n",
    "tokenizer = BasicTokenizer()\n",
    "# X -> tokenized list of sentences(lists); x -> list of sentences\n",
    "X, y = df_6.iloc[:, 0:1].values, df_6.iloc[:, 1:2].values\n",
    "X = X.tolist()\n",
    "for i in range(len(X)):\n",
    "    X[i] = tokenizer.tokenize(X[i][0])"
   ]
  },
  {
   "cell_type": "code",
   "execution_count": 10,
   "id": "e1443bcb",
   "metadata": {},
   "outputs": [],
   "source": [
    "# one hot encoding y\n",
    "from sklearn.preprocessing import OneHotEncoder\n",
    "enc = OneHotEncoder(handle_unknown = 'ignore')\n",
    "y = np.array((enc.fit_transform(y)).toarray())\n",
    "\n",
    "# split and tokenize\n",
    "from sklearn.model_selection import train_test_split\n",
    "x_train, x_test, y_train, y_test = train_test_split(X, y, test_size = 0.25, random_state = 0)\n",
    "from tensorflow.keras import preprocessing\n",
    "tokenizer = preprocessing.text.Tokenizer(lower = False, oov_token = '<UNK>')\n",
    "tokenizer.fit_on_texts(list(x_train))\n",
    "x_train = tokenizer.texts_to_sequences(x_train)\n",
    "x_train = preprocessing.sequence.pad_sequences(sequences = x_train, padding = 'post', truncating = 'post',\n",
    "                                              maxlen = UPPER_BOUND)\n",
    "x_test = tokenizer.texts_to_sequences(x_test)\n",
    "x_test = preprocessing.sequence.pad_sequences(sequences = x_test, padding = 'post', truncating = 'post',\n",
    "                                             maxlen = UPPER_BOUND)"
   ]
  },
  {
   "cell_type": "code",
   "execution_count": 11,
   "id": "fd45d488",
   "metadata": {},
   "outputs": [
    {
     "name": "stdout",
     "output_type": "stream",
     "text": [
      "(3453, 300)\n",
      "(1152, 300)\n",
      "(3453, 4)\n",
      "(1152, 4)\n"
     ]
    }
   ],
   "source": [
    "print(np.array(x_train).shape)\n",
    "print(np.array(x_test).shape)\n",
    "print(np.array(y_train).shape)\n",
    "print(np.array(y_test).shape)"
   ]
  },
  {
   "cell_type": "code",
   "execution_count": 12,
   "id": "f47eed54",
   "metadata": {},
   "outputs": [
    {
     "name": "stdout",
     "output_type": "stream",
     "text": [
      "final form\n"
     ]
    },
    {
     "data": {
      "text/html": [
       "<div>\n",
       "<style scoped>\n",
       "    .dataframe tbody tr th:only-of-type {\n",
       "        vertical-align: middle;\n",
       "    }\n",
       "\n",
       "    .dataframe tbody tr th {\n",
       "        vertical-align: top;\n",
       "    }\n",
       "\n",
       "    .dataframe thead th {\n",
       "        text-align: right;\n",
       "    }\n",
       "</style>\n",
       "<table border=\"1\" class=\"dataframe\">\n",
       "  <thead>\n",
       "    <tr style=\"text-align: right;\">\n",
       "      <th></th>\n",
       "      <th>posts</th>\n",
       "      <th>labels</th>\n",
       "    </tr>\n",
       "  </thead>\n",
       "  <tbody>\n",
       "    <tr>\n",
       "      <th>0</th>\n",
       "      <td>কিভাবে হতাশা রক্ষা পাওয়া</td>\n",
       "      <td>2</td>\n",
       "    </tr>\n",
       "    <tr>\n",
       "      <th>1</th>\n",
       "      <td>মাথা সঠিক না মানসিক বিষন্নতা দুঃচিন্তা একাকিত্...</td>\n",
       "      <td>3</td>\n",
       "    </tr>\n",
       "    <tr>\n",
       "      <th>2</th>\n",
       "      <td>কিছুদিন যাবৎ ডিপ্রেসন আছি ভালো লাগছে সবসময় অস...</td>\n",
       "      <td>2</td>\n",
       "    </tr>\n",
       "    <tr>\n",
       "      <th>3</th>\n",
       "      <td>ডিপ্রেশন বেরিয়ে আসতে পারতেছি না</td>\n",
       "      <td>2</td>\n",
       "    </tr>\n",
       "    <tr>\n",
       "      <th>4</th>\n",
       "      <td>বয়স জীবনে সবকিছু মত পেতে চাই বাট পাওয়া না অল্প...</td>\n",
       "      <td>2</td>\n",
       "    </tr>\n",
       "  </tbody>\n",
       "</table>\n",
       "</div>"
      ],
      "text/plain": [
       "                                               posts  labels\n",
       "0                           কিভাবে হতাশা রক্ষা পাওয়া       2\n",
       "1  মাথা সঠিক না মানসিক বিষন্নতা দুঃচিন্তা একাকিত্...       3\n",
       "2  কিছুদিন যাবৎ ডিপ্রেসন আছি ভালো লাগছে সবসময় অস...       2\n",
       "3                    ডিপ্রেশন বেরিয়ে আসতে পারতেছি না       2\n",
       "4  বয়স জীবনে সবকিছু মত পেতে চাই বাট পাওয়া না অল্প...       2"
      ]
     },
     "execution_count": 12,
     "metadata": {},
     "output_type": "execute_result"
    }
   ],
   "source": [
    "print(\"final form\")\n",
    "df_6.head(5)"
   ]
  },
  {
   "cell_type": "code",
   "execution_count": 13,
   "id": "9eec07eb",
   "metadata": {},
   "outputs": [
    {
     "name": "stdout",
     "output_type": "stream",
     "text": [
      "initial form\n"
     ]
    },
    {
     "data": {
      "text/html": [
       "<div>\n",
       "<style scoped>\n",
       "    .dataframe tbody tr th:only-of-type {\n",
       "        vertical-align: middle;\n",
       "    }\n",
       "\n",
       "    .dataframe tbody tr th {\n",
       "        vertical-align: top;\n",
       "    }\n",
       "\n",
       "    .dataframe thead th {\n",
       "        text-align: right;\n",
       "    }\n",
       "</style>\n",
       "<table border=\"1\" class=\"dataframe\">\n",
       "  <thead>\n",
       "    <tr style=\"text-align: right;\">\n",
       "      <th></th>\n",
       "      <th>posts</th>\n",
       "      <th>labels</th>\n",
       "    </tr>\n",
       "  </thead>\n",
       "  <tbody>\n",
       "    <tr>\n",
       "      <th>0</th>\n",
       "      <td>কিভাবে  হতাশা থেকে রক্ষা পাওয়া যাবে</td>\n",
       "      <td>2</td>\n",
       "    </tr>\n",
       "    <tr>\n",
       "      <th>1</th>\n",
       "      <td>মাথা সঠিক কাজ করে না, মানসিক বিষন্বতা, দুঃসচিন...</td>\n",
       "      <td>3</td>\n",
       "    </tr>\n",
       "    <tr>\n",
       "      <th>2</th>\n",
       "      <td>আমি বেশ কিছুদিন যাবৎ অনেক ডিপ্রেসন এ আছি। আমার...</td>\n",
       "      <td>2</td>\n",
       "    </tr>\n",
       "    <tr>\n",
       "      <th>3</th>\n",
       "      <td>কোনো ভাবেই ডিপ্রেশন থেকে বেরিয়ে আসতে পারতেছি না</td>\n",
       "      <td>2</td>\n",
       "    </tr>\n",
       "    <tr>\n",
       "      <th>4</th>\n",
       "      <td>আমার বয়স ৩৪ বছর।জীবনে সবকিছু আমার মত করে পেতে ...</td>\n",
       "      <td>2</td>\n",
       "    </tr>\n",
       "  </tbody>\n",
       "</table>\n",
       "</div>"
      ],
      "text/plain": [
       "                                               posts  labels\n",
       "0                কিভাবে  হতাশা থেকে রক্ষা পাওয়া যাবে       2\n",
       "1  মাথা সঠিক কাজ করে না, মানসিক বিষন্বতা, দুঃসচিন...       3\n",
       "2  আমি বেশ কিছুদিন যাবৎ অনেক ডিপ্রেসন এ আছি। আমার...       2\n",
       "3    কোনো ভাবেই ডিপ্রেশন থেকে বেরিয়ে আসতে পারতেছি না       2\n",
       "4  আমার বয়স ৩৪ বছর।জীবনে সবকিছু আমার মত করে পেতে ...       2"
      ]
     },
     "execution_count": 13,
     "metadata": {},
     "output_type": "execute_result"
    }
   ],
   "source": [
    "print(\"initial form\")\n",
    "df_1.head(5)"
   ]
  },
  {
   "cell_type": "markdown",
   "id": "a9f2fca5",
   "metadata": {},
   "source": [
    "<span style=\"color:pink\">Creating FastText Word Embeddings</span>"
   ]
  },
  {
   "cell_type": "code",
   "execution_count": 14,
   "id": "367b9e89",
   "metadata": {},
   "outputs": [],
   "source": [
    "vocab_dictionary = tokenizer.word_index"
   ]
  },
  {
   "cell_type": "code",
   "execution_count": 15,
   "id": "a96d6b05",
   "metadata": {},
   "outputs": [],
   "source": [
    "embeddings = np.zeros((len(vocab_dictionary) + 1, 300))\n",
    "for word, idx in vocab_dictionary.items():\n",
    "    try:\n",
    "        embeddings[idx] = model[word]\n",
    "    except:\n",
    "        pass"
   ]
  },
  {
   "cell_type": "markdown",
   "id": "450d099d",
   "metadata": {},
   "source": [
    "<span style=\"color:gold\">Deploying Bidirectional-RNN</span>"
   ]
  },
  {
   "cell_type": "code",
   "execution_count": 46,
   "id": "8745f8c6",
   "metadata": {},
   "outputs": [],
   "source": [
    "import keras\n",
    "from keras_self_attention import SeqSelfAttention\n",
    "import tensorflow as tf\n",
    "from tensorflow.keras import models\n",
    "from tensorflow.keras import layers\n",
    "from tensorflow.keras import backend"
   ]
  },
  {
   "cell_type": "code",
   "execution_count": 47,
   "id": "995c6067",
   "metadata": {},
   "outputs": [
    {
     "name": "stderr",
     "output_type": "stream",
     "text": [
      "C:\\ProgramData\\Anaconda3\\envs\\virtual\\lib\\site-packages\\sklearn\\utils\\validation.py:70: FutureWarning: Pass classes=[1 2 3 4], y=[2 3 1 ... 1 3 4] as keyword args. From version 1.0 (renaming of 0.25) passing these as positional arguments will result in an error\n",
      "  warnings.warn(f\"Pass {args_msg} as keyword args. From version \"\n"
     ]
    }
   ],
   "source": [
    "from sklearn.utils import class_weight\n",
    "class_weights = class_weight.compute_class_weight('balanced',\n",
    "                                                 np.unique(np.reshape(enc.inverse_transform(y_train), y_train.shape[0])),\n",
    "                                                 np.reshape(enc.inverse_transform(y_train), y_train.shape[0]))\n",
    "class_weights = {0 : class_weights[0],\n",
    "               1 : class_weights[1],\n",
    "               2 : class_weights[2],\n",
    "               3 : class_weights[3]}"
   ]
  },
  {
   "cell_type": "code",
   "execution_count": 48,
   "id": "d8aef6bb",
   "metadata": {},
   "outputs": [
    {
     "data": {
      "text/plain": [
       "{0: 0.5572950290510007,\n",
       " 1: 0.7572368421052632,\n",
       " 2: 1.893092105263158,\n",
       " 3: 2.80275974025974}"
      ]
     },
     "execution_count": 48,
     "metadata": {},
     "output_type": "execute_result"
    }
   ],
   "source": [
    "class_weights"
   ]
  },
  {
   "cell_type": "code",
   "execution_count": 49,
   "id": "9827a971",
   "metadata": {},
   "outputs": [],
   "source": [
    "# Callbacks\n",
    "\n",
    "# accuracy threshold\n",
    "ACCURACY_THRESHOLD = 0.95\n",
    "class myCallback(tf.keras.callbacks.Callback): \n",
    "    def on_epoch_end(self, epoch, logs = {}): \n",
    "        if(logs.get('accuracy') > ACCURACY_THRESHOLD):   \n",
    "            print(\"\\nReached %2.2f%% accuracy, so stopping training!!\" %(ACCURACY_THRESHOLD*100))   \n",
    "            self.model.stop_training = True\n",
    "acc_threshold = myCallback()\n",
    "\n",
    "# save best model\n",
    "from keras.callbacks import ModelCheckpoint\n",
    "filepath = 'saved-models/my_best_model.epoch{epoch:02d}-loss{val_loss:.2f}.hdf5'\n",
    "checkpoint = ModelCheckpoint(filepath = filepath, \n",
    "                             monitor = 'val_loss',\n",
    "                             verbose = 1, \n",
    "                             save_best_only = True,\n",
    "                             mode = 'min')\n",
    "\n",
    "# real time visualization"
   ]
  },
  {
   "cell_type": "code",
   "execution_count": 50,
   "id": "3fb4e9c2",
   "metadata": {},
   "outputs": [],
   "source": [
    "inputs = layers.Input(shape = (x_train.shape[1],))\n",
    "neurons = x_train.shape[1]\n",
    "modl_in = layers.Embedding(input_dim = embeddings.shape[0],\n",
    "                    output_dim = embeddings.shape[1],\n",
    "                    weights = [embeddings],\n",
    "                    input_length = x_train.shape[1], trainable = False)(inputs)"
   ]
  },
  {
   "cell_type": "code",
   "execution_count": 51,
   "id": "42791e2d",
   "metadata": {},
   "outputs": [],
   "source": [
    "# modl = layers.Permute((2, 1))(modl_in)\n",
    "# modl = layers.Dense(neurons, activation = 'softmax')(modl)\n",
    "# modl = layers.Permute((2, 1), name=\"attention\")(modl)\n",
    "# modl = layers.multiply([modl_in, modl])"
   ]
  },
  {
   "cell_type": "code",
   "execution_count": 52,
   "id": "461542cf",
   "metadata": {
    "scrolled": true
   },
   "outputs": [
    {
     "name": "stdout",
     "output_type": "stream",
     "text": [
      "Model: \"Bidirectional-LSTM\"\n",
      "_________________________________________________________________\n",
      "Layer (type)                 Output Shape              Param #   \n",
      "=================================================================\n",
      "input_5 (InputLayer)         [(None, 300)]             0         \n",
      "_________________________________________________________________\n",
      "embedding_4 (Embedding)      (None, 300, 300)          2838300   \n",
      "_________________________________________________________________\n",
      "conv1d_15 (Conv1D)           (None, 298, 1024)         922624    \n",
      "_________________________________________________________________\n",
      "max_pooling1d_15 (MaxPooling (None, 99, 1024)          0         \n",
      "_________________________________________________________________\n",
      "conv1d_16 (Conv1D)           (None, 97, 512)           1573376   \n",
      "_________________________________________________________________\n",
      "max_pooling1d_16 (MaxPooling (None, 19, 512)           0         \n",
      "_________________________________________________________________\n",
      "conv1d_17 (Conv1D)           (None, 17, 256)           393472    \n",
      "_________________________________________________________________\n",
      "max_pooling1d_17 (MaxPooling (None, 1, 256)            0         \n",
      "_________________________________________________________________\n",
      "spatial_dropout1d_2 (Spatial (None, 1, 256)            0         \n",
      "_________________________________________________________________\n",
      "bidirectional_4 (Bidirection (None, 1, 600)            1336800   \n",
      "_________________________________________________________________\n",
      "flatten_4 (Flatten)          (None, 600)               0         \n",
      "_________________________________________________________________\n",
      "dense_7 (Dense)              (None, 4)                 2404      \n",
      "=================================================================\n",
      "Total params: 7,066,976\n",
      "Trainable params: 4,228,676\n",
      "Non-trainable params: 2,838,300\n",
      "_________________________________________________________________\n"
     ]
    }
   ],
   "source": [
    "modl = layers.Conv1D(filters = 1024,\n",
    "                     kernel_size= 3,\n",
    "                     strides = 1,\n",
    "                     activation = 'relu')(modl_in)\n",
    "modl = layers.MaxPool1D(pool_size = 3)(modl)\n",
    "modl = layers.Conv1D(filters = 512,\n",
    "                     kernel_size= 3,\n",
    "                     strides = 1,\n",
    "                     activation = 'relu')(modl)\n",
    "modl = layers.MaxPool1D(pool_size = 5)(modl)\n",
    "modl = layers.Conv1D(filters = 256,\n",
    "                     kernel_size= 3,\n",
    "                     strides = 1,\n",
    "                     activation = 'relu')(modl)\n",
    "modl = layers.MaxPool1D(pool_size = 14)(modl)\n",
    "modl = layers.SpatialDropout1D(0.4)(modl)\n",
    "modl = layers.Bidirectional(layers.LSTM(units = x_train.shape[1], dropout = 0.5, return_sequences = True))(modl)\n",
    "modl = layers.Flatten()(modl)\n",
    "modl_out = layers.Dense(units = 4, activation = 'softmax')(modl)\n",
    "\n",
    "# compile\n",
    "modelz = models.Model(inputs, modl_out)\n",
    "modelz._name = 'Bidirectional-LSTM'\n",
    "modelz.compile(loss = 'categorical_crossentropy',\n",
    "             optimizer = 'adam',\n",
    "             weighted_metrics=['accuracy'])\n",
    "modelz.summary()"
   ]
  },
  {
   "cell_type": "code",
   "execution_count": 53,
   "id": "4f86f2d1",
   "metadata": {},
   "outputs": [
    {
     "name": "stdout",
     "output_type": "stream",
     "text": [
      "Epoch 1/5\n",
      "76/76 [==============================] - 26s 314ms/step - loss: 1.3133 - accuracy: 0.3461 - val_loss: 1.5710 - val_accuracy: 0.2732\n",
      "Epoch 2/5\n",
      "76/76 [==============================] - 25s 329ms/step - loss: 1.0517 - accuracy: 0.5254 - val_loss: 1.1112 - val_accuracy: 0.5492\n",
      "Epoch 3/5\n",
      "76/76 [==============================] - 27s 360ms/step - loss: 0.7263 - accuracy: 0.7292 - val_loss: 0.8175 - val_accuracy: 0.7104\n",
      "Epoch 4/5\n",
      "76/76 [==============================] - 30s 390ms/step - loss: 0.4739 - accuracy: 0.8279 - val_loss: 1.0712 - val_accuracy: 0.6651\n",
      "Epoch 5/5\n",
      "76/76 [==============================] - 32s 422ms/step - loss: 0.3564 - accuracy: 0.8812 - val_loss: 0.7592 - val_accuracy: 0.7548\n"
     ]
    }
   ],
   "source": [
    "training = modelz.fit(x = x_train, y = y_train, batch_size = 32, \n",
    "                     epochs = 5, shuffle = True, verbose = 1, \n",
    "                     validation_split = 0.3,\n",
    "                     class_weight = class_weights,\n",
    "                     callbacks = [acc_threshold])\n",
    "predicted_prob = modelz.predict_on_batch(x_test)"
   ]
  },
  {
   "cell_type": "code",
   "execution_count": 54,
   "id": "5ff2737f",
   "metadata": {
    "scrolled": true
   },
   "outputs": [
    {
     "name": "stdout",
     "output_type": "stream",
     "text": [
      "Classification Report\n",
      "              precision    recall  f1-score   support\n",
      "\n",
      "           1       0.87      0.79      0.83       542\n",
      "           2       0.80      0.72      0.76       352\n",
      "           3       0.50      0.77      0.60       155\n",
      "           4       0.83      0.84      0.84       103\n",
      "\n",
      "    accuracy                           0.77      1152\n",
      "   macro avg       0.75      0.78      0.76      1152\n",
      "weighted avg       0.80      0.77      0.78      1152\n",
      "\n",
      "\u001b[32mConfusion Matrix\n",
      "[[430  33  68  11]\n",
      " [ 50 252  46   4]\n",
      " [  8  25 119   3]\n",
      " [  5   4   7  87]]\n",
      "\n"
     ]
    }
   ],
   "source": [
    "y_pred = np.argmax(predicted_prob, axis = 1)\n",
    "from sklearn.metrics import confusion_matrix, classification_report\n",
    "cr = classification_report(enc.inverse_transform(y_test), y_pred+1)\n",
    "cm = confusion_matrix(enc.inverse_transform(y_test), y_pred+1)\n",
    "print('Classification Report', cr, sep = '\\n')\n",
    "print(Fore.GREEN+'Confusion Matrix', cm, '', sep = '\\n')"
   ]
  },
  {
   "cell_type": "code",
   "execution_count": 55,
   "id": "ed0568a9",
   "metadata": {},
   "outputs": [
    {
     "data": {
      "image/png": "[encoded data removed]",
      "text/plain": [
       "<Figure size 432x288 with 1 Axes>"
      ]
     },
     "metadata": {},
     "output_type": "display_data"
    }
   ],
   "source": [
    "loss = training.history['val_loss']\n",
    "ep = np.arange(len(loss))+1\n",
    "import matplotlib.pyplot as plt\n",
    "plt.figure().patch.set_facecolor('white')\n",
    "plt.plot(ep, loss)\n",
    "plt.xlabel('epoch')\n",
    "plt.ylabel('val_loss')\n",
    "plt.show()"
   ]
  },
  {
   "cell_type": "code",
   "execution_count": 56,
   "id": "d52352b3",
   "metadata": {},
   "outputs": [
    {
     "name": "stdout",
     "output_type": "stream",
     "text": [
      "Classification Report\n",
      "              precision    recall  f1-score   support\n",
      "\n",
      "           1       0.87      0.79      0.83       542\n",
      "           2       0.80      0.72      0.76       352\n",
      "           3       0.50      0.77      0.60       155\n",
      "           4       0.83      0.84      0.84       103\n",
      "\n",
      "    accuracy                           0.77      1152\n",
      "   macro avg       0.75      0.78      0.76      1152\n",
      "weighted avg       0.80      0.77      0.78      1152\n",
      "\n",
      "\u001b[32mConfusion Matrix\n",
      "[[430  33  68  11]\n",
      " [ 50 252  46   4]\n",
      " [  8  25 119   3]\n",
      " [  5   4   7  87]]\n",
      "\n"
     ]
    }
   ],
   "source": [
    "predicted_prob = modelz.predict_on_batch(x_test)\n",
    "y_pred = np.argmax(predicted_prob, axis = 1)\n",
    "from sklearn.metrics import confusion_matrix, classification_report\n",
    "cr = classification_report(enc.inverse_transform(y_test), y_pred+1)\n",
    "cm = confusion_matrix(enc.inverse_transform(y_test), y_pred+1)\n",
    "print('Classification Report', cr, sep = '\\n')\n",
    "print(Fore.GREEN+'Confusion Matrix', cm, '', sep = '\\n')"
   ]
  },
  {
   "cell_type": "code",
   "execution_count": 57,
   "id": "8bded5b7",
   "metadata": {},
   "outputs": [
    {
     "data": {
      "image/png": "[encoded data removed]",
      "text/plain": [
       "<Figure size 432x288 with 1 Axes>"
      ]
     },
     "metadata": {},
     "output_type": "display_data"
    }
   ],
   "source": [
    "loss = training.history['val_accuracy']\n",
    "ep = np.arange(len(loss))+1\n",
    "import matplotlib.pyplot as plt\n",
    "plt.figure().patch.set_facecolor('white')\n",
    "plt.plot(ep, loss)\n",
    "plt.xlabel('epoch')\n",
    "plt.ylabel('val_accuracy')\n",
    "plt.show()"
   ]
  },
  {
   "cell_type": "code",
   "execution_count": null,
   "id": "2cc44329",
   "metadata": {},
   "outputs": [],
   "source": []
  },
  {
   "cell_type": "code",
   "execution_count": null,
   "id": "6cffc1a5",
   "metadata": {},
   "outputs": [],
   "source": []
  }
 ],
 "metadata": {
  "kernelspec": {
   "display_name": "Python 3 (ipykernel)",
   "language": "python",
   "name": "python3"
  },
  "language_info": {
   "codemirror_mode": {
    "name": "ipython",
    "version": 3
   },
   "file_extension": ".py",
   "mimetype": "text/x-python",
   "name": "python",
   "nbconvert_exporter": "python",
   "pygments_lexer": "ipython3",
   "version": "3.8.10"
  }
 },
 "nbformat": 4,
 "nbformat_minor": 5
}
