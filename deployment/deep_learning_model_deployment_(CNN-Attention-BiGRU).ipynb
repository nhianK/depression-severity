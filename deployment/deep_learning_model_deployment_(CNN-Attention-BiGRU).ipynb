{
 "cells": [
  {
   "cell_type": "markdown",
   "metadata": {},
   "source": [
    "#### DEEP LEARNING MODEL DEPLOYMENT (Bi-LSTM)"
   ]
  },
  {
   "cell_type": "markdown",
   "metadata": {},
   "source": [
    "<span style=\"color:coral\">Data Preparation</span>"
   ]
  },
  {
   "cell_type": "code",
   "execution_count": 1,
   "metadata": {},
   "outputs": [],
   "source": [
    "import numpy as np\n",
    "import pandas as pd\n",
    "import re\n",
    "from colorama import Fore, Back, Style"
   ]
  },
  {
   "cell_type": "code",
   "execution_count": 2,
   "metadata": {},
   "outputs": [],
   "source": [
    "dataset = pd.read_excel('dataset/maya_dataset.xlsx', engine = 'openpyxl')\n",
    "dataset = dataset.iloc[:, 0:2]\n",
    "df_1 = dataset.copy()"
   ]
  },
  {
   "cell_type": "code",
   "execution_count": 3,
   "metadata": {},
   "outputs": [],
   "source": [
    "def deEmojify(text):\n",
    "    regrex_pattern = re.compile(pattern = \"[\"\n",
    "        u\"\\U0001F600-\\U0001F64F\"  # emoticons\n",
    "        u\"\\U0001F300-\\U0001F5FF\"  # symbols & pictographs\n",
    "        u\"\\U0001F680-\\U0001F6FF\"  # transport & map symbols\n",
    "        u\"\\U0001F1E0-\\U0001F1FF\"  # flags (iOS)\n",
    "        u\"\\U0001F97A\"\n",
    "        u\"\\U00002639\"\n",
    "        u\"\\U0001F642\"\n",
    "        u\"\\U00002764\"\n",
    "        u\"\\U0001F600-\\U000E007F\"\n",
    "                           \"]+\", flags = re.UNICODE)\n",
    "    return regrex_pattern.sub(r' ',text)\n",
    "\n",
    "def depunctuate(text):\n",
    "    regrex_pattern = re.compile(pattern = \"[\"u\"\\/\"u\"\\\\\"u\"\\^\"u\"\\!\"u\"\\@\"u\"\\+\"u\"\\*\"u\"\\=\"u\"\\%\"u\"\\&\"u\"\\:\"u\"\\;\"u\"\\_\"u\"\\.\"u\"\\,\"u\"\\(\"u\"\\)\"u\"\\?\"u\"\\।\"u\"\\|\"u\"'\"u\"\\-\"u\"\\\"\"u\"]+\")\n",
    "    return regrex_pattern.sub(r' ',text)\n",
    "\n",
    "def denumerize(text):\n",
    "    regrex_pattern = re.compile(pattern = \"[0-9০১২৩৪৫৬৭৮৯]+\")\n",
    "    return regrex_pattern.sub(r' ',text)\n",
    "\n",
    "def remove_empty_string_literals(string_list):\n",
    "    while(\"\" in string_list) :\n",
    "        string_list.remove(\"\")\n",
    "    return string_list"
   ]
  },
  {
   "cell_type": "code",
   "execution_count": 4,
   "metadata": {
    "scrolled": true
   },
   "outputs": [
    {
     "name": "stdout",
     "output_type": "stream",
     "text": [
      "(4871, 3)\n"
     ]
    }
   ],
   "source": [
    "for i in range(df_1.shape[0]):\n",
    "    df_1.iloc[i,0] = deEmojify(df_1.iloc[i,0])\n",
    "df_2 = df_1.copy()\n",
    "for i in range(df_2.shape[0]):\n",
    "    df_2.iloc[i,0] = depunctuate(df_2.iloc[i,0])\n",
    "df_3 = df_2.copy()\n",
    "for i in range(df_3.shape[0]):\n",
    "    df_3.iloc[i,0] = denumerize(df_3.iloc[i,0])\n",
    "df_4 = df_3.copy()\n",
    "df_4['length'] = [len(remove_empty_string_literals(post.split(' '))) for post in df_4.iloc[:, 0]]\n",
    "\n",
    "LOWER_BOUND = 5\n",
    "UPPER_BOUND = 300\n",
    "df_5 = df_4[(df_4['length'] >= LOWER_BOUND) == True]\n",
    "df_5 = df_5[(df_5['length'] <= UPPER_BOUND) == True]\n",
    "print(df_5.shape)\n",
    "\n"
   ]
  },
  {
   "cell_type": "markdown",
   "metadata": {},
   "source": [
    "<span style=\"color:crimson\">Spell Correction using FastText</span>"
   ]
  },
  {
   "cell_type": "markdown",
   "metadata": {},
   "source": [
    "<font>Source:\n",
    "    https://medium.com/analytics-vidhya/bengali-word-spelling-correction-using-pre-trained-word2vec-1f9938f48b09\n",
    "</font>\n",
    "\n",
    "- letters = The Bengali script has a total of 9 vowels. Each of which is called a ‘স্বরবর্ণ’. Also, have 35 consonants that are known as ‘ব্যঞ্জনবর্ণ ‘.\n",
    "\n",
    "- splits = It is working as a list which has both forward and reverses orders of the word sequence.\n",
    "\n",
    "- deletes = Also, a list which checks the left and right of a word in splits list and deletes the incorrect syntax.\n",
    "\n",
    "- transposes = It is used to change word places with each other words using the splits list.\n",
    "\n",
    "- replaces = Is a list it put words back in a previous place or position.\n",
    "\n",
    "- inserts = It helps to place and fit the correct words into the replacing with the incorrect word, especially with care."
   ]
  },
  {
   "cell_type": "code",
   "execution_count": 5,
   "metadata": {},
   "outputs": [],
   "source": [
    "from gensim.models import KeyedVectors\n",
    "model = KeyedVectors.load_word2vec_format('models/cc.bn.300.vec')"
   ]
  },
  {
   "cell_type": "code",
   "execution_count": 6,
   "metadata": {},
   "outputs": [
    {
     "data": {
      "text/plain": [
       "1468578"
      ]
     },
     "execution_count": 6,
     "metadata": {},
     "output_type": "execute_result"
    }
   ],
   "source": [
    "words = model.index_to_key\n",
    "word_rank = {}\n",
    "for index, word in enumerate(words):\n",
    "    word_rank[word] = index\n",
    "len(words)"
   ]
  },
  {
   "cell_type": "code",
   "execution_count": 7,
   "metadata": {},
   "outputs": [],
   "source": [
    "# This methods returns the value for the given key, if present in the dictionary using the get() method\n",
    "def P(word): \n",
    "    return - word_rank.get(word, 0)\n",
    "\n",
    "#  It returns the maximum candidates words with a key which is defined by P\n",
    "def correction(word): \n",
    "    return max(candidates(word), key=P)\n",
    "\n",
    "# The absolute candidate of the wrong word could found from known() methods is the actual work of this function.\n",
    "def candidates(word): \n",
    "    return (known([word]) or known(edits1(word)) or known(edits2(word)) or [word])\n",
    "\n",
    "# This method is used to find out the set of a word which is present in the dictionary\n",
    "def known(words): \n",
    "    return set(w for w in words if w in word_rank)\n",
    "\n",
    "# Many parameters such as deletes, transposes, replaces, inserts are used in this method.\n",
    "# Those parameters return the correct word of an incorrect word in a sentence.\n",
    "# A set() function is used to find out the unordered collection of words\n",
    "def edits1(word):\n",
    "    letters    = 'ঁংঃঅআইঈউঊঋএঐওঔকখগঘঙচছজঝঞটঠডঢণতথদধনপফবভমযরলশষসহ়ঽািীুূৃৄেৈোৌ্ৎৗড়ঢ়য়'\n",
    "    splits     = [(word[:i], word[i:])    for i in range(len(word) + 1)]\n",
    "    deletes    = [L + R[1:]               for L, R in splits if R]\n",
    "    transposes = [L + R[1] + R[0] + R[2:] for L, R in splits if len(R)>1]\n",
    "    replaces   = [L + c + R[1:]           for L, R in splits if R for c in letters]\n",
    "    inserts    = [L + c + R               for L, R in splits for c in letters]\n",
    "    return set(deletes + transposes + replaces + inserts)\n",
    "    \n",
    "#  This method is returend the word which is edited by in edits1() functions\n",
    "def edits2(word): \n",
    "    return (e2 for e1 in edits1(word) for e2 in edits1(e1))"
   ]
  },
  {
   "cell_type": "code",
   "execution_count": 8,
   "metadata": {},
   "outputs": [],
   "source": [
    "def spell_correction(sentence):\n",
    "    corrected_sentence = []\n",
    "    for word in sentence:\n",
    "        corrected_sentence.append(correction(word))\n",
    "    return re.sub(' +' ,' ', ' '.join(corrected_sentence))\n",
    "from bnlp import BasicTokenizer\n",
    "tokenizer = BasicTokenizer()\n",
    "x = df_5.iloc[:, 0:1].values\n",
    "x = x.tolist()\n",
    "for i in range(len(x)):\n",
    "    x[i] = tokenizer.tokenize(x[i][0])\n",
    "for i in range(df_5.shape[0]):\n",
    "    df_5.iloc[i, 0] = spell_correction(x[i])"
   ]
  },
  {
   "cell_type": "code",
   "execution_count": 9,
   "metadata": {},
   "outputs": [],
   "source": [
    "from bnlp.corpus.util import remove_stopwords\n",
    "file = open('stopwords/stopwords-bn.txt', encoding = 'utf-8')\n",
    "stopwords = []\n",
    "for line in file:\n",
    "    stopwords.append(line.strip())\n",
    "file.close()\n",
    "stopwords = list(filter(None, stopwords))\n",
    "df_6 = df_5.iloc[:, 0:2].copy()\n",
    "for i in range(df_6.shape[0]):\n",
    "    df_6.iloc[i, 0] = ' '.join(remove_stopwords(df_6.iloc[i, 0], stopwords))\n",
    "x, y = df_6.iloc[:, 0:1].values, df_6.iloc[:, 1:2].values\n",
    "x = x.tolist()\n",
    "corpus = df_6.iloc[:, 0].values\n",
    "y = df_6.iloc[:, 1].values\n",
    "\n",
    "from bnlp import BasicTokenizer\n",
    "tokenizer = BasicTokenizer()\n",
    "# X -> tokenized list of sentences(lists); x -> list of sentences\n",
    "X, y = df_6.iloc[:, 0:1].values, df_6.iloc[:, 1:2].values\n",
    "X = X.tolist()\n",
    "for i in range(len(X)):\n",
    "    X[i] = tokenizer.tokenize(X[i][0])"
   ]
  },
  {
   "cell_type": "code",
   "execution_count": 10,
   "metadata": {},
   "outputs": [],
   "source": [
    "# one hot encoding y\n",
    "from sklearn.preprocessing import OneHotEncoder\n",
    "enc = OneHotEncoder(handle_unknown = 'ignore')\n",
    "y = np.array((enc.fit_transform(y)).toarray())\n",
    "\n",
    "# split and tokenize\n",
    "from sklearn.model_selection import train_test_split\n",
    "x_train, x_test, y_train, y_test = train_test_split(X, y, test_size = 0.25, random_state = 0)\n",
    "from tensorflow.keras import preprocessing\n",
    "tokenizer = preprocessing.text.Tokenizer(lower = False, oov_token = '<UNK>')\n",
    "tokenizer.fit_on_texts(list(x_train))\n",
    "x_train = tokenizer.texts_to_sequences(x_train)\n",
    "x_train = preprocessing.sequence.pad_sequences(sequences = x_train, padding = 'post', truncating = 'post',\n",
    "                                              maxlen = UPPER_BOUND)\n",
    "x_test = tokenizer.texts_to_sequences(x_test)\n",
    "x_test = preprocessing.sequence.pad_sequences(sequences = x_test, padding = 'post', truncating = 'post',\n",
    "                                             maxlen = UPPER_BOUND)"
   ]
  },
  {
   "cell_type": "code",
   "execution_count": 11,
   "metadata": {},
   "outputs": [
    {
     "name": "stdout",
     "output_type": "stream",
     "text": [
      "(3653, 300)\n",
      "(1218, 300)\n",
      "(3653, 4)\n",
      "(1218, 4)\n"
     ]
    }
   ],
   "source": [
    "print(np.array(x_train).shape)\n",
    "print(np.array(x_test).shape)\n",
    "print(np.array(y_train).shape)\n",
    "print(np.array(y_test).shape)"
   ]
  },
  {
   "cell_type": "code",
   "execution_count": 12,
   "metadata": {},
   "outputs": [
    {
     "name": "stdout",
     "output_type": "stream",
     "text": [
      "final form\n"
     ]
    },
    {
     "data": {
      "text/html": [
       "<div>\n",
       "<style scoped>\n",
       "    .dataframe tbody tr th:only-of-type {\n",
       "        vertical-align: middle;\n",
       "    }\n",
       "\n",
       "    .dataframe tbody tr th {\n",
       "        vertical-align: top;\n",
       "    }\n",
       "\n",
       "    .dataframe thead th {\n",
       "        text-align: right;\n",
       "    }\n",
       "</style>\n",
       "<table border=\"1\" class=\"dataframe\">\n",
       "  <thead>\n",
       "    <tr style=\"text-align: right;\">\n",
       "      <th></th>\n",
       "      <th>posts</th>\n",
       "      <th>labels</th>\n",
       "    </tr>\n",
       "  </thead>\n",
       "  <tbody>\n",
       "    <tr>\n",
       "      <th>0</th>\n",
       "      <td>কিভাবে হতাশা রক্ষা পাওয়া</td>\n",
       "      <td>2</td>\n",
       "    </tr>\n",
       "    <tr>\n",
       "      <th>1</th>\n",
       "      <td>মাথা সঠিক না মানসিক বিষন্নতা দুঃচিন্তা একাকিত্...</td>\n",
       "      <td>3</td>\n",
       "    </tr>\n",
       "    <tr>\n",
       "      <th>2</th>\n",
       "      <td>কিছুদিন যাবৎ ডিপ্রেসন আছি ভালো লাগছে সবসময় অস...</td>\n",
       "      <td>2</td>\n",
       "    </tr>\n",
       "    <tr>\n",
       "      <th>3</th>\n",
       "      <td>ডিপ্রেশন বেরিয়ে আসতে পারতেছি না</td>\n",
       "      <td>2</td>\n",
       "    </tr>\n",
       "    <tr>\n",
       "      <th>4</th>\n",
       "      <td>বয়স জীবনে সবকিছু মত পেতে চাই বাট পাওয়া না অল্প...</td>\n",
       "      <td>2</td>\n",
       "    </tr>\n",
       "  </tbody>\n",
       "</table>\n",
       "</div>"
      ],
      "text/plain": [
       "                                               posts  labels\n",
       "0                           কিভাবে হতাশা রক্ষা পাওয়া       2\n",
       "1  মাথা সঠিক না মানসিক বিষন্নতা দুঃচিন্তা একাকিত্...       3\n",
       "2  কিছুদিন যাবৎ ডিপ্রেসন আছি ভালো লাগছে সবসময় অস...       2\n",
       "3                    ডিপ্রেশন বেরিয়ে আসতে পারতেছি না       2\n",
       "4  বয়স জীবনে সবকিছু মত পেতে চাই বাট পাওয়া না অল্প...       2"
      ]
     },
     "execution_count": 12,
     "metadata": {},
     "output_type": "execute_result"
    }
   ],
   "source": [
    "print(\"final form\")\n",
    "df_6.head(5)"
   ]
  },
  {
   "cell_type": "code",
   "execution_count": 13,
   "metadata": {},
   "outputs": [
    {
     "name": "stdout",
     "output_type": "stream",
     "text": [
      "initial form\n"
     ]
    },
    {
     "data": {
      "text/html": [
       "<div>\n",
       "<style scoped>\n",
       "    .dataframe tbody tr th:only-of-type {\n",
       "        vertical-align: middle;\n",
       "    }\n",
       "\n",
       "    .dataframe tbody tr th {\n",
       "        vertical-align: top;\n",
       "    }\n",
       "\n",
       "    .dataframe thead th {\n",
       "        text-align: right;\n",
       "    }\n",
       "</style>\n",
       "<table border=\"1\" class=\"dataframe\">\n",
       "  <thead>\n",
       "    <tr style=\"text-align: right;\">\n",
       "      <th></th>\n",
       "      <th>posts</th>\n",
       "      <th>labels</th>\n",
       "    </tr>\n",
       "  </thead>\n",
       "  <tbody>\n",
       "    <tr>\n",
       "      <th>0</th>\n",
       "      <td>কিভাবে  হতাশা থেকে রক্ষা পাওয়া যাবে</td>\n",
       "      <td>2</td>\n",
       "    </tr>\n",
       "    <tr>\n",
       "      <th>1</th>\n",
       "      <td>মাথা সঠিক কাজ করে না, মানসিক বিষন্বতা, দুঃসচিন...</td>\n",
       "      <td>3</td>\n",
       "    </tr>\n",
       "    <tr>\n",
       "      <th>2</th>\n",
       "      <td>আমি বেশ কিছুদিন যাবৎ অনেক ডিপ্রেসন এ আছি। আমার...</td>\n",
       "      <td>2</td>\n",
       "    </tr>\n",
       "    <tr>\n",
       "      <th>3</th>\n",
       "      <td>কোনো ভাবেই ডিপ্রেশন থেকে বেরিয়ে আসতে পারতেছি না</td>\n",
       "      <td>2</td>\n",
       "    </tr>\n",
       "    <tr>\n",
       "      <th>4</th>\n",
       "      <td>আমার বয়স ৩৪ বছর।জীবনে সবকিছু আমার মত করে পেতে ...</td>\n",
       "      <td>2</td>\n",
       "    </tr>\n",
       "  </tbody>\n",
       "</table>\n",
       "</div>"
      ],
      "text/plain": [
       "                                               posts  labels\n",
       "0                কিভাবে  হতাশা থেকে রক্ষা পাওয়া যাবে       2\n",
       "1  মাথা সঠিক কাজ করে না, মানসিক বিষন্বতা, দুঃসচিন...       3\n",
       "2  আমি বেশ কিছুদিন যাবৎ অনেক ডিপ্রেসন এ আছি। আমার...       2\n",
       "3    কোনো ভাবেই ডিপ্রেশন থেকে বেরিয়ে আসতে পারতেছি না       2\n",
       "4  আমার বয়স ৩৪ বছর।জীবনে সবকিছু আমার মত করে পেতে ...       2"
      ]
     },
     "execution_count": 13,
     "metadata": {},
     "output_type": "execute_result"
    }
   ],
   "source": [
    "print(\"initial form\")\n",
    "df_1.head(5)"
   ]
  },
  {
   "cell_type": "markdown",
   "metadata": {},
   "source": [
    "<span style=\"color:pink\">Creating FastText Word Embeddings</span>"
   ]
  },
  {
   "cell_type": "code",
   "execution_count": 14,
   "metadata": {},
   "outputs": [],
   "source": [
    "vocab_dictionary = tokenizer.word_index"
   ]
  },
  {
   "cell_type": "code",
   "execution_count": 15,
   "metadata": {},
   "outputs": [],
   "source": [
    "embeddings = np.zeros((len(vocab_dictionary) + 1, 300))\n",
    "for word, idx in vocab_dictionary.items():\n",
    "    try:\n",
    "        embeddings[idx] = model[word]\n",
    "    except:\n",
    "        pass"
   ]
  },
  {
   "cell_type": "markdown",
   "metadata": {},
   "source": [
    "<span style=\"color:gold\">Deploying Bidirectional-RNN</span>"
   ]
  },
  {
   "cell_type": "code",
   "execution_count": 157,
   "metadata": {},
   "outputs": [],
   "source": [
    "import keras\n",
    "from keras_self_attention import SeqWeightedAttention\n",
    "import tensorflow as tf\n",
    "from tensorflow.keras import models\n",
    "from tensorflow.keras import layers\n",
    "from tensorflow.keras import backend"
   ]
  },
  {
   "cell_type": "code",
   "execution_count": 158,
   "metadata": {},
   "outputs": [
    {
     "name": "stderr",
     "output_type": "stream",
     "text": [
      "C:\\ProgramData\\Anaconda3\\envs\\virtual\\lib\\site-packages\\sklearn\\utils\\validation.py:70: FutureWarning: Pass classes=[1 2 3 4], y=[2 1 2 ... 1 3 4] as keyword args. From version 1.0 (renaming of 0.25) passing these as positional arguments will result in an error\n",
      "  warnings.warn(f\"Pass {args_msg} as keyword args. From version \"\n"
     ]
    }
   ],
   "source": [
    "from sklearn.utils import class_weight\n",
    "class_weights = class_weight.compute_class_weight('balanced',\n",
    "                                                 np.unique(np.reshape(enc.inverse_transform(y_train), y_train.shape[0])),\n",
    "                                                 np.reshape(enc.inverse_transform(y_train), y_train.shape[0]))\n",
    "class_weights = {0 : class_weights[0],\n",
    "               1 : class_weights[1],\n",
    "               2 : class_weights[2],\n",
    "               3 : class_weights[3]}"
   ]
  },
  {
   "cell_type": "code",
   "execution_count": 159,
   "metadata": {},
   "outputs": [
    {
     "data": {
      "text/plain": [
       "{0: 0.5846670934699104,\n",
       " 1: 0.8074712643678161,\n",
       " 2: 1.7102059925093633,\n",
       " 3: 2.1437793427230045}"
      ]
     },
     "execution_count": 159,
     "metadata": {},
     "output_type": "execute_result"
    }
   ],
   "source": [
    "class_weights"
   ]
  },
  {
   "cell_type": "code",
   "execution_count": 160,
   "metadata": {},
   "outputs": [],
   "source": [
    "# Callbacks\n",
    "\n",
    "# accuracy threshold\n",
    "ACCURACY_THRESHOLD = 0.95\n",
    "class myCallback(tf.keras.callbacks.Callback): \n",
    "    def on_epoch_end(self, epoch, logs = {}): \n",
    "        if(logs.get('val_accuracy') > ACCURACY_THRESHOLD):   \n",
    "            print(\"\\nReached %2.2f%% accuracy, so stopping training!!\" %(ACCURACY_THRESHOLD*100))   \n",
    "            self.model.stop_training = True\n",
    "acc_threshold = myCallback()\n",
    "\n",
    "# save best model\n",
    "from keras.callbacks import ModelCheckpoint\n",
    "filepath = 'saved-models/my_best_model.epoch{epoch:02d}-loss{val_loss:.2f}.hdf5'\n",
    "checkpoint = ModelCheckpoint(filepath = filepath, \n",
    "                             monitor = 'val_loss',\n",
    "                             verbose = 1, \n",
    "                             save_best_only = True,\n",
    "                             mode = 'min')\n",
    "\n",
    "# reduce lr on plateau\n",
    "from keras.callbacks import ReduceLROnPlateau\n",
    "from keras.callbacks import TensorBoard\n",
    "reduce_on_plateau = ReduceLROnPlateau(\n",
    "            monitor='val_loss',\n",
    "            factor=0.1,\n",
    "            patience=2,\n",
    "            verbose=0,\n",
    "            mode='min',\n",
    "            min_delta=0.01,\n",
    "            cooldown=0,\n",
    "            min_lr=0)\n",
    "tensor_board = TensorBoard(log_dir = 'tb_logs',\n",
    "                           update_freq = 1)"
   ]
  },
  {
   "cell_type": "code",
   "execution_count": 161,
   "metadata": {},
   "outputs": [],
   "source": [
    "from keras.layers import Layer\n",
    "class attention(Layer):\n",
    "    def __init__(self,**kwargs):\n",
    "        super(attention,self).__init__(**kwargs)\n",
    "\n",
    "    def build(self,input_shape):\n",
    "        self.W=self.add_weight(name=\"att_weight\",shape=(input_shape[-1],1),initializer=\"normal\")\n",
    "        self.b=self.add_weight(name=\"att_bias\",shape=(input_shape[1],1),initializer=\"zeros\")        \n",
    "        super(attention, self).build(input_shape)\n",
    "\n",
    "    def call(self,x):\n",
    "        et=backend.squeeze(backend.tanh(backend.dot(x,self.W)+self.b),axis=-1)\n",
    "        at=backend.softmax(et)\n",
    "        at=backend.expand_dims(at,axis=-1)\n",
    "        output=x*at\n",
    "        return backend.sum(output,axis=1)\n",
    "\n",
    "    def compute_output_shape(self,input_shape):\n",
    "        return (input_shape[0],input_shape[-1])"
   ]
  },
  {
   "cell_type": "code",
   "execution_count": 162,
   "metadata": {},
   "outputs": [],
   "source": [
    "inputs = layers.Input(shape = (x_train.shape[1],))\n",
    "neurons = x_train.shape[1]\n",
    "modl_in = layers.Embedding(input_dim = embeddings.shape[0],\n",
    "                    output_dim = embeddings.shape[1],\n",
    "                    weights = [embeddings],\n",
    "                    input_length = x_train.shape[1], trainable = False)(inputs)"
   ]
  },
  {
   "cell_type": "code",
   "execution_count": 163,
   "metadata": {
    "scrolled": false
   },
   "outputs": [
    {
     "name": "stdout",
     "output_type": "stream",
     "text": [
      "Model: \"Bidirectional-LSTM\"\n",
      "_________________________________________________________________\n",
      "Layer (type)                 Output Shape              Param #   \n",
      "=================================================================\n",
      "input_15 (InputLayer)        [(None, 300)]             0         \n",
      "_________________________________________________________________\n",
      "embedding_14 (Embedding)     (None, 300, 300)          2989800   \n",
      "_________________________________________________________________\n",
      "conv1d_52 (Conv1D)           (None, 298, 1024)         922624    \n",
      "_________________________________________________________________\n",
      "max_pooling1d_37 (MaxPooling (None, 99, 1024)          0         \n",
      "_________________________________________________________________\n",
      "conv1d_53 (Conv1D)           (None, 97, 512)           1573376   \n",
      "_________________________________________________________________\n",
      "max_pooling1d_38 (MaxPooling (None, 19, 512)           0         \n",
      "_________________________________________________________________\n",
      "conv1d_54 (Conv1D)           (None, 17, 256)           393472    \n",
      "_________________________________________________________________\n",
      "average_pooling1d_5 (Average (None, 1, 256)            0         \n",
      "_________________________________________________________________\n",
      "bidirectional_26 (Bidirectio (None, 1, 600)            1004400   \n",
      "_________________________________________________________________\n",
      "bidirectional_27 (Bidirectio (None, 1, 600)            1623600   \n",
      "_________________________________________________________________\n",
      "attention_13 (attention)     (None, 600)               601       \n",
      "_________________________________________________________________\n",
      "dense_38 (Dense)             (None, 64)                38464     \n",
      "_________________________________________________________________\n",
      "dense_39 (Dense)             (None, 64)                4160      \n",
      "_________________________________________________________________\n",
      "dense_40 (Dense)             (None, 4)                 260       \n",
      "=================================================================\n",
      "Total params: 8,550,757\n",
      "Trainable params: 5,560,957\n",
      "Non-trainable params: 2,989,800\n",
      "_________________________________________________________________\n"
     ]
    }
   ],
   "source": [
    "modl = layers.Conv1D(filters = 1024,\n",
    "                     kernel_size= 3,\n",
    "                     strides = 1,\n",
    "                     activation = 'relu')(modl_in)\n",
    "modl = layers.MaxPooling1D(pool_size = 3)(modl)\n",
    "modl = layers.Conv1D(filters = 512,\n",
    "                     kernel_size= 3,\n",
    "                     strides = 1,\n",
    "                     activation = 'relu')(modl)\n",
    "modl = layers.MaxPooling1D(pool_size = 5)(modl)\n",
    "modl = layers.Conv1D(filters = 256,\n",
    "                     kernel_size= 3,\n",
    "                     strides = 1,\n",
    "                     activation = 'relu')(modl)\n",
    "modl = layers.AveragePooling1D(pool_size = 14)(modl)\n",
    "# modl = layers.SpatialDropout1D(0.05)(modl)\n",
    "modl = layers.Bidirectional(layers.GRU(units = x_train.shape[1], recurrent_dropout = 0.2, return_sequences = True))(modl)\n",
    "modl = layers.Bidirectional(layers.GRU(units = x_train.shape[1], go_backwards = True, dropout = 0.05, return_sequences = True))(modl)\n",
    "modl = attention()(modl)\n",
    "from tensorflow.keras import regularizers\n",
    "modl = layers.Dense(units=64,\n",
    "                    kernel_regularizer=regularizers.l1_l2(l1=1e-5, l2=1e-4),\n",
    "                    bias_regularizer=regularizers.l2(1e-4),\n",
    "                    activity_regularizer=regularizers.l2(1e-5))(modl)\n",
    "modl = layers.Dense(units=64,\n",
    "                    kernel_regularizer=regularizers.l1_l2(l1=1e-5, l2=1e-4),\n",
    "                    bias_regularizer=regularizers.l2(1e-4),\n",
    "                    activity_regularizer=regularizers.l2(1e-5),\n",
    "                    activation = 'relu')(modl)\n",
    "modl_out = layers.Dense(units = 4, activation = 'softmax')(modl)\n",
    "# compile\n",
    "modelz = models.Model(inputs, modl_out)\n",
    "modelz._name = 'Bidirectional-LSTM'\n",
    "modelz.compile(loss = 'categorical_crossentropy',\n",
    "             optimizer = 'adam',\n",
    "             weighted_metrics=['accuracy'])\n",
    "modelz.summary()"
   ]
  },
  {
   "cell_type": "code",
   "execution_count": 164,
   "metadata": {},
   "outputs": [
    {
     "name": "stdout",
     "output_type": "stream",
     "text": [
      "Epoch 1/7\n",
      "80/80 [==============================] - 38s 406ms/step - loss: 1.2987 - accuracy: 0.3671 - val_loss: 1.0989 - val_accuracy: 0.3878\n",
      "Epoch 2/7\n",
      "80/80 [==============================] - 36s 453ms/step - loss: 1.0031 - accuracy: 0.5354 - val_loss: 0.9920 - val_accuracy: 0.5456\n",
      "Epoch 3/7\n",
      "80/80 [==============================] - 40s 499ms/step - loss: 0.7994 - accuracy: 0.6789 - val_loss: 0.9846 - val_accuracy: 0.6350\n",
      "Epoch 4/7\n",
      "80/80 [==============================] - 43s 540ms/step - loss: 0.6296 - accuracy: 0.7771 - val_loss: 0.9597 - val_accuracy: 0.6688\n",
      "Epoch 5/7\n",
      "80/80 [==============================] - 47s 584ms/step - loss: 0.4593 - accuracy: 0.8535 - val_loss: 0.9902 - val_accuracy: 0.7108\n",
      "Epoch 6/7\n",
      "80/80 [==============================] - 48s 606ms/step - loss: 0.3675 - accuracy: 0.8890 - val_loss: 0.9221 - val_accuracy: 0.7464\n",
      "Epoch 7/7\n",
      "80/80 [==============================] - 50s 632ms/step - loss: 0.3278 - accuracy: 0.9076 - val_loss: 0.9554 - val_accuracy: 0.7372\n"
     ]
    }
   ],
   "source": [
    "backend.set_value(modelz.optimizer.learning_rate, 1e-3)\n",
    "training = modelz.fit(x = x_train, y = y_train, batch_size = 32, \n",
    "                     epochs = 7, shuffle = True, verbose = 1, \n",
    "                     validation_split = 0.3,\n",
    "                     class_weight = class_weights,\n",
    "                     callbacks = [acc_threshold, reduce_on_plateau])"
   ]
  },
  {
   "cell_type": "code",
   "execution_count": 165,
   "metadata": {
    "scrolled": true
   },
   "outputs": [
    {
     "name": "stdout",
     "output_type": "stream",
     "text": [
      "Classification Report\n",
      "              precision    recall  f1-score   support\n",
      "\n",
      "           1       0.84      0.76      0.80       529\n",
      "           2       0.67      0.74      0.70       401\n",
      "           3       0.52      0.60      0.56       169\n",
      "           4       0.90      0.78      0.84       119\n",
      "\n",
      "    accuracy                           0.73      1218\n",
      "   macro avg       0.73      0.72      0.72      1218\n",
      "weighted avg       0.75      0.73      0.74      1218\n",
      "\n",
      "\u001b[32mConfusion Matrix\n",
      "[[403  93  32   1]\n",
      " [ 58 295  47   1]\n",
      " [ 15  44 102   8]\n",
      " [  5   7  14  93]]\n",
      "\n"
     ]
    }
   ],
   "source": [
    "predicted_prob = modelz.predict_on_batch(x_test)\n",
    "y_pred = np.argmax(predicted_prob, axis = 1)\n",
    "from sklearn.metrics import confusion_matrix, classification_report\n",
    "cr = classification_report(enc.inverse_transform(y_test), y_pred+1)\n",
    "cm = confusion_matrix(enc.inverse_transform(y_test), y_pred+1)\n",
    "print('Classification Report', cr, sep = '\\n')\n",
    "print(Fore.GREEN+'Confusion Matrix', cm, '', sep = '\\n')"
   ]
  },
  {
   "cell_type": "code",
   "execution_count": 166,
   "metadata": {},
   "outputs": [
    {
     "data": {
      "image/png": "[encoded data removed]",
      "text/plain": [
       "<Figure size 432x288 with 1 Axes>"
      ]
     },
     "metadata": {},
     "output_type": "display_data"
    }
   ],
   "source": [
    "val_loss = training.history['val_loss']\n",
    "loss = training.history['loss']\n",
    "ep = np.arange(len(loss))+1\n",
    "import matplotlib.pyplot as plt\n",
    "plt.figure().patch.set_facecolor('white')\n",
    "plt.plot(ep, val_loss, label = 'val_loss')\n",
    "plt.plot(ep, loss, label = 'train_loss')\n",
    "plt.xlabel('epoch')\n",
    "plt.ylabel('metric')\n",
    "plt.legend()\n",
    "plt.show()"
   ]
  },
  {
   "cell_type": "code",
   "execution_count": 167,
   "metadata": {},
   "outputs": [
    {
     "data": {
      "image/png": "[encoded data removed]",
      "text/plain": [
       "<Figure size 432x288 with 1 Axes>"
      ]
     },
     "metadata": {},
     "output_type": "display_data"
    }
   ],
   "source": [
    "val_acc = training.history['val_accuracy']\n",
    "acc = training.history['accuracy']\n",
    "ep = np.arange(len(acc))+1\n",
    "import matplotlib.pyplot as plt\n",
    "plt.figure().patch.set_facecolor('white')\n",
    "plt.plot(ep, val_acc, label = 'val_acc')\n",
    "plt.plot(ep, acc, label = 'train_acc')\n",
    "plt.xlabel('epoch')\n",
    "plt.ylabel('metric')\n",
    "plt.legend()\n",
    "plt.show()"
   ]
  },
  {
   "cell_type": "code",
   "execution_count": null,
   "metadata": {},
   "outputs": [],
   "source": []
  },
  {
   "cell_type": "code",
   "execution_count": null,
   "metadata": {},
   "outputs": [],
   "source": []
  }
 ],
 "metadata": {
  "kernelspec": {
   "display_name": "Python 3",
   "language": "python",
   "name": "python3"
  },
  "language_info": {
   "codemirror_mode": {
    "name": "ipython",
    "version": 3
   },
   "file_extension": ".py",
   "mimetype": "text/x-python",
   "name": "python",
   "nbconvert_exporter": "python",
   "pygments_lexer": "ipython3",
   "version": "3.8.11"
  }
 },
 "nbformat": 4,
 "nbformat_minor": 5
}
