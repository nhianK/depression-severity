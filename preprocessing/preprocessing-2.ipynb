{
 "cells": [
  {
   "cell_type": "code",
   "execution_count": 1,
   "id": "9e5ba485",
   "metadata": {},
   "outputs": [],
   "source": [
    "import pandas as pd"
   ]
  },
  {
   "cell_type": "code",
   "execution_count": 2,
   "id": "d07933f3",
   "metadata": {},
   "outputs": [],
   "source": [
    "import numpy as np"
   ]
  },
  {
   "cell_type": "code",
   "execution_count": 3,
   "id": "6ec555af",
   "metadata": {},
   "outputs": [],
   "source": [
    "dataset = pd.read_csv('../dataset.tsv', sep='\\t', encoding = 'utf-8')"
   ]
  },
  {
   "cell_type": "code",
   "execution_count": 4,
   "id": "b7cf7b8c",
   "metadata": {},
   "outputs": [
    {
     "data": {
      "text/html": [
       "<div>\n",
       "<style scoped>\n",
       "    .dataframe tbody tr th:only-of-type {\n",
       "        vertical-align: middle;\n",
       "    }\n",
       "\n",
       "    .dataframe tbody tr th {\n",
       "        vertical-align: top;\n",
       "    }\n",
       "\n",
       "    .dataframe thead th {\n",
       "        text-align: right;\n",
       "    }\n",
       "</style>\n",
       "<table border=\"1\" class=\"dataframe\">\n",
       "  <thead>\n",
       "    <tr style=\"text-align: right;\">\n",
       "      <th></th>\n",
       "      <th>Text</th>\n",
       "      <th>Severity_Scale</th>\n",
       "    </tr>\n",
       "  </thead>\n",
       "  <tbody>\n",
       "    <tr>\n",
       "      <th>4710</th>\n",
       "      <td>আমার অনেক দিন থেকেই নিজেকে খুব একা লাগে। আমার ...</td>\n",
       "      <td>4</td>\n",
       "    </tr>\n",
       "    <tr>\n",
       "      <th>4711</th>\n",
       "      <td>আমার বিচ্ছিন্ন হয়েছে এখন আমার কি করা উচিত?!😒😒😒...</td>\n",
       "      <td>1</td>\n",
       "    </tr>\n",
       "    <tr>\n",
       "      <th>4712</th>\n",
       "      <td>আপা, আমার বয়স ২০। আমি একটি মেয়ে। ছোট বেলা থেকে...</td>\n",
       "      <td>2</td>\n",
       "    </tr>\n",
       "    <tr>\n",
       "      <th>4713</th>\n",
       "      <td>মায়া আপা। আমি বিবাহ করছি। । ১১ মাস। বউ আমার ক...</td>\n",
       "      <td>1</td>\n",
       "    </tr>\n",
       "    <tr>\n",
       "      <th>4714</th>\n",
       "      <td>আমার প্রেমিক আমার সাথে সব করছে এখন জানতে পারলা...</td>\n",
       "      <td>1</td>\n",
       "    </tr>\n",
       "  </tbody>\n",
       "</table>\n",
       "</div>"
      ],
      "text/plain": [
       "                                                   Text Severity_Scale\n",
       "4710  আমার অনেক দিন থেকেই নিজেকে খুব একা লাগে। আমার ...              4\n",
       "4711  আমার বিচ্ছিন্ন হয়েছে এখন আমার কি করা উচিত?!😒😒😒...              1\n",
       "4712  আপা, আমার বয়স ২০। আমি একটি মেয়ে। ছোট বেলা থেকে...              2\n",
       "4713  মায়া আপা। আমি বিবাহ করছি। । ১১ মাস। বউ আমার ক...              1\n",
       "4714  আমার প্রেমিক আমার সাথে সব করছে এখন জানতে পারলা...              1"
      ]
     },
     "execution_count": 4,
     "metadata": {},
     "output_type": "execute_result"
    }
   ],
   "source": [
    "dataset.tail()"
   ]
  },
  {
   "cell_type": "code",
   "execution_count": 5,
   "id": "529b5a4c",
   "metadata": {},
   "outputs": [
    {
     "data": {
      "text/plain": [
       "array(['2', '3', '4', '1', 'eliminated', nan, 'rejected', 'meaningless',\n",
       "       'misuse', 'misuse or 2', '1 or 3', '2 or 3',\n",
       "       'do not read please delete', 'reject', '1 or 2', 'rejected delete',\n",
       "       '2, TEST', '4, TEST'], dtype=object)"
      ]
     },
     "execution_count": 5,
     "metadata": {},
     "output_type": "execute_result"
    }
   ],
   "source": [
    "dataset['Severity_Scale'].unique()"
   ]
  },
  {
   "cell_type": "code",
   "execution_count": 6,
   "id": "c56b3008",
   "metadata": {},
   "outputs": [],
   "source": [
    "values = np.array(['eliminated',\n",
    " 'rejected',\n",
    " 'meaningless',\n",
    " 'misuse',\n",
    " 'misuse or 2',\n",
    " '1 or 3',\n",
    " '2 or 3',\n",
    " 'do not read please delete',\n",
    " 'reject',\n",
    " '1 or 2',\n",
    " 'rejected delete',\n",
    " '2, TEST',\n",
    "  np.nan,\n",
    " '4, TEST'])"
   ]
  },
  {
   "cell_type": "code",
   "execution_count": 7,
   "id": "888782e5",
   "metadata": {},
   "outputs": [],
   "source": [
    "dataset_beta_0 = dataset.copy()"
   ]
  },
  {
   "cell_type": "code",
   "execution_count": 8,
   "id": "e205cb4b",
   "metadata": {},
   "outputs": [],
   "source": [
    "drop_index = []\n",
    "for val in values:\n",
    "    drop_index.append(list(dataset_beta_0[dataset_beta_0[\"Severity_Scale\"] == val].index))"
   ]
  },
  {
   "cell_type": "code",
   "execution_count": 9,
   "id": "78f169b8",
   "metadata": {},
   "outputs": [],
   "source": [
    "drop_index = [item for sublist in drop_index for item in sublist]"
   ]
  },
  {
   "cell_type": "code",
   "execution_count": 11,
   "id": "9850c5d1",
   "metadata": {},
   "outputs": [],
   "source": [
    "dataset_beta_1 = dataset_beta_0.drop(index=drop_index)"
   ]
  },
  {
   "cell_type": "code",
   "execution_count": 12,
   "id": "94a49fd9",
   "metadata": {},
   "outputs": [],
   "source": [
    "dataset_beta_1 = dataset_beta_1.reset_index()"
   ]
  },
  {
   "cell_type": "code",
   "execution_count": 13,
   "id": "fbe2e072",
   "metadata": {},
   "outputs": [],
   "source": [
    "dataset_beta_2 = dataset_beta_1.drop(columns=['index'])"
   ]
  },
  {
   "cell_type": "code",
   "execution_count": 14,
   "id": "3683e053",
   "metadata": {},
   "outputs": [
    {
     "data": {
      "text/html": [
       "<div>\n",
       "<style scoped>\n",
       "    .dataframe tbody tr th:only-of-type {\n",
       "        vertical-align: middle;\n",
       "    }\n",
       "\n",
       "    .dataframe tbody tr th {\n",
       "        vertical-align: top;\n",
       "    }\n",
       "\n",
       "    .dataframe thead th {\n",
       "        text-align: right;\n",
       "    }\n",
       "</style>\n",
       "<table border=\"1\" class=\"dataframe\">\n",
       "  <thead>\n",
       "    <tr style=\"text-align: right;\">\n",
       "      <th></th>\n",
       "      <th>Text</th>\n",
       "      <th>Severity_Scale</th>\n",
       "    </tr>\n",
       "  </thead>\n",
       "  <tbody>\n",
       "    <tr>\n",
       "      <th>0</th>\n",
       "      <td>কিভাবে  হতাশা থেকে রক্ষা পাওয়া যাবে</td>\n",
       "      <td>2</td>\n",
       "    </tr>\n",
       "    <tr>\n",
       "      <th>1</th>\n",
       "      <td>মাথা সঠিক কাজ করে না, মানসিক বিষন্বতা, দুঃসচিন...</td>\n",
       "      <td>3</td>\n",
       "    </tr>\n",
       "    <tr>\n",
       "      <th>2</th>\n",
       "      <td>আমি বেশ কিছুদিন যাবৎ অনেক ডিপ্রেসন এ আছি। আমার...</td>\n",
       "      <td>2</td>\n",
       "    </tr>\n",
       "    <tr>\n",
       "      <th>3</th>\n",
       "      <td>কোনো ভাবেই ডিপ্রেশন থেকে বেরিয়ে আসতে পারতেছি না</td>\n",
       "      <td>2</td>\n",
       "    </tr>\n",
       "    <tr>\n",
       "      <th>4</th>\n",
       "      <td>আমার বয়স ৩৪ বছর।জীবনে সবকিছু আমার মত করে পেতে ...</td>\n",
       "      <td>2</td>\n",
       "    </tr>\n",
       "    <tr>\n",
       "      <th>...</th>\n",
       "      <td>...</td>\n",
       "      <td>...</td>\n",
       "    </tr>\n",
       "    <tr>\n",
       "      <th>4672</th>\n",
       "      <td>আমার অনেক দিন থেকেই নিজেকে খুব একা লাগে। আমার ...</td>\n",
       "      <td>4</td>\n",
       "    </tr>\n",
       "    <tr>\n",
       "      <th>4673</th>\n",
       "      <td>আমার বিচ্ছিন্ন হয়েছে এখন আমার কি করা উচিত?!😒😒😒...</td>\n",
       "      <td>1</td>\n",
       "    </tr>\n",
       "    <tr>\n",
       "      <th>4674</th>\n",
       "      <td>আপা, আমার বয়স ২০। আমি একটি মেয়ে। ছোট বেলা থেকে...</td>\n",
       "      <td>2</td>\n",
       "    </tr>\n",
       "    <tr>\n",
       "      <th>4675</th>\n",
       "      <td>মায়া আপা। আমি বিবাহ করছি। । ১১ মাস। বউ আমার ক...</td>\n",
       "      <td>1</td>\n",
       "    </tr>\n",
       "    <tr>\n",
       "      <th>4676</th>\n",
       "      <td>আমার প্রেমিক আমার সাথে সব করছে এখন জানতে পারলা...</td>\n",
       "      <td>1</td>\n",
       "    </tr>\n",
       "  </tbody>\n",
       "</table>\n",
       "<p>4677 rows × 2 columns</p>\n",
       "</div>"
      ],
      "text/plain": [
       "                                                   Text Severity_Scale\n",
       "0                   কিভাবে  হতাশা থেকে রক্ষা পাওয়া যাবে              2\n",
       "1     মাথা সঠিক কাজ করে না, মানসিক বিষন্বতা, দুঃসচিন...              3\n",
       "2     আমি বেশ কিছুদিন যাবৎ অনেক ডিপ্রেসন এ আছি। আমার...              2\n",
       "3       কোনো ভাবেই ডিপ্রেশন থেকে বেরিয়ে আসতে পারতেছি না              2\n",
       "4     আমার বয়স ৩৪ বছর।জীবনে সবকিছু আমার মত করে পেতে ...              2\n",
       "...                                                 ...            ...\n",
       "4672  আমার অনেক দিন থেকেই নিজেকে খুব একা লাগে। আমার ...              4\n",
       "4673  আমার বিচ্ছিন্ন হয়েছে এখন আমার কি করা উচিত?!😒😒😒...              1\n",
       "4674  আপা, আমার বয়স ২০। আমি একটি মেয়ে। ছোট বেলা থেকে...              2\n",
       "4675  মায়া আপা। আমি বিবাহ করছি। । ১১ মাস। বউ আমার ক...              1\n",
       "4676  আমার প্রেমিক আমার সাথে সব করছে এখন জানতে পারলা...              1\n",
       "\n",
       "[4677 rows x 2 columns]"
      ]
     },
     "execution_count": 14,
     "metadata": {},
     "output_type": "execute_result"
    }
   ],
   "source": [
    "dataset_beta_2"
   ]
  },
  {
   "cell_type": "code",
   "execution_count": 15,
   "id": "6db6e216",
   "metadata": {},
   "outputs": [],
   "source": [
    "label_counts = dataset_beta_2['Severity_Scale'].value_counts()"
   ]
  },
  {
   "cell_type": "code",
   "execution_count": 16,
   "id": "e7ed1cec",
   "metadata": {},
   "outputs": [
    {
     "data": {
      "text/plain": [
       "1    2103\n",
       "2    1505\n",
       "3     616\n",
       "4     418\n",
       "Name: Severity_Scale, dtype: int64"
      ]
     },
     "execution_count": 16,
     "metadata": {},
     "output_type": "execute_result"
    }
   ],
   "source": [
    "label_counts"
   ]
  },
  {
   "cell_type": "code",
   "execution_count": 17,
   "id": "392ead64",
   "metadata": {},
   "outputs": [
    {
     "data": {
      "text/plain": [
       "'মাথা সঠিক কাজ করে না, মানসিক বিষন্বতা, দুঃসচিন্তা, একাকিত্ত, কোনো কিছু ভাল লাগে না, সব সময় মন খারাপ থাকে।'"
      ]
     },
     "execution_count": 17,
     "metadata": {},
     "output_type": "execute_result"
    }
   ],
   "source": [
    "dataset_beta_2.iloc[1,0]"
   ]
  },
  {
   "cell_type": "code",
   "execution_count": 18,
   "id": "b718406c",
   "metadata": {},
   "outputs": [
    {
     "data": {
      "text/plain": [
       "4677"
      ]
     },
     "execution_count": 18,
     "metadata": {},
     "output_type": "execute_result"
    }
   ],
   "source": [
    "dataset_beta_2.shape[0]"
   ]
  },
  {
   "cell_type": "code",
   "execution_count": null,
   "id": "ac0e4a61",
   "metadata": {},
   "outputs": [],
   "source": []
  },
  {
   "cell_type": "code",
   "execution_count": 28,
   "id": "89088653",
   "metadata": {},
   "outputs": [],
   "source": [
    "file=open(\"dataset1.txt\",\"w+\",encoding=\"utf-8\")\n",
    "for i in range(dataset_beta_2.shape[0]):\n",
    "    file.write(str(dataset_beta_2.iloc[i,0])+\"\\t\"+str(dataset_beta_2.iloc[i,1])+\"\\n\")\n",
    "file.close()"
   ]
  },
  {
   "cell_type": "code",
   "execution_count": null,
   "id": "9e902428",
   "metadata": {},
   "outputs": [],
   "source": []
  },
  {
   "cell_type": "code",
   "execution_count": null,
   "id": "6660c1d6",
   "metadata": {},
   "outputs": [],
   "source": []
  }
 ],
 "metadata": {
  "kernelspec": {
   "display_name": "Python 3.10.4 64-bit",
   "language": "python",
   "name": "python3"
  },
  "language_info": {
   "codemirror_mode": {
    "name": "ipython",
    "version": 3
   },
   "file_extension": ".py",
   "mimetype": "text/x-python",
   "name": "python",
   "nbconvert_exporter": "python",
   "pygments_lexer": "ipython3",
   "version": "3.10.4"
  },
  "vscode": {
   "interpreter": {
    "hash": "916dbcbb3f70747c44a77c7bcd40155683ae19c65e1c03b4aa3499c5328201f1"
   }
  }
 },
 "nbformat": 4,
 "nbformat_minor": 5
}
