{
 "cells": [
  {
   "cell_type": "code",
   "execution_count": null,
   "id": "worldwide-carry",
   "metadata": {},
   "outputs": [],
   "source": [
    "import re\n",
    "import pandas as pd"
   ]
  },
  {
   "cell_type": "code",
   "execution_count": 55,
   "id": "incredible-stability",
   "metadata": {},
   "outputs": [],
   "source": [
    "bangla_c = open('bangla_corpus.txt', 'r', encoding = 'utf-8')\n",
    "pattern = r'\\b[a-zA-Z0-9*@#$%^&=_+]+\\b'"
   ]
  },
  {
   "cell_type": "code",
   "execution_count": 56,
   "id": "fitted-operations",
   "metadata": {},
   "outputs": [],
   "source": [
    "i = 0\n",
    "file_2 = open('eng_bng.txt', 'w+', encoding='utf-8')\n",
    "index = []\n",
    "for line in bangla_c:\n",
    "    word_lis = re.findall(pattern, line)\n",
    "    if len(word_lis)>0:\n",
    "        file_2.write(line)\n",
    "        index.append(i)\n",
    "    i = i+1\n",
    "        \n",
    "bangla_c.close()\n",
    "file_2.close()"
   ]
  },
  {
   "cell_type": "code",
   "execution_count": 58,
   "id": "continuing-blanket",
   "metadata": {},
   "outputs": [],
   "source": [
    "not_inc = [i for i in range(0, 5385) if i not in index]"
   ]
  },
  {
   "cell_type": "code",
   "execution_count": 61,
   "id": "fluid-confidence",
   "metadata": {},
   "outputs": [],
   "source": [
    "liii = []\n",
    "bangla_c = open('bangla_corpus.txt', 'r', encoding = 'utf-8')\n",
    "for line in bangla_c:\n",
    "    l=line\n",
    "    l=l.replace('\\n','')\n",
    "    liii.append(l)\n",
    "bangla_c.close()"
   ]
  },
  {
   "cell_type": "code",
   "execution_count": 63,
   "id": "constant-truth",
   "metadata": {},
   "outputs": [],
   "source": [
    "df = pd.DataFrame(data = liii).iloc[:,0].values\n",
    "df = df[not_inc]"
   ]
  },
  {
   "cell_type": "code",
   "execution_count": 65,
   "id": "orange-montgomery",
   "metadata": {},
   "outputs": [],
   "source": [
    "file_3 = open('khati_bangla.txt', 'w+', encoding='utf-8')\n",
    "for line in df:\n",
    "    file_3.write(line+'\\n')\n",
    "file_3.close()"
   ]
  },
  {
   "cell_type": "code",
   "execution_count": null,
   "id": "enclosed-clarity",
   "metadata": {},
   "outputs": [],
   "source": []
  }
 ],
 "metadata": {
  "kernelspec": {
   "display_name": "Python 3.10.4 64-bit",
   "language": "python",
   "name": "python3"
  },
  "language_info": {
   "codemirror_mode": {
    "name": "ipython",
    "version": 3
   },
   "file_extension": ".py",
   "mimetype": "text/x-python",
   "name": "python",
   "nbconvert_exporter": "python",
   "pygments_lexer": "ipython3",
   "version": "3.10.4"
  },
  "vscode": {
   "interpreter": {
    "hash": "916dbcbb3f70747c44a77c7bcd40155683ae19c65e1c03b4aa3499c5328201f1"
   }
  }
 },
 "nbformat": 4,
 "nbformat_minor": 5
}
